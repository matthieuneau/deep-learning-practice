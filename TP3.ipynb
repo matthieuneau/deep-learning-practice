{
 "cells": [
  {
   "cell_type": "markdown",
   "metadata": {
    "cell_ktag": "CeIiDvQzU6lQ"
   },
   "source": [
    "# TP 3  : Graph Neural Networks Architecture\n",
    "\n",
    "**Théo Rudkiewicz, Cyriaque Rousselot**"
   ]
  },
  {
   "cell_type": "markdown",
   "metadata": {
    "cell_ktag": "CeIiDvQzU6lQ"
   },
   "source": [
    "# TUTORIAL"
   ]
  },
  {
   "cell_type": "markdown",
   "metadata": {
    "cell_ktag": "CeIiDvQzU6lQ"
   },
   "source": [
    "### Install Pytorch Geometric\n",
    "\n",
    "To handle graph data, we use the library Pytorch Geometric : https://pytorch-geometric.readthedocs.io/en/latest/\n",
    "\n",
    "*   If you use _Google Colab_, simply run the following cell to install Pytorch Geometric (**advised**).\n",
    "*   If you plan using your _own environment_, follow the documentation to install Pytorch Geometric : https://pytorch-geometric.readthedocs.io/en/latest/install/installation.html and skip the following cell."
   ]
  },
  {
   "cell_type": "code",
   "execution_count": 8,
   "metadata": {
    "cell_ktag": "CeIiDvQzU6lQ"
   },
   "outputs": [],
   "source": [
    "# ########## INSTALL TORCH GEOMETRIC ##################\n",
    "# # https://pytorch-geometric.readthedocs.io/en/latest/\n",
    "# #####################################################\n",
    "# import torch\n",
    "\n",
    "\n",
    "# def format_pytorch_version(version):\n",
    "#     return version.split(\"+\")[0]\n",
    "\n",
    "\n",
    "# TORCH_version = torch.__version__\n",
    "# TORCH = format_pytorch_version(TORCH_version)\n",
    "\n",
    "\n",
    "# def format_cuda_version(version):\n",
    "#     return \"cu\" + version.replace(\".\", \"\")\n",
    "\n",
    "\n",
    "# CUDA_version = torch.version.cuda\n",
    "# CUDA = format_cuda_version(CUDA_version)\n",
    "\n",
    "# !pip install torch-scatter     -f https://pytorch-geometric.com/whl/torch-{TORCH}+{CUDA}.html\n",
    "# !pip install torch-sparse      -f https://pytorch-geometric.com/whl/torch-{TORCH}+{CUDA}.html\n",
    "# !pip install torch-cluster     -f https://pytorch-geometric.com/whl/torch-{TORCH}+{CUDA}.html\n",
    "# !pip install torch-spline-conv -f https://pytorch-geometric.com/whl/torch-{TORCH}+{CUDA}.html\n",
    "# !pip install torch-geometric\n"
   ]
  },
  {
   "cell_type": "markdown",
   "metadata": {
    "cell_ktag": "CeIiDvQzU6lQ"
   },
   "source": [
    "### Import required packages\n",
    "\n",
    "Run the following cell to import all required packages. This cell **must not** be modified.\n",
    "\n",
    "To significantly accelerate your training, it is advised to use GPU. Using Google Colab, you need to activate it : \n",
    "\n",
    "*   Edit --> Notebook Setting --> Hardware accelerator --> GPU"
   ]
  },
  {
   "cell_type": "code",
   "execution_count": 9,
   "metadata": {
    "cell_ktag": "CeIiDvQzU6lQ"
   },
   "outputs": [],
   "source": [
    "import numpy as np\n",
    "import matplotlib.pyplot as plt\n",
    "\n",
    "import torch\n",
    "import torch.nn as nn\n",
    "import torch_geometric.nn as graphnn\n",
    "from sklearn.metrics import f1_score\n",
    "from torch_geometric.datasets import PPI\n",
    "from torch_geometric.loader import DataLoader"
   ]
  },
  {
   "cell_type": "markdown",
   "metadata": {
    "cell_ktag": "CeIiDvQzU6lQ"
   },
   "source": [
    "### Dataset\n",
    "\n",
    "We use the Protein-Protein Interaction (PPI) network dataset which includes:\n",
    "- 20 graphs for training \n",
    "- 2 graphs for validation\n",
    "- 2 graphs for testing\n",
    "\n",
    "One graph of the PPI dataset has on average 2372 nodes. Each node has:\n",
    "- 50 features : positional gene sets / motif gene / immunological signatures ...\n",
    "- 121 (binary) labels : gene ontology sets (way to classify gene products like proteins).\n",
    "\n",
    "**This problem aims to predict, for a given PPI graph, the correct nodes' labels**.\n",
    "\n",
    "**It is a node (multi-label) classification task** (trained using supervised learning, with labels to be predicted for each node). \n",
    "\n",
    "For your curiosity, more detailed information on the dataset and some applications:\n",
    "- https://cs.stanford.edu/~jure/pubs/pathways-psb18.pdf\n",
    "- https://arxiv.org/abs/1707.04638\n",
    "\n",
    "To understand how a graph data is implemented in Pytorch Geometric, refer to : https://pytorch-geometric.readthedocs.io/en/latest/get_started/introduction.html\n"
   ]
  },
  {
   "cell_type": "code",
   "execution_count": 3,
   "metadata": {
    "cell_ktag": "CeIiDvQzU6lQ"
   },
   "outputs": [
    {
     "name": "stdout",
     "output_type": "stream",
     "text": [
      "Number of samples in the train dataset:  20\n",
      "Number of samples in the val dataset:  2\n",
      "Number of samples in the test dataset:  2\n",
      "Output of one sample from the train dataset:  Data(x=[1767, 50], edge_index=[2, 32318], y=[1767, 121])\n",
      "Edge_index :\n",
      "tensor([[   0,    0,    0,  ..., 1744, 1745, 1749],\n",
      "        [ 372, 1101,  766,  ..., 1745, 1744, 1739]])\n",
      "Number of features per node:  50\n",
      "Number of classes per node:  121\n",
      "tensor([[1., 0., 0.,  ..., 1., 1., 0.],\n",
      "        [1., 0., 0.,  ..., 1., 1., 1.],\n",
      "        [1., 1., 1.,  ..., 0., 0., 0.],\n",
      "        ...,\n",
      "        [0., 0., 0.,  ..., 0., 0., 0.],\n",
      "        [0., 0., 0.,  ..., 0., 0., 0.],\n",
      "        [1., 0., 0.,  ..., 0., 0., 0.]])\n"
     ]
    }
   ],
   "source": [
    "### LOAD DATASETS\n",
    "\n",
    "BATCH_SIZE = 2\n",
    "\n",
    "# Train Dataset\n",
    "train_dataset = PPI(root=\"\", split=\"train\")\n",
    "train_dataloader = DataLoader(train_dataset, batch_size=BATCH_SIZE)\n",
    "# Val Dataset\n",
    "val_dataset = PPI(root=\"\", split=\"val\")\n",
    "val_dataloader = DataLoader(val_dataset, batch_size=BATCH_SIZE)\n",
    "# Test Dataset\n",
    "test_dataset = PPI(root=\"\", split=\"test\")\n",
    "test_dataloader = DataLoader(test_dataset, batch_size=BATCH_SIZE)\n",
    "\n",
    "# Number of features and classes\n",
    "n_features, n_classes = train_dataset[0].x.shape[1], train_dataset[0].y.shape[1]\n",
    "\n",
    "print(\"Number of samples in the train dataset: \", len(train_dataset))\n",
    "print(\"Number of samples in the val dataset: \", len(test_dataset))\n",
    "print(\"Number of samples in the test dataset: \", len(test_dataset))\n",
    "print(\"Output of one sample from the train dataset: \", train_dataset[0])\n",
    "print(\"Edge_index :\")\n",
    "print(train_dataset[0].edge_index)\n",
    "print(\"Number of features per node: \", n_features)\n",
    "print(\"Number of classes per node: \", n_classes)\n",
    "print(train_dataset[0].y)"
   ]
  },
  {
   "cell_type": "markdown",
   "metadata": {
    "cell_ktag": "CeIiDvQzU6lQ"
   },
   "source": [
    "### Define a basic Model"
   ]
  },
  {
   "cell_type": "markdown",
   "metadata": {
    "cell_ktag": "CeIiDvQzU6lQ"
   },
   "source": [
    "Here we define a very simple Graph Neural Network model which will be used as our baseline. This model consists of three graph convolutional layers (from https://arxiv.org/pdf/1609.02907.pdf). The first two layers computes 256 features, followed by an ELU activation function. The last layer is used for (multi-label) classification task, computing 121 features (for each node)."
   ]
  },
  {
   "cell_type": "code",
   "execution_count": 4,
   "metadata": {
    "cell_ktag": "CeIiDvQzU6lQ"
   },
   "outputs": [],
   "source": [
    "#####################################################\n",
    "################## MODEL ############################\n",
    "#####################################################\n",
    "class BasicGraphModel(nn.Module):\n",
    "    def __init__(self, input_size, hidden_size, output_size):\n",
    "        super().__init__()\n",
    "\n",
    "        self.graphconv1 = graphnn.GCNConv(input_size, hidden_size)\n",
    "        self.graphconv2 = graphnn.GCNConv(hidden_size, hidden_size)\n",
    "        self.graphconv3 = graphnn.GCNConv(hidden_size, output_size)\n",
    "\n",
    "        self.elu = nn.ELU()\n",
    "\n",
    "    def forward(self, x, edge_index):\n",
    "        x = self.graphconv1(x, edge_index)\n",
    "        x = self.elu(x)\n",
    "        x = self.graphconv2(x, edge_index)\n",
    "        x = self.elu(x)\n",
    "        x = self.graphconv3(x, edge_index)\n",
    "\n",
    "        return x"
   ]
  },
  {
   "cell_type": "markdown",
   "metadata": {
    "cell_ktag": "CeIiDvQzU6lQ"
   },
   "source": [
    "Next function is designed to evaluate the performance of the model, computing the F1-Score"
   ]
  },
  {
   "cell_type": "code",
   "execution_count": 5,
   "metadata": {
    "cell_ktag": "CeIiDvQzU6lQ"
   },
   "outputs": [],
   "source": [
    "#####################################################\n",
    "############### TEST FUNCTION #######################\n",
    "#####################################################\n",
    "def evaluate(model, loss_fcn, device, dataloader):\n",
    "    score_list_batch = []\n",
    "\n",
    "    model.eval()\n",
    "    for i, batch in enumerate(dataloader):\n",
    "        batch = batch.to(device)\n",
    "        output = model(batch.x, batch.edge_index)\n",
    "        loss_test = loss_fcn(output, batch.y)\n",
    "        predict = np.where(output.detach().cpu().numpy() >= 0, 1, 0)\n",
    "        score = f1_score(batch.y.cpu().numpy(), predict, average=\"micro\")\n",
    "        score_list_batch.append(score)\n",
    "\n",
    "    return np.array(score_list_batch).mean()"
   ]
  },
  {
   "cell_type": "markdown",
   "metadata": {
    "cell_ktag": "CeIiDvQzU6lQ"
   },
   "source": [
    "Next we construct the function to train the model."
   ]
  },
  {
   "cell_type": "code",
   "execution_count": 6,
   "metadata": {
    "cell_ktag": "CeIiDvQzU6lQ"
   },
   "outputs": [],
   "source": [
    "#####################################################\n",
    "############## TRAIN FUNCTION #######################\n",
    "#####################################################\n",
    "def train(model, loss_fcn, device, optimizer, max_epochs, train_dataloader, val_dataloader):\n",
    "    epoch_list = []\n",
    "    scores_list = []\n",
    "\n",
    "    for epoch in range(max_epochs):\n",
    "        model.train()\n",
    "        losses = []\n",
    "        for i, train_batch in enumerate(train_dataloader):\n",
    "            optimizer.zero_grad()\n",
    "            train_batch_device = train_batch.to(device)\n",
    "            logits = model(train_batch_device.x, train_batch_device.edge_index)\n",
    "            loss = loss_fcn(logits, train_batch_device.y)\n",
    "            loss.backward()\n",
    "            optimizer.step()\n",
    "            losses.append(loss.item())\n",
    "        loss_data = np.array(losses).mean()\n",
    "        print(\"Epoch {:05d} | Loss: {:.4f}\".format(epoch + 1, loss_data))\n",
    "\n",
    "        if epoch % 5 == 0:\n",
    "            score = evaluate(model, loss_fcn, device, val_dataloader)\n",
    "            print(\"F1-Score: {:.4f}\".format(score))\n",
    "            scores_list.append(score)\n",
    "            epoch_list.append(epoch)\n",
    "\n",
    "    return epoch_list, scores_list"
   ]
  },
  {
   "cell_type": "markdown",
   "metadata": {
    "cell_ktag": "CeIiDvQzU6lQ"
   },
   "source": [
    "Let's train this model !"
   ]
  },
  {
   "cell_type": "code",
   "execution_count": null,
   "metadata": {
    "cell_ktag": "CeIiDvQzU6lQ"
   },
   "outputs": [
    {
     "name": "stdout",
     "output_type": "stream",
     "text": [
      "\n",
      "Device:  cpu\n",
      "Epoch 00001 | Loss: 0.6371\n",
      "F1-Score: 0.4521\n",
      "Epoch 00002 | Loss: 0.5805\n",
      "Epoch 00003 | Loss: 0.5613\n",
      "Epoch 00004 | Loss: 0.5555\n",
      "Epoch 00005 | Loss: 0.5505\n",
      "Epoch 00006 | Loss: 0.5461\n",
      "F1-Score: 0.5103\n",
      "Epoch 00007 | Loss: 0.5422\n",
      "Epoch 00008 | Loss: 0.5376\n",
      "Epoch 00009 | Loss: 0.5339\n",
      "Epoch 00010 | Loss: 0.5310\n",
      "Epoch 00011 | Loss: 0.5283\n",
      "F1-Score: 0.5210\n",
      "Epoch 00012 | Loss: 0.5258\n",
      "Epoch 00013 | Loss: 0.5234\n",
      "Epoch 00014 | Loss: 0.5211\n",
      "Epoch 00015 | Loss: 0.5188\n",
      "Epoch 00016 | Loss: 0.5166\n",
      "F1-Score: 0.5367\n",
      "Epoch 00017 | Loss: 0.5144\n",
      "Epoch 00018 | Loss: 0.5123\n",
      "Epoch 00019 | Loss: 0.5103\n",
      "Epoch 00020 | Loss: 0.5083\n",
      "Epoch 00021 | Loss: 0.5064\n",
      "F1-Score: 0.5433\n",
      "Epoch 00022 | Loss: 0.5047\n",
      "Epoch 00023 | Loss: 0.5032\n",
      "Epoch 00024 | Loss: 0.5017\n",
      "Epoch 00025 | Loss: 0.5004\n",
      "Epoch 00026 | Loss: 0.4984\n",
      "F1-Score: 0.5214\n",
      "Epoch 00027 | Loss: 0.4957\n",
      "Epoch 00028 | Loss: 0.4944\n",
      "Epoch 00029 | Loss: 0.4929\n",
      "Epoch 00030 | Loss: 0.4904\n",
      "Epoch 00031 | Loss: 0.4884\n",
      "F1-Score: 0.5457\n",
      "Epoch 00032 | Loss: 0.4862\n",
      "Epoch 00033 | Loss: 0.4841\n",
      "Epoch 00034 | Loss: 0.4825\n",
      "Epoch 00035 | Loss: 0.4810\n",
      "Epoch 00036 | Loss: 0.4798\n",
      "F1-Score: 0.5551\n",
      "Epoch 00037 | Loss: 0.4787\n",
      "Epoch 00038 | Loss: 0.4773\n",
      "Epoch 00039 | Loss: 0.4757\n",
      "Epoch 00040 | Loss: 0.4744\n",
      "Epoch 00041 | Loss: 0.4729\n",
      "F1-Score: 0.5572\n",
      "Epoch 00042 | Loss: 0.4715\n",
      "Epoch 00043 | Loss: 0.4703\n",
      "Epoch 00044 | Loss: 0.4689\n",
      "Epoch 00045 | Loss: 0.4683\n",
      "Epoch 00046 | Loss: 0.4667\n",
      "F1-Score: 0.5769\n",
      "Epoch 00047 | Loss: 0.4653\n",
      "Epoch 00048 | Loss: 0.4637\n",
      "Epoch 00049 | Loss: 0.4621\n",
      "Epoch 00050 | Loss: 0.4613\n",
      "Epoch 00051 | Loss: 0.4604\n",
      "F1-Score: 0.5696\n",
      "Epoch 00052 | Loss: 0.4589\n",
      "Epoch 00053 | Loss: 0.4584\n",
      "Epoch 00054 | Loss: 0.4572\n",
      "Epoch 00055 | Loss: 0.4576\n",
      "Epoch 00056 | Loss: 0.4563\n",
      "F1-Score: 0.5843\n",
      "Epoch 00057 | Loss: 0.4554\n",
      "Epoch 00058 | Loss: 0.4549\n",
      "Epoch 00059 | Loss: 0.4552\n",
      "Epoch 00060 | Loss: 0.4541\n",
      "Epoch 00061 | Loss: 0.4533\n",
      "F1-Score: 0.5833\n",
      "Epoch 00062 | Loss: 0.4516\n",
      "Epoch 00063 | Loss: 0.4502\n",
      "Epoch 00064 | Loss: 0.4494\n",
      "Epoch 00065 | Loss: 0.4477\n",
      "Epoch 00066 | Loss: 0.4461\n",
      "F1-Score: 0.5898\n",
      "Epoch 00067 | Loss: 0.4453\n",
      "Epoch 00068 | Loss: 0.4444\n",
      "Epoch 00069 | Loss: 0.4444\n",
      "Epoch 00070 | Loss: 0.4432\n",
      "Epoch 00071 | Loss: 0.4426\n",
      "F1-Score: 0.6033\n",
      "Epoch 00072 | Loss: 0.4427\n",
      "Epoch 00073 | Loss: 0.4428\n",
      "Epoch 00074 | Loss: 0.4421\n",
      "Epoch 00075 | Loss: 0.4418\n",
      "Epoch 00076 | Loss: 0.4413\n",
      "F1-Score: 0.5823\n",
      "Epoch 00077 | Loss: 0.4409\n",
      "Epoch 00078 | Loss: 0.4408\n",
      "Epoch 00079 | Loss: 0.4397\n",
      "Epoch 00080 | Loss: 0.4394\n",
      "Epoch 00081 | Loss: 0.4381\n",
      "F1-Score: 0.5916\n",
      "Epoch 00082 | Loss: 0.4378\n",
      "Epoch 00083 | Loss: 0.4375\n",
      "Epoch 00084 | Loss: 0.4372\n",
      "Epoch 00085 | Loss: 0.4371\n",
      "Epoch 00086 | Loss: 0.4381\n",
      "F1-Score: 0.5744\n",
      "Epoch 00087 | Loss: 0.4377\n",
      "Epoch 00088 | Loss: 0.4383\n",
      "Epoch 00089 | Loss: 0.4376\n",
      "Epoch 00090 | Loss: 0.4375\n",
      "Epoch 00091 | Loss: 0.4368\n",
      "F1-Score: 0.5995\n",
      "Epoch 00092 | Loss: 0.4362\n",
      "Epoch 00093 | Loss: 0.4348\n",
      "Epoch 00094 | Loss: 0.4336\n",
      "Epoch 00095 | Loss: 0.4317\n",
      "Epoch 00096 | Loss: 0.4320\n",
      "F1-Score: 0.5982\n",
      "Epoch 00097 | Loss: 0.4317\n",
      "Epoch 00098 | Loss: 0.4303\n",
      "Epoch 00099 | Loss: 0.4306\n",
      "Epoch 00100 | Loss: 0.4303\n",
      "Epoch 00101 | Loss: 0.4326\n",
      "F1-Score: 0.5981\n",
      "Epoch 00102 | Loss: 0.4331\n",
      "Epoch 00103 | Loss: 0.4323\n",
      "Epoch 00104 | Loss: 0.4308\n",
      "Epoch 00105 | Loss: 0.4299\n",
      "Epoch 00106 | Loss: 0.4300\n",
      "F1-Score: 0.5929\n",
      "Epoch 00107 | Loss: 0.4284\n",
      "Epoch 00108 | Loss: 0.4274\n",
      "Epoch 00109 | Loss: 0.4254\n",
      "Epoch 00110 | Loss: 0.4250\n",
      "Epoch 00111 | Loss: 0.4243\n",
      "F1-Score: 0.5862\n",
      "Epoch 00112 | Loss: 0.4239\n",
      "Epoch 00113 | Loss: 0.4246\n",
      "Epoch 00114 | Loss: 0.4260\n",
      "Epoch 00115 | Loss: 0.4292\n",
      "Epoch 00116 | Loss: 0.4329\n",
      "F1-Score: 0.6254\n",
      "Epoch 00117 | Loss: 0.4370\n",
      "Epoch 00118 | Loss: 0.4405\n",
      "Epoch 00119 | Loss: 0.4366\n",
      "Epoch 00120 | Loss: 0.4352\n",
      "Epoch 00121 | Loss: 0.4391\n",
      "F1-Score: 0.5882\n",
      "Epoch 00122 | Loss: 0.4303\n",
      "Epoch 00123 | Loss: 0.4299\n",
      "Epoch 00124 | Loss: 0.4247\n",
      "Epoch 00125 | Loss: 0.4255\n",
      "Epoch 00126 | Loss: 0.4247\n",
      "F1-Score: 0.6269\n",
      "Epoch 00127 | Loss: 0.4230\n",
      "Epoch 00128 | Loss: 0.4221\n",
      "Epoch 00129 | Loss: 0.4202\n",
      "Epoch 00130 | Loss: 0.4197\n",
      "Epoch 00131 | Loss: 0.4183\n",
      "F1-Score: 0.6242\n",
      "Epoch 00132 | Loss: 0.4170\n",
      "Epoch 00133 | Loss: 0.4158\n",
      "Epoch 00134 | Loss: 0.4143\n",
      "Epoch 00135 | Loss: 0.4133\n",
      "Epoch 00136 | Loss: 0.4125\n",
      "F1-Score: 0.6223\n",
      "Epoch 00137 | Loss: 0.4120\n",
      "Epoch 00138 | Loss: 0.4111\n",
      "Epoch 00139 | Loss: 0.4105\n",
      "Epoch 00140 | Loss: 0.4105\n",
      "Epoch 00141 | Loss: 0.4099\n",
      "F1-Score: 0.6302\n",
      "Epoch 00142 | Loss: 0.4097\n",
      "Epoch 00143 | Loss: 0.4091\n",
      "Epoch 00144 | Loss: 0.4089\n",
      "Epoch 00145 | Loss: 0.4089\n",
      "Epoch 00146 | Loss: 0.4081\n",
      "F1-Score: 0.6326\n",
      "Epoch 00147 | Loss: 0.4088\n",
      "Epoch 00148 | Loss: 0.4085\n",
      "Epoch 00149 | Loss: 0.4085\n",
      "Epoch 00150 | Loss: 0.4096\n",
      "Epoch 00151 | Loss: 0.4120\n",
      "F1-Score: 0.6337\n",
      "Epoch 00152 | Loss: 0.4160\n",
      "Epoch 00153 | Loss: 0.4158\n",
      "Epoch 00154 | Loss: 0.4162\n",
      "Epoch 00155 | Loss: 0.4172\n",
      "Epoch 00156 | Loss: 0.4169\n",
      "F1-Score: 0.6312\n",
      "Epoch 00157 | Loss: 0.4151\n",
      "Epoch 00158 | Loss: 0.4131\n",
      "Epoch 00159 | Loss: 0.4112\n",
      "Epoch 00160 | Loss: 0.4099\n",
      "Epoch 00161 | Loss: 0.4102\n",
      "F1-Score: 0.6350\n",
      "Epoch 00162 | Loss: 0.4081\n",
      "Epoch 00163 | Loss: 0.4074\n",
      "Epoch 00164 | Loss: 0.4068\n",
      "Epoch 00165 | Loss: 0.4069\n",
      "Epoch 00166 | Loss: 0.4062\n",
      "F1-Score: 0.6441\n",
      "Epoch 00167 | Loss: 0.4068\n",
      "Epoch 00168 | Loss: 0.4056\n",
      "Epoch 00169 | Loss: 0.4057\n",
      "Epoch 00170 | Loss: 0.4052\n",
      "Epoch 00171 | Loss: 0.4058\n",
      "F1-Score: 0.6581\n",
      "Epoch 00172 | Loss: 0.4046\n",
      "Epoch 00173 | Loss: 0.4051\n",
      "Epoch 00174 | Loss: 0.4058\n",
      "Epoch 00175 | Loss: 0.4056\n",
      "Epoch 00176 | Loss: 0.4073\n",
      "F1-Score: 0.6506\n",
      "Epoch 00177 | Loss: 0.4095\n",
      "Epoch 00178 | Loss: 0.4095\n",
      "Epoch 00179 | Loss: 0.4097\n",
      "Epoch 00180 | Loss: 0.4116\n",
      "Epoch 00181 | Loss: 0.4204\n",
      "F1-Score: 0.6289\n",
      "Epoch 00182 | Loss: 0.4165\n",
      "Epoch 00183 | Loss: 0.4188\n",
      "Epoch 00184 | Loss: 0.4200\n",
      "Epoch 00185 | Loss: 0.4174\n",
      "Epoch 00186 | Loss: 0.4202\n",
      "F1-Score: 0.5951\n",
      "Epoch 00187 | Loss: 0.4206\n",
      "Epoch 00188 | Loss: 0.4239\n",
      "Epoch 00189 | Loss: 0.4255\n",
      "Epoch 00190 | Loss: 0.4185\n",
      "Epoch 00191 | Loss: 0.4141\n",
      "F1-Score: 0.6437\n",
      "Epoch 00192 | Loss: 0.4141\n",
      "Epoch 00193 | Loss: 0.4142\n",
      "Epoch 00194 | Loss: 0.4122\n",
      "Epoch 00195 | Loss: 0.4110\n",
      "Epoch 00196 | Loss: 0.4084\n",
      "F1-Score: 0.6510\n",
      "Epoch 00197 | Loss: 0.4062\n",
      "Epoch 00198 | Loss: 0.4044\n",
      "Epoch 00199 | Loss: 0.4065\n",
      "Epoch 00200 | Loss: 0.4056\n"
     ]
    }
   ],
   "source": [
    "device = torch.device(\"cuda\" if torch.cuda.is_available() else \"cpu\")\n",
    "print(\"\\nDevice: \", device)\n",
    "\n",
    "max_epochs = 200\n",
    "\n",
    "# basic_model = BasicGraphModel(input_size=n_features, hidden_size=256, output_size=n_classes).to(device)\n",
    "\n",
    "loss_fcn = nn.BCEWithLogitsLoss()\n",
    "optimizer = torch.optim.Adam(basic_model.parameters(), lr=0.005)\n",
    "\n",
    "epoch_list, basic_model_scores = train(\n",
    "    basic_model,\n",
    "    loss_fcn,\n",
    "    device,\n",
    "    optimizer,\n",
    "    max_epochs,\n",
    "    train_dataloader,\n",
    "    val_dataloader,\n",
    ")"
   ]
  },
  {
   "cell_type": "markdown",
   "metadata": {
    "cell_ktag": "CeIiDvQzU6lQ"
   },
   "source": [
    "Let's evaluate the performance of this basic model"
   ]
  },
  {
   "cell_type": "code",
   "execution_count": null,
   "metadata": {
    "cell_ktag": "CeIiDvQzU6lQ"
   },
   "outputs": [],
   "source": [
    "### F1-SCORE ON VALID DATASET\n",
    "score_valid = evaluate(basic_model, loss_fcn, device, val_dataloader)\n",
    "print(\"Basic Model : F1-Score on the validation set: {:.4f}\".format(score_valid))\n",
    "\n",
    "\n",
    "### PLOT EVOLUTION OF F1-SCORE W.R.T EPOCHS\n",
    "def plot_f1_score(epoch_list, scores):\n",
    "    plt.figure(figsize=[10, 5])\n",
    "    plt.plot(epoch_list, scores)\n",
    "    plt.title(\"Evolution of F1-Score w.r.t epochs\")\n",
    "    plt.ylim([0.0, 1.0])\n",
    "    plt.show()\n",
    "\n",
    "\n",
    "plot_f1_score(epoch_list, basic_model_scores)"
   ]
  },
  {
   "cell_type": "markdown",
   "metadata": {
    "cell_ktag": "CeIiDvQzU6lQ"
   },
   "source": [
    "# QUESTIONS\n",
    "\n",
    "## Grading\n",
    "\n",
    "You will be graded on 5 questions. You will need to provide at least 4 files : \n",
    "1. This Notebook\n",
    "2. `class_model_gnn.py`\n",
    "3. `model.pth` (the file **must be of size less than 50Mo** but 20Mo should be enough to get a very good model)\n",
    "4. `conv_as_message_passing.py`\n",
    "\n",
    "If the function you defined passes all the tests, you will get the full grade. Otherwise we  will look at the intermediate questions in the notebook to give you partial credit.\n",
    "\n",
    "\n",
    "\n",
    " Please provide clear, short and __bold font__ answers.  "
   ]
  },
  {
   "cell_type": "markdown",
   "metadata": {
    "cell_ktag": "CeIiDvQzU6lQ"
   },
   "source": [
    "> Question 1 : Design, build and train a model with a F1-score higher than 93% on validation set (**HINT :** https://arxiv.org/pdf/1710.10903.pdf).\n"
   ]
  },
  {
   "cell_type": "markdown",
   "metadata": {
    "cell_ktag": "CeIiDvQzU6lQ"
   },
   "source": [
    " Provide two files : (https://pytorch.org/tutorials/beginner/saving_loading_models.html)\n",
    " -  a file  `class_model_gnn.py` containing the class inheriting from `torch.nn.Module` architecture of your final model to load\n",
    " -  a `model.pth` file : the model weights\n",
    " \n",
    " We will  test your model on final F1-Score on a test set. You must not use the test set for hyperparameter training.\n",
    " \n",
    "Intermediate question : \n",
    "\n",
    " Provide the script for training, and a plot of the training loss.  "
   ]
  },
  {
   "cell_type": "code",
   "execution_count": null,
   "metadata": {
    "cell_ktag": "CeIiDvQzU6lQ"
   },
   "outputs": [],
   "source": [
    "import torch\n",
    "import torch.nn as nn\n",
    "import torch.nn.functional as F\n",
    "\n",
    "\n",
    "# Define model ( in your class_model_gnn.py)\n",
    "class StudentModel(nn.Module):\n",
    "    def __init__(self):\n",
    "        super(StudentModel, self).__init__()\n",
    "        self.conv1 = nn.Conv2d(3, 6, 5)\n",
    "        self.pool = nn.MaxPool2d(2, 2)\n",
    "        self.conv2 = nn.Conv2d(6, 16, 5)\n",
    "        self.fc1 = nn.Linear(16 * 5 * 5, 120)\n",
    "        self.fc2 = nn.Linear(120, 84)\n",
    "        self.fc3 = nn.Linear(84, 10)\n",
    "\n",
    "    def forward(self, x):\n",
    "        x = self.pool(F.relu(self.conv1(x)))\n",
    "        x = self.pool(F.relu(self.conv2(x)))\n",
    "        x = x.view(-1, 16 * 5 * 5)\n",
    "        x = F.relu(self.fc1(x))\n",
    "        x = F.relu(self.fc2(x))\n",
    "        x = self.fc3(x)\n",
    "        return x\n",
    "\n",
    "\n",
    "# Initialize model\n",
    "model = StudentModel()\n",
    "\n",
    "## Save the model\n",
    "torch.save(model.state_dict(), \"model.pth\")\n",
    "\n",
    "\n",
    "### This is the part we will run in the inference to grade your model\n",
    "## Load the model\n",
    "model = StudentModel()  # !  Important : No argument\n",
    "model.load_state_dict(torch.load(\"model.pth\", weights_only=True))\n",
    "model.eval()\n",
    "print(\"Model loaded successfully\")\n"
   ]
  },
  {
   "cell_type": "markdown",
   "metadata": {
    "cell_ktag": "CeIiDvQzU6lQ"
   },
   "source": [
    "## Conv 2D as Message Passing Neural Network\n",
    "\n",
    "\n",
    "## Introduction\n",
    "\n",
    "The use of graph is a way to structure data by adding neighborhood information between features. This then allows to do operations on the data that are local to each node and its neighbors. This is the main idea behind Graph Neural Networks (GNNs). [`pytorch-geometric`](https://pytorch-geometric.readthedocs.io/en/latest/) is a library compatible with PyTorch that allows to easily implement GNNs. The most general structure is the [`MessagePassing`](https://pytorch-geometric.readthedocs.io/en/latest/generated/torch_geometric.nn.conv.MessagePassing.html#torch_geometric.nn.conv.MessagePassing) class that is then used as a base for more specific GNNs as seen in the course ([Graph Convolutional Networks](https://pytorch-geometric.readthedocs.io/en/latest/generated/torch_geometric.nn.conv.GCNConv.html#torch_geometric.nn.conv.GCNConv) or [Graph AttenTion Convolution](https://pytorch-geometric.readthedocs.io/en/latest/generated/torch_geometric.nn.conv.GATConv.html#torch_geometric.nn.conv.GATConv)).\n",
    "\n",
    "On the other hand, you already know an operation that uses the structure of the data to do local operations: the convolution (https://pytorch.org/docs/stable/generated/torch.nn.Conv2d.html). One can see the convolution as a specific case of the message passing neural network. The goal of this notebook is to show how to use the `MessagePassing` class to implement a convolutional neural network.\n",
    "You will be asked to implement 3 functions. You should give back those three functions in a file named `conv_as_message_passing.py`. These functions will then be automatically tested. So be sure to respect the function signature and the function name.\n",
    "\n",
    "\n",
    "## Assumptions\n",
    "\n",
    "To make the implementation easier we will make some assumptions:\n",
    "- the input is a single image (batch size of 1) of size 'C x H x W'\n",
    "- the convolution will be a 3x3 kernel with stride 1 and padding 1.\n",
    "\n",
    "You may also assume that the Conv2D layer has no bias but it will be slightly penalized in the grading.\n",
    "\n",
    "Bonus points will be given if you can handle the cases that are not covered by those assumptions.\n",
    "\n",
    "\n",
    "## Questions\n",
    "\n",
    "### Question 2\n",
    "\n",
    "> Using the formalism used in the [`MessagePassing`](https://pytorch-geometric.readthedocs.io/en/latest/generated/torch_geometric.nn.conv.MessagePassing.html#torch_geometric.nn.conv.MessagePassing) documentation (and on [wikipedia](https://en.wikipedia.org/wiki/Graph_neural_network#Message_passing_layers) with sligthly different notations), explain how theorically you can simulate a 2D convolution using the `MessagePassing` formalism. This may include a pre-processing step to transform the image into a graph and then a post-processing step to transform the graph back into an image. (:warning: Those steps should be independent of the parameters of the convolution, but not necessarily from the hyper-parameters.)\n",
    "$$\\mathbf{x}_{i}^{\\prime} = \\gamma_{\\mathbf{\\Theta}}\\left( \\mathbf{x}_{i},\\bigoplus\\limits_{j \\in \\mathcal{N}(i)}\\,\\phi_{\\mathbf{\\Theta}}\\left( \\mathbf{x}_{i},\\mathbf{x}_{j},\\mathbf{e}_{j,i} \\right) \\right),$$\n",
    "\n",
    "\n",
    "HINT : It is possible to do it with the following $\\gamma$ : \n",
    "\n",
    "$$ \\gamma_\\Theta : x,y \\mapsto y $$\n"
   ]
  },
  {
   "cell_type": "code",
   "execution_count": null,
   "metadata": {
    "cell_ktag": "CeIiDvQzU6lQ"
   },
   "outputs": [],
   "source": [
    "import torch\n",
    "import torch_geometric"
   ]
  },
  {
   "cell_type": "markdown",
   "metadata": {
    "cell_ktag": "CeIiDvQzU6lQ"
   },
   "source": [
    "### Question 3\n",
    "\n",
    "> Implement the pre-processing function, you can use the follwing code skeleton (you may change the output type, it is just a strong suggestion):"
   ]
  },
  {
   "cell_type": "code",
   "execution_count": null,
   "metadata": {
    "cell_ktag": "CeIiDvQzU6lQ"
   },
   "outputs": [],
   "source": [
    "def image_to_graph(\n",
    "    image: torch.Tensor, conv2d: torch.nn.Conv2d | None = None\n",
    ") -> torch_geometric.data.Data:\n",
    "    \"\"\"\n",
    "    Converts an image tensor to a PyTorch Geometric Data object.\n",
    "    COMPLETE\n",
    "\n",
    "    Arguments:\n",
    "    ----------\n",
    "    image : torch.Tensor\n",
    "        Image tensor of shape (C, H, W).\n",
    "    conv2d : torch.nn.Conv2d, optional\n",
    "        Conv2d layer to simulate, by default None\n",
    "        Is used to determine the size of the receptive field.\n",
    "\n",
    "    Returns:\n",
    "    --------\n",
    "    torch_geometric.data.Data\n",
    "        Graph representation of the image.\n",
    "    \"\"\"\n",
    "    # Assumptions (remove it for the bonus)\n",
    "    assert image.dim() == 3, f\"Expected 3D tensor, got {image.dim()}D tensor.\"\n",
    "    if conv2d is not None:\n",
    "        assert conv2d.padding[0] == conv2d.padding[1] == 1, \"Expected padding of 1 on both sides.\"\n",
    "        assert conv2d.kernel_size[0] == conv2d.kernel_size[1] == 3, \"Expected kernel size of 3x3.\"\n",
    "        assert conv2d.stride[0] == conv2d.stride[1] == 1, \"Expected stride of 1.\"\n",
    "\n",
    "    raise NotImplementedError"
   ]
  },
  {
   "cell_type": "markdown",
   "metadata": {
    "cell_ktag": "CeIiDvQzU6lQ"
   },
   "source": [
    "### Question 4\n",
    "\n",
    "> Implement the post-processing function, you can use the follwing code skeleton:"
   ]
  },
  {
   "cell_type": "code",
   "execution_count": null,
   "metadata": {
    "cell_ktag": "CeIiDvQzU6lQ"
   },
   "outputs": [],
   "source": [
    "def graph_to_image(\n",
    "    data: torch.Tensor, height: int, width: int, conv2d: torch.nn.Conv2d | None = None\n",
    ") -> torch.Tensor:\n",
    "    \"\"\"\n",
    "    Converts a graph representation of an image to an image tensor.\n",
    "\n",
    "    Arguments:\n",
    "    ----------\n",
    "    data : torch.Tensor\n",
    "        Graph data representation of the image.\n",
    "    height : int\n",
    "        Height of the image.\n",
    "    width : int\n",
    "        Width of the image.\n",
    "    conv2d : torch.nn.Conv2d, optional\n",
    "        Conv2d layer to simulate, by default None\n",
    "\n",
    "    Returns:\n",
    "    --------\n",
    "    torch.Tensor\n",
    "        Image tensor of shape (C, H, W).\n",
    "    \"\"\"\n",
    "    # Assumptions (remove it for the bonus)\n",
    "    assert data.dim() == 2, f\"Expected 2D tensor, got {data.dim()}D tensor.\"\n",
    "    if conv2d is not None:\n",
    "        assert conv2d.padding[0] == conv2d.padding[1] == 1, \"Expected padding of 1 on both sides.\"\n",
    "        assert conv2d.kernel_size[0] == conv2d.kernel_size[1] == 3, \"Expected kernel size of 3x3.\"\n",
    "        assert conv2d.stride[0] == conv2d.stride[1] == 1, \"Expected stride of 1.\"\n",
    "\n",
    "    raise NotImplementedError"
   ]
  },
  {
   "cell_type": "markdown",
   "metadata": {
    "cell_ktag": "CeIiDvQzU6lQ"
   },
   "source": [
    "#### Recommended test cases\n",
    "\n",
    "We **encourage** you to test that you have the property that the pre-processing function followed by the post-processing function is the identity function."
   ]
  },
  {
   "cell_type": "code",
   "execution_count": null,
   "metadata": {
    "cell_ktag": "CeIiDvQzU6lQ"
   },
   "outputs": [],
   "source": [
    "ref_conv = torch.nn.Conv2d(5, 7, kernel_size=3, padding=1, stride=1)\n",
    "image = torch.randn(5, 10, 11)\n",
    "g_image = image_to_graph(image, ref_conv)\n",
    "reconstructed_image = graph_to_image(g_image.x, 10, 11, ref_conv)\n",
    "assert torch.allclose(image, reconstructed_image)"
   ]
  },
  {
   "cell_type": "markdown",
   "metadata": {
    "cell_ktag": "CeIiDvQzU6lQ"
   },
   "source": [
    "### Question 5\n",
    "\n",
    "> Implement the `Conv2dMessagePassing` class that will simulate a 2D convolution using the `MessagePassing` formalism. \n",
    "You should inherit from the `MessagePassing` class and only change the `__init__` and `message` functions (the `forward` function has already been changed for you). You should use the following code skeleton:"
   ]
  },
  {
   "cell_type": "code",
   "execution_count": null,
   "metadata": {
    "cell_ktag": "CeIiDvQzU6lQ"
   },
   "outputs": [],
   "source": [
    "class Conv2dMessagePassing(torch_geometric.nn.MessagePassing):\n",
    "    \"\"\"\n",
    "    A Message Passing layer that simulates a given Conv2d layer.\n",
    "    \"\"\"\n",
    "\n",
    "    def __init__(self, conv2d: torch.nn.Conv2d):\n",
    "        # <TO IMPLEMENT>\n",
    "        # Don't forget to call the parent constructor with the correct aguments\n",
    "        # super().__init__(<arguments>)\n",
    "        # </TO IMPLEMENT>\n",
    "        raise NotImplementedError\n",
    "\n",
    "    def forward(self, data):\n",
    "        self.edge_index = data.edge_index\n",
    "\n",
    "        x, edge_index, edge_attr = data.x, data.edge_index, data.edge_attr\n",
    "        out = self.propagate(edge_index, x=x, edge_attr=edge_attr)\n",
    "        return out\n",
    "\n",
    "    def message(self, x_j: torch.Tensor, edge_attr: torch.Tensor) -> torch.Tensor:\n",
    "        \"\"\"\n",
    "        Computes the message to be passed for each edge.\n",
    "        For each edge e = (u, v) in the graph indexed by i,\n",
    "        the message trough the edge e (ie from node u to node v)\n",
    "        should be returned as the i-th line of the output tensor.\n",
    "        (The message is phi(u, v, e) in the formalism.)\n",
    "        To do this you can access the features of the source node\n",
    "        in x_j[i] and the attributes of the edge in edge_attr[i].\n",
    "\n",
    "        Arguments:\n",
    "        ----------\n",
    "        x_j : torch.Tensor\n",
    "            The features of the souce node for each edge (of size E x in_channels).\n",
    "        edge_attr : torch.Tensor\n",
    "            The attributes of the edge (of size E x edge_attr_dim).\n",
    "\n",
    "        Returns:\n",
    "        --------\n",
    "        torch.Tensor\n",
    "            The message to be passed for each edge (of size COMPLETE)\n",
    "        \"\"\"\n",
    "        raise NotImplementedError\n"
   ]
  },
  {
   "cell_type": "markdown",
   "metadata": {
    "cell_ktag": "CeIiDvQzU6lQ"
   },
   "source": [
    "## Test example"
   ]
  },
  {
   "cell_type": "code",
   "execution_count": null,
   "metadata": {
    "cell_ktag": "CeIiDvQzU6lQ"
   },
   "outputs": [],
   "source": [
    "from conv_as_message_passing import image_to_graph, graph_to_image, Conv2dMessagePassing\n",
    "\n",
    "c = 5\n",
    "h = 10\n",
    "w = 11\n",
    "\n",
    "ref_conv = torch.nn.Conv2d(c, 2, kernel_size=3, padding=1, stride=1, bias=False)\n",
    "image = torch.randn(c, h, w)\n",
    "g_image = image_to_graph(image, ref_conv)\n",
    "ref_conv.weight.data = torch.randn_like(ref_conv.weight.data)\n",
    "\n",
    "conv_mp = Conv2dMessagePassing(ref_conv)\n",
    "g_image = conv_mp(g_image)\n",
    "\n",
    "y_th = ref_conv(image)\n",
    "\n",
    "ref_conv.weight.data = torch.randn_like(ref_conv.weight.data)\n",
    "reconstructed_image = graph_to_image(g_image, h, w, ref_conv)\n",
    "\n",
    "assert torch.allclose(y_th, reconstructed_image, atol=1e-4)\n"
   ]
  }
 ],
 "metadata": {
  "kernelspec": {
   "display_name": "practice-labs-lU_vlk8p-py3.12",
   "language": "python",
   "name": "python3"
  },
  "kfiletag": "CeIiDvQzU6lQ",
  "language_info": {
   "codemirror_mode": {
    "name": "ipython",
    "version": 3
   },
   "file_extension": ".py",
   "mimetype": "text/x-python",
   "name": "python",
   "nbconvert_exporter": "python",
   "pygments_lexer": "ipython3",
   "version": "3.12.8"
  }
 },
 "nbformat": 4,
 "nbformat_minor": 2
}
