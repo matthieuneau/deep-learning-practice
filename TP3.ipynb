{
 "cells": [
  {
   "cell_type": "markdown",
   "metadata": {
    "cell_ktag": "CeIiDvQzU6lQ"
   },
   "source": [
    "# TP 3  : Graph Neural Networks Architecture\n",
    "\n",
    "**Théo Rudkiewicz, Cyriaque Rousselot**"
   ]
  },
  {
   "cell_type": "markdown",
   "metadata": {
    "cell_ktag": "CeIiDvQzU6lQ"
   },
   "source": [
    "# TUTORIAL"
   ]
  },
  {
   "cell_type": "markdown",
   "metadata": {
    "cell_ktag": "CeIiDvQzU6lQ"
   },
   "source": [
    "### Install Pytorch Geometric\n",
    "\n",
    "To handle graph data, we use the library Pytorch Geometric : https://pytorch-geometric.readthedocs.io/en/latest/\n",
    "\n",
    "*   If you use _Google Colab_, simply run the following cell to install Pytorch Geometric (**advised**).\n",
    "*   If you plan using your _own environment_, follow the documentation to install Pytorch Geometric : https://pytorch-geometric.readthedocs.io/en/latest/install/installation.html and skip the following cell."
   ]
  },
  {
   "cell_type": "code",
   "execution_count": 9,
   "metadata": {
    "cell_ktag": "CeIiDvQzU6lQ"
   },
   "outputs": [],
   "source": [
    "# ########## INSTALL TORCH GEOMETRIC ##################\n",
    "# # https://pytorch-geometric.readthedocs.io/en/latest/\n",
    "# #####################################################\n",
    "# import torch\n",
    "\n",
    "\n",
    "# def format_pytorch_version(version):\n",
    "#     return version.split(\"+\")[0]\n",
    "\n",
    "\n",
    "# TORCH_version = torch.__version__\n",
    "# TORCH = format_pytorch_version(TORCH_version)\n",
    "\n",
    "\n",
    "# def format_cuda_version(version):\n",
    "#     return \"cu\" + version.replace(\".\", \"\")\n",
    "\n",
    "\n",
    "# CUDA_version = torch.version.cuda\n",
    "# CUDA = format_cuda_version(CUDA_version)\n",
    "\n",
    "# !pip install torch-scatter     -f https://pytorch-geometric.com/whl/torch-{TORCH}+{CUDA}.html\n",
    "# !pip install torch-sparse      -f https://pytorch-geometric.com/whl/torch-{TORCH}+{CUDA}.html\n",
    "# !pip install torch-cluster     -f https://pytorch-geometric.com/whl/torch-{TORCH}+{CUDA}.html\n",
    "# !pip install torch-spline-conv -f https://pytorch-geometric.com/whl/torch-{TORCH}+{CUDA}.html\n",
    "# !pip install torch-geometric\n"
   ]
  },
  {
   "cell_type": "markdown",
   "metadata": {
    "cell_ktag": "CeIiDvQzU6lQ"
   },
   "source": [
    "### Import required packages\n",
    "\n",
    "Run the following cell to import all required packages. This cell **must not** be modified.\n",
    "\n",
    "To significantly accelerate your training, it is advised to use GPU. Using Google Colab, you need to activate it : \n",
    "\n",
    "*   Edit --> Notebook Setting --> Hardware accelerator --> GPU"
   ]
  },
  {
   "cell_type": "code",
   "execution_count": 1,
   "metadata": {
    "cell_ktag": "CeIiDvQzU6lQ"
   },
   "outputs": [
    {
     "name": "stderr",
     "output_type": "stream",
     "text": [
      "/Users/matthieuneau/Library/Caches/pypoetry/virtualenvs/practice-labs-lU_vlk8p-py3.12/lib/python3.12/site-packages/torch_geometric/typing.py:86: UserWarning: An issue occurred while importing 'torch-scatter'. Disabling its usage. Stacktrace: dlopen(/Users/matthieuneau/Library/Caches/pypoetry/virtualenvs/practice-labs-lU_vlk8p-py3.12/lib/python3.12/site-packages/torch_scatter/_scatter_cpu.so, 0x0006): Symbol not found: __ZN2at4_ops16div__Tensor_mode4callERNS_6TensorERKS2_NSt3__18optionalIN3c1017basic_string_viewIcEEEE\n",
      "  Referenced from: <4A3195B8-9E71-3AE7-AE80-DBA66ADAC535> /Users/matthieuneau/Library/Caches/pypoetry/virtualenvs/practice-labs-lU_vlk8p-py3.12/lib/python3.12/site-packages/torch_scatter/_scatter_cpu.so\n",
      "  Expected in:     <DA215AD3-6EAE-3755-B6A5-A8EB4EF952B0> /Users/matthieuneau/Library/Caches/pypoetry/virtualenvs/practice-labs-lU_vlk8p-py3.12/lib/python3.12/site-packages/torch/lib/libtorch_cpu.dylib\n",
      "  warnings.warn(f\"An issue occurred while importing 'torch-scatter'. \"\n",
      "/Users/matthieuneau/Library/Caches/pypoetry/virtualenvs/practice-labs-lU_vlk8p-py3.12/lib/python3.12/site-packages/torch_geometric/typing.py:113: UserWarning: An issue occurred while importing 'torch-spline-conv'. Disabling its usage. Stacktrace: dlopen(/Users/matthieuneau/Library/Caches/pypoetry/virtualenvs/practice-labs-lU_vlk8p-py3.12/lib/python3.12/site-packages/torch_spline_conv/_basis_cpu.so, 0x0006): Symbol not found: __ZN5torch8autograd12VariableInfoC1ERKN2at6TensorE\n",
      "  Referenced from: <E5EBDDAB-B1B9-3199-B5D8-B1F2B3E48B6A> /Users/matthieuneau/Library/Caches/pypoetry/virtualenvs/practice-labs-lU_vlk8p-py3.12/lib/python3.12/site-packages/torch_spline_conv/_basis_cpu.so\n",
      "  Expected in:     <DA215AD3-6EAE-3755-B6A5-A8EB4EF952B0> /Users/matthieuneau/Library/Caches/pypoetry/virtualenvs/practice-labs-lU_vlk8p-py3.12/lib/python3.12/site-packages/torch/lib/libtorch_cpu.dylib\n",
      "  warnings.warn(\n",
      "/Users/matthieuneau/Library/Caches/pypoetry/virtualenvs/practice-labs-lU_vlk8p-py3.12/lib/python3.12/site-packages/torch_geometric/typing.py:124: UserWarning: An issue occurred while importing 'torch-sparse'. Disabling its usage. Stacktrace: dlopen(/Users/matthieuneau/Library/Caches/pypoetry/virtualenvs/practice-labs-lU_vlk8p-py3.12/lib/python3.12/site-packages/torch_sparse/_spmm_cpu.so, 0x0006): Symbol not found: __ZN5torch8autograd12VariableInfoC1ERKN2at6TensorE\n",
      "  Referenced from: <240FBBBE-7919-300D-BFF9-4CBCFE26BD89> /Users/matthieuneau/Library/Caches/pypoetry/virtualenvs/practice-labs-lU_vlk8p-py3.12/lib/python3.12/site-packages/torch_sparse/_spmm_cpu.so\n",
      "  Expected in:     <DA215AD3-6EAE-3755-B6A5-A8EB4EF952B0> /Users/matthieuneau/Library/Caches/pypoetry/virtualenvs/practice-labs-lU_vlk8p-py3.12/lib/python3.12/site-packages/torch/lib/libtorch_cpu.dylib\n",
      "  warnings.warn(f\"An issue occurred while importing 'torch-sparse'. \"\n"
     ]
    }
   ],
   "source": [
    "import numpy as np\n",
    "import matplotlib.pyplot as plt\n",
    "\n",
    "import torch\n",
    "import torch.nn as nn\n",
    "import torch_geometric.nn as graphnn\n",
    "from sklearn.metrics import f1_score\n",
    "from torch_geometric.datasets import PPI\n",
    "from torch_geometric.loader import DataLoader"
   ]
  },
  {
   "cell_type": "markdown",
   "metadata": {
    "cell_ktag": "CeIiDvQzU6lQ"
   },
   "source": [
    "### Dataset\n",
    "\n",
    "We use the Protein-Protein Interaction (PPI) network dataset which includes:\n",
    "- 20 graphs for training \n",
    "- 2 graphs for validation\n",
    "- 2 graphs for testing\n",
    "\n",
    "One graph of the PPI dataset has on average 2372 nodes. Each node has:\n",
    "- 50 features : positional gene sets / motif gene / immunological signatures ...\n",
    "- 121 (binary) labels : gene ontology sets (way to classify gene products like proteins).\n",
    "\n",
    "**This problem aims to predict, for a given PPI graph, the correct nodes' labels**.\n",
    "\n",
    "**It is a node (multi-label) classification task** (trained using supervised learning, with labels to be predicted for each node). \n",
    "\n",
    "For your curiosity, more detailed information on the dataset and some applications:\n",
    "- https://cs.stanford.edu/~jure/pubs/pathways-psb18.pdf\n",
    "- https://arxiv.org/abs/1707.04638\n",
    "\n",
    "To understand how a graph data is implemented in Pytorch Geometric, refer to : https://pytorch-geometric.readthedocs.io/en/latest/get_started/introduction.html\n"
   ]
  },
  {
   "cell_type": "code",
   "execution_count": 2,
   "metadata": {
    "cell_ktag": "CeIiDvQzU6lQ"
   },
   "outputs": [
    {
     "name": "stdout",
     "output_type": "stream",
     "text": [
      "Number of samples in the train dataset:  20\n",
      "Number of samples in the val dataset:  2\n",
      "Number of samples in the test dataset:  2\n",
      "Output of one sample from the train dataset:  Data(x=[1767, 50], edge_index=[2, 32318], y=[1767, 121])\n",
      "Edge_index :\n",
      "tensor([[   0,    0,    0,  ..., 1744, 1745, 1749],\n",
      "        [ 372, 1101,  766,  ..., 1745, 1744, 1739]])\n",
      "Number of features per node:  50\n",
      "Number of classes per node:  121\n",
      "tensor([[1., 0., 0.,  ..., 1., 1., 0.],\n",
      "        [1., 0., 0.,  ..., 1., 1., 1.],\n",
      "        [1., 1., 1.,  ..., 0., 0., 0.],\n",
      "        ...,\n",
      "        [0., 0., 0.,  ..., 0., 0., 0.],\n",
      "        [0., 0., 0.,  ..., 0., 0., 0.],\n",
      "        [1., 0., 0.,  ..., 0., 0., 0.]])\n"
     ]
    }
   ],
   "source": [
    "### LOAD DATASETS\n",
    "\n",
    "BATCH_SIZE = 2\n",
    "\n",
    "# Train Dataset\n",
    "train_dataset = PPI(root=\"\", split=\"train\")\n",
    "train_dataloader = DataLoader(train_dataset, batch_size=BATCH_SIZE)\n",
    "# Val Dataset\n",
    "val_dataset = PPI(root=\"\", split=\"val\")\n",
    "val_dataloader = DataLoader(val_dataset, batch_size=BATCH_SIZE)\n",
    "# Test Dataset\n",
    "test_dataset = PPI(root=\"\", split=\"test\")\n",
    "test_dataloader = DataLoader(test_dataset, batch_size=BATCH_SIZE)\n",
    "\n",
    "# Number of features and classes\n",
    "n_features, n_classes = train_dataset[0].x.shape[1], train_dataset[0].y.shape[1]\n",
    "\n",
    "print(\"Number of samples in the train dataset: \", len(train_dataset))\n",
    "print(\"Number of samples in the val dataset: \", len(test_dataset))\n",
    "print(\"Number of samples in the test dataset: \", len(test_dataset))\n",
    "print(\"Output of one sample from the train dataset: \", train_dataset[0])\n",
    "print(\"Edge_index :\")\n",
    "print(train_dataset[0].edge_index)\n",
    "print(\"Number of features per node: \", n_features)\n",
    "print(\"Number of classes per node: \", n_classes)\n",
    "print(train_dataset[0].y)"
   ]
  },
  {
   "cell_type": "markdown",
   "metadata": {
    "cell_ktag": "CeIiDvQzU6lQ"
   },
   "source": [
    "### Define a basic Model"
   ]
  },
  {
   "cell_type": "markdown",
   "metadata": {
    "cell_ktag": "CeIiDvQzU6lQ"
   },
   "source": [
    "Here we define a very simple Graph Neural Network model which will be used as our baseline. This model consists of three graph convolutional layers (from https://arxiv.org/pdf/1609.02907.pdf). The first two layers computes 256 features, followed by an ELU activation function. The last layer is used for (multi-label) classification task, computing 121 features (for each node)."
   ]
  },
  {
   "cell_type": "code",
   "execution_count": 3,
   "metadata": {
    "cell_ktag": "CeIiDvQzU6lQ"
   },
   "outputs": [],
   "source": [
    "#####################################################\n",
    "################## MODEL ############################\n",
    "#####################################################\n",
    "class BasicGraphModel(nn.Module):\n",
    "    def __init__(self, input_size, hidden_size, output_size):\n",
    "        super().__init__()\n",
    "\n",
    "        self.graphconv1 = graphnn.GCNConv(input_size, hidden_size)\n",
    "        self.graphconv2 = graphnn.GCNConv(hidden_size, hidden_size)\n",
    "        self.graphconv3 = graphnn.GCNConv(hidden_size, output_size)\n",
    "\n",
    "        self.elu = nn.ELU()\n",
    "\n",
    "    def forward(self, x, edge_index):\n",
    "        x = self.graphconv1(x, edge_index)\n",
    "        x = self.elu(x)\n",
    "        x = self.graphconv2(x, edge_index)\n",
    "        x = self.elu(x)\n",
    "        x = self.graphconv3(x, edge_index)\n",
    "\n",
    "        return x"
   ]
  },
  {
   "cell_type": "markdown",
   "metadata": {
    "cell_ktag": "CeIiDvQzU6lQ"
   },
   "source": [
    "Next function is designed to evaluate the performance of the model, computing the F1-Score"
   ]
  },
  {
   "cell_type": "code",
   "execution_count": 4,
   "metadata": {
    "cell_ktag": "CeIiDvQzU6lQ"
   },
   "outputs": [],
   "source": [
    "#####################################################\n",
    "############### TEST FUNCTION #######################\n",
    "#####################################################\n",
    "def evaluate(model, loss_fcn, device, dataloader):\n",
    "    score_list_batch = []\n",
    "\n",
    "    model.eval()\n",
    "    for i, batch in enumerate(dataloader):\n",
    "        batch = batch.to(device)\n",
    "        output = model(batch.x, batch.edge_index)\n",
    "        loss_test = loss_fcn(output, batch.y)\n",
    "        predict = np.where(output.detach().cpu().numpy() >= 0, 1, 0)\n",
    "        score = f1_score(batch.y.cpu().numpy(), predict, average=\"micro\")\n",
    "        score_list_batch.append(score)\n",
    "\n",
    "    return np.array(score_list_batch).mean()"
   ]
  },
  {
   "cell_type": "markdown",
   "metadata": {
    "cell_ktag": "CeIiDvQzU6lQ"
   },
   "source": [
    "Next we construct the function to train the model."
   ]
  },
  {
   "cell_type": "code",
   "execution_count": null,
   "metadata": {
    "cell_ktag": "CeIiDvQzU6lQ"
   },
   "outputs": [],
   "source": [
    "from torchviz import make_dot\n",
    "#####################################################\n",
    "############## TRAIN FUNCTION #######################\n",
    "#####################################################\n",
    "def train(model, loss_fcn, device, optimizer, max_epochs, train_dataloader, val_dataloader):\n",
    "    epoch_list = []\n",
    "    scores_list = []\n",
    "\n",
    "    for epoch in range(max_epochs):\n",
    "        model.train()\n",
    "        losses = []\n",
    "        for i, train_batch in enumerate(train_dataloader):\n",
    "            optimizer.zero_grad()\n",
    "            train_batch_device = train_batch.to(device)\n",
    "            logits = model(train_batch_device.x, train_batch_device.edge_index)\n",
    "            loss = loss_fcn(logits, train_batch_device.y)\n",
    "            # dot = make_dot(loss, params=dict(model.named_parameters()))\n",
    "            # dot.render(\"computational_graph\", format=\"png\") \n",
    "            loss.backward()\n",
    "            optimizer.step()\n",
    "            losses.append(loss.item())\n",
    "        loss_data = np.array(losses).mean()\n",
    "        print(\"Epoch {:05d} | Loss: {:.4f}\".format(epoch + 1, loss_data))\n",
    "\n",
    "        if epoch % 10 == 0:\n",
    "            score = evaluate(model, loss_fcn, device, val_dataloader)\n",
    "            print(\"F1-Score: {:.4f}\".format(score))\n",
    "            scores_list.append(score)\n",
    "            epoch_list.append(epoch)\n",
    "\n",
    "    return epoch_list, scores_list"
   ]
  },
  {
   "cell_type": "code",
   "execution_count": null,
   "metadata": {},
   "outputs": [
    {
     "name": "stdout",
     "output_type": "stream",
     "text": [
      "Epoch 00001 | Loss: 0.7004\n",
      "F1-Score: 0.3708\n",
      "Epoch 00002 | Loss: 0.5689\n",
      "Epoch 00003 | Loss: 0.5580\n",
      "Epoch 00004 | Loss: 0.5557\n",
      "Epoch 00005 | Loss: 0.5551\n",
      "Epoch 00006 | Loss: 0.5519\n",
      "F1-Score: 0.3893\n",
      "Epoch 00007 | Loss: 0.5481\n",
      "Epoch 00008 | Loss: 0.5482\n",
      "Epoch 00009 | Loss: 0.5459\n",
      "Epoch 00010 | Loss: 0.5442\n",
      "Epoch 00011 | Loss: 0.5441\n",
      "F1-Score: 0.3987\n",
      "Epoch 00012 | Loss: 0.5483\n",
      "Epoch 00013 | Loss: 0.5464\n",
      "Epoch 00014 | Loss: 0.5421\n",
      "Epoch 00015 | Loss: 0.5403\n",
      "Epoch 00016 | Loss: 0.5379\n",
      "F1-Score: 0.4359\n",
      "Epoch 00017 | Loss: 0.5352\n",
      "Epoch 00018 | Loss: 0.5336\n",
      "Epoch 00019 | Loss: 0.5328\n",
      "Epoch 00020 | Loss: 0.5314\n",
      "Epoch 00021 | Loss: 0.5317\n",
      "F1-Score: 0.4389\n",
      "Epoch 00022 | Loss: 0.5297\n",
      "Epoch 00023 | Loss: 0.5295\n",
      "Epoch 00024 | Loss: 0.5269\n",
      "Epoch 00025 | Loss: 0.5261\n",
      "Epoch 00026 | Loss: 0.5254\n",
      "F1-Score: 0.4315\n",
      "Epoch 00027 | Loss: 0.5249\n",
      "Epoch 00028 | Loss: 0.5252\n",
      "Epoch 00029 | Loss: 0.5246\n",
      "Epoch 00030 | Loss: 0.5242\n",
      "Epoch 00031 | Loss: 0.5227\n",
      "F1-Score: 0.4643\n",
      "Epoch 00032 | Loss: 0.5228\n",
      "Epoch 00033 | Loss: 0.5223\n",
      "Epoch 00034 | Loss: 0.5202\n",
      "Epoch 00035 | Loss: 0.5205\n",
      "Epoch 00036 | Loss: 0.5192\n",
      "F1-Score: 0.4619\n",
      "Epoch 00037 | Loss: 0.5165\n",
      "Epoch 00038 | Loss: 0.5198\n",
      "Epoch 00039 | Loss: 0.5204\n",
      "Epoch 00040 | Loss: 0.5164\n",
      "Epoch 00041 | Loss: 0.5127\n",
      "F1-Score: 0.4664\n",
      "Epoch 00042 | Loss: 0.5099\n",
      "Epoch 00043 | Loss: 0.5120\n",
      "Epoch 00044 | Loss: 0.5116\n",
      "Epoch 00045 | Loss: 0.5118\n",
      "Epoch 00046 | Loss: 0.5097\n",
      "F1-Score: 0.4762\n",
      "Epoch 00047 | Loss: 0.5065\n",
      "Epoch 00048 | Loss: 0.5060\n",
      "Epoch 00049 | Loss: 0.5040\n",
      "Epoch 00050 | Loss: 0.5026\n",
      "Epoch 00051 | Loss: 0.5020\n",
      "F1-Score: 0.4831\n",
      "Epoch 00052 | Loss: 0.5010\n",
      "Epoch 00053 | Loss: 0.5018\n",
      "Epoch 00054 | Loss: 0.5016\n",
      "Epoch 00055 | Loss: 0.5006\n",
      "Epoch 00056 | Loss: 0.5016\n",
      "F1-Score: 0.4922\n",
      "Epoch 00057 | Loss: 0.5000\n",
      "Epoch 00058 | Loss: 0.5010\n",
      "Epoch 00059 | Loss: 0.4982\n",
      "Epoch 00060 | Loss: 0.4946\n",
      "Epoch 00061 | Loss: 0.4923\n",
      "F1-Score: 0.4803\n",
      "Epoch 00062 | Loss: 0.4906\n",
      "Epoch 00063 | Loss: 0.4897\n",
      "Epoch 00064 | Loss: 0.4883\n",
      "Epoch 00065 | Loss: 0.4867\n",
      "Epoch 00066 | Loss: 0.4856\n",
      "F1-Score: 0.5152\n",
      "Epoch 00067 | Loss: 0.4853\n",
      "Epoch 00068 | Loss: 0.4836\n",
      "Epoch 00069 | Loss: 0.4839\n",
      "Epoch 00070 | Loss: 0.4874\n",
      "Epoch 00071 | Loss: 0.4893\n",
      "F1-Score: 0.5105\n",
      "Epoch 00072 | Loss: 0.4873\n",
      "Epoch 00073 | Loss: 0.4862\n",
      "Epoch 00074 | Loss: 0.4826\n",
      "Epoch 00075 | Loss: 0.4817\n",
      "Epoch 00076 | Loss: 0.4797\n",
      "F1-Score: 0.5272\n",
      "Epoch 00077 | Loss: 0.4773\n",
      "Epoch 00078 | Loss: 0.4767\n",
      "Epoch 00079 | Loss: 0.4786\n",
      "Epoch 00080 | Loss: 0.4843\n",
      "Epoch 00081 | Loss: 0.4871\n",
      "F1-Score: 0.5380\n",
      "Epoch 00082 | Loss: 0.4869\n",
      "Epoch 00083 | Loss: 0.4821\n",
      "Epoch 00084 | Loss: 0.4768\n",
      "Epoch 00085 | Loss: 0.4737\n",
      "Epoch 00086 | Loss: 0.4736\n",
      "F1-Score: 0.5360\n",
      "Epoch 00087 | Loss: 0.4701\n",
      "Epoch 00088 | Loss: 0.4694\n",
      "Epoch 00089 | Loss: 0.4689\n",
      "Epoch 00090 | Loss: 0.4720\n",
      "Epoch 00091 | Loss: 0.4710\n",
      "F1-Score: 0.5481\n",
      "Epoch 00092 | Loss: 0.4700\n",
      "Epoch 00093 | Loss: 0.4680\n",
      "Epoch 00094 | Loss: 0.4674\n",
      "Epoch 00095 | Loss: 0.4739\n",
      "Epoch 00096 | Loss: 0.4719\n",
      "F1-Score: 0.5612\n",
      "Epoch 00097 | Loss: 0.4677\n",
      "Epoch 00098 | Loss: 0.4660\n",
      "Epoch 00099 | Loss: 0.4660\n",
      "Epoch 00100 | Loss: 0.4636\n",
      "Epoch 00101 | Loss: 0.4678\n",
      "F1-Score: 0.5604\n",
      "Epoch 00102 | Loss: 0.4689\n",
      "Epoch 00103 | Loss: 0.4679\n",
      "Epoch 00104 | Loss: 0.4685\n",
      "Epoch 00105 | Loss: 0.4674\n",
      "Epoch 00106 | Loss: 0.4666\n",
      "F1-Score: 0.5552\n",
      "Epoch 00107 | Loss: 0.4602\n",
      "Epoch 00108 | Loss: 0.4564\n",
      "Epoch 00109 | Loss: 0.4566\n",
      "Epoch 00110 | Loss: 0.4553\n",
      "Epoch 00111 | Loss: 0.4535\n",
      "F1-Score: 0.5728\n",
      "Epoch 00112 | Loss: 0.4540\n",
      "Epoch 00113 | Loss: 0.4524\n",
      "Epoch 00114 | Loss: 0.4523\n",
      "Epoch 00115 | Loss: 0.4550\n",
      "Epoch 00116 | Loss: 0.4566\n",
      "F1-Score: 0.5660\n",
      "Epoch 00117 | Loss: 0.4546\n",
      "Epoch 00118 | Loss: 0.4523\n",
      "Epoch 00119 | Loss: 0.4562\n",
      "Epoch 00120 | Loss: 0.4562\n",
      "Epoch 00121 | Loss: 0.4599\n",
      "F1-Score: 0.5498\n",
      "Epoch 00122 | Loss: 0.4545\n",
      "Epoch 00123 | Loss: 0.4510\n",
      "Epoch 00124 | Loss: 0.4470\n",
      "Epoch 00125 | Loss: 0.4459\n",
      "Epoch 00126 | Loss: 0.4469\n",
      "F1-Score: 0.5317\n",
      "Epoch 00127 | Loss: 0.4472\n",
      "Epoch 00128 | Loss: 0.4534\n",
      "Epoch 00129 | Loss: 0.4562\n",
      "Epoch 00130 | Loss: 0.4522\n",
      "Epoch 00131 | Loss: 0.4441\n",
      "F1-Score: 0.5848\n",
      "Epoch 00132 | Loss: 0.4409\n",
      "Epoch 00133 | Loss: 0.4375\n",
      "Epoch 00134 | Loss: 0.4347\n",
      "Epoch 00135 | Loss: 0.4342\n",
      "Epoch 00136 | Loss: 0.4358\n",
      "F1-Score: 0.5952\n",
      "Epoch 00137 | Loss: 0.4344\n",
      "Epoch 00138 | Loss: 0.4343\n",
      "Epoch 00139 | Loss: 0.4324\n",
      "Epoch 00140 | Loss: 0.4355\n",
      "Epoch 00141 | Loss: 0.4359\n",
      "F1-Score: 0.5685\n",
      "Epoch 00142 | Loss: 0.4351\n",
      "Epoch 00143 | Loss: 0.4343\n",
      "Epoch 00144 | Loss: 0.4329\n",
      "Epoch 00145 | Loss: 0.4301\n",
      "Epoch 00146 | Loss: 0.4281\n",
      "F1-Score: 0.6036\n",
      "Epoch 00147 | Loss: 0.4298\n",
      "Epoch 00148 | Loss: 0.4304\n",
      "Epoch 00149 | Loss: 0.4351\n",
      "Epoch 00150 | Loss: 0.4381\n"
     ]
    },
    {
     "data": {
      "text/plain": [
       "([0,\n",
       "  5,\n",
       "  10,\n",
       "  15,\n",
       "  20,\n",
       "  25,\n",
       "  30,\n",
       "  35,\n",
       "  40,\n",
       "  45,\n",
       "  50,\n",
       "  55,\n",
       "  60,\n",
       "  65,\n",
       "  70,\n",
       "  75,\n",
       "  80,\n",
       "  85,\n",
       "  90,\n",
       "  95,\n",
       "  100,\n",
       "  105,\n",
       "  110,\n",
       "  115,\n",
       "  120,\n",
       "  125,\n",
       "  130,\n",
       "  135,\n",
       "  140,\n",
       "  145],\n",
       " [np.float64(0.37084690509648477),\n",
       "  np.float64(0.38925829322949196),\n",
       "  np.float64(0.3987017661666712),\n",
       "  np.float64(0.43590196536535053),\n",
       "  np.float64(0.43890695490874115),\n",
       "  np.float64(0.43148552576553134),\n",
       "  np.float64(0.4643022005511744),\n",
       "  np.float64(0.4618597463349437),\n",
       "  np.float64(0.46638750156508674),\n",
       "  np.float64(0.4762234762234762),\n",
       "  np.float64(0.4830697421861931),\n",
       "  np.float64(0.49215644923186735),\n",
       "  np.float64(0.480283117078848),\n",
       "  np.float64(0.5151540075935865),\n",
       "  np.float64(0.5104671134700812),\n",
       "  np.float64(0.527199384920008),\n",
       "  np.float64(0.5379717535991014),\n",
       "  np.float64(0.5359614610520301),\n",
       "  np.float64(0.5480961054731547),\n",
       "  np.float64(0.5612233360044442),\n",
       "  np.float64(0.5603671901707253),\n",
       "  np.float64(0.555181929448016),\n",
       "  np.float64(0.5728342384599472),\n",
       "  np.float64(0.5659862504476423),\n",
       "  np.float64(0.5498047081178085),\n",
       "  np.float64(0.5316873467527369),\n",
       "  np.float64(0.5847665233476652),\n",
       "  np.float64(0.5951994448506177),\n",
       "  np.float64(0.5685192439654742),\n",
       "  np.float64(0.6036053163725609)])"
      ]
     },
     "execution_count": 17,
     "metadata": {},
     "output_type": "execute_result"
    }
   ],
   "source": [
    "import torch\n",
    "import torch.nn as nn\n",
    "import torch.nn.functional as F\n",
    "from torch_geometric.nn import GAT\n",
    "\n",
    "\n",
    "device = 'cuda' if torch.cuda.is_available() else 'cpu'\n",
    "model = GAT(in_channels=50, hidden_channels=256, num_layers=4, out_channels=121, act='ELU', heads=4) \n",
    "loss_fcn = nn.BCEWithLogitsLoss()\n",
    "optimizer = torch.optim.Adam(model.parameters(), lr=0.005)\n",
    "\n",
    "train(model, loss_fcn=loss_fcn, device=device, optimizer=optimizer, max_epochs=150, train_dataloader=train_dataloader, val_dataloader=val_dataloader)"
   ]
  },
  {
   "cell_type": "markdown",
   "metadata": {
    "cell_ktag": "CeIiDvQzU6lQ"
   },
   "source": [
    "Let's train this model !"
   ]
  },
  {
   "cell_type": "code",
   "execution_count": 6,
   "metadata": {
    "cell_ktag": "CeIiDvQzU6lQ"
   },
   "outputs": [
    {
     "name": "stdout",
     "output_type": "stream",
     "text": [
      "\n",
      "Device:  cpu\n"
     ]
    }
   ],
   "source": [
    "device = torch.device(\"cuda\" if torch.cuda.is_available() else \"cpu\")\n",
    "print(\"\\nDevice: \", device)\n",
    "\n",
    "max_epochs = 200\n",
    "\n",
    "basic_model = BasicGraphModel(input_size=n_features, hidden_size=256, output_size=n_classes).to(device)\n",
    "loss_fcn = nn.BCEWithLogitsLoss()\n",
    "optimizer = torch.optim.Adam(basic_model.parameters(), lr=0.005)\n",
    "\n",
    "# epoch_list, basic_model_scores = train(\n",
    "#     basic_model,\n",
    "#     loss_fcn,\n",
    "#     device,\n",
    "#     optimizer,\n",
    "#     max_epochs,\n",
    "#     train_dataloader,\n",
    "#     val_dataloader,\n",
    "# )"
   ]
  },
  {
   "cell_type": "markdown",
   "metadata": {
    "cell_ktag": "CeIiDvQzU6lQ"
   },
   "source": [
    "Let's evaluate the performance of this basic model"
   ]
  },
  {
   "cell_type": "code",
   "execution_count": 7,
   "metadata": {
    "cell_ktag": "CeIiDvQzU6lQ"
   },
   "outputs": [],
   "source": [
    "# ### F1-SCORE ON VALID DATASET\n",
    "# score_valid = evaluate(basic_model, loss_fcn, device, val_dataloader)\n",
    "# print(\"Basic Model : F1-Score on the validation set: {:.4f}\".format(score_valid))\n",
    "\n",
    "\n",
    "# ### PLOT EVOLUTION OF F1-SCORE W.R.T EPOCHS\n",
    "# def plot_f1_score(epoch_list, scores):\n",
    "#     plt.figure(figsize=[10, 5])\n",
    "#     plt.plot(epoch_list, scores)\n",
    "#     plt.title(\"Evolution of F1-Score w.r.t epochs\")\n",
    "#     plt.ylim([0.0, 1.0])\n",
    "#     plt.show()\n",
    "\n",
    "\n",
    "# plot_f1_score(epoch_list, basic_model_scores)"
   ]
  },
  {
   "cell_type": "markdown",
   "metadata": {
    "cell_ktag": "CeIiDvQzU6lQ"
   },
   "source": [
    "# QUESTIONS\n",
    "\n",
    "## Grading\n",
    "\n",
    "You will be graded on 5 questions. You will need to provide at least 4 files : \n",
    "1. This Notebook\n",
    "2. `class_model_gnn.py`\n",
    "3. `model.pth` (the file **must be of size less than 50Mo** but 20Mo should be enough to get a very good model)\n",
    "4. `conv_as_message_passing.py`\n",
    "\n",
    "If the function you defined passes all the tests, you will get the full grade. Otherwise we  will look at the intermediate questions in the notebook to give you partial credit.\n",
    "\n",
    "\n",
    "\n",
    " Please provide clear, short and __bold font__ answers.  "
   ]
  },
  {
   "cell_type": "markdown",
   "metadata": {
    "cell_ktag": "CeIiDvQzU6lQ"
   },
   "source": [
    "> Question 1 : Design, build and train a model with a F1-score higher than 93% on validation set (**HINT :** https://arxiv.org/pdf/1710.10903.pdf).\n"
   ]
  },
  {
   "cell_type": "markdown",
   "metadata": {
    "cell_ktag": "CeIiDvQzU6lQ"
   },
   "source": [
    " Provide two files : (https://pytorch.org/tutorials/beginner/saving_loading_models.html)\n",
    " -  a file  `class_model_gnn.py` containing the class inheriting from `torch.nn.Module` architecture of your final model to load\n",
    " -  a `model.pth` file : the model weights\n",
    " \n",
    " We will  test your model on final F1-Score on a test set. You must not use the test set for hyperparameter training.\n",
    " \n",
    "Intermediate question : \n",
    "\n",
    " Provide the script for training, and a plot of the training loss.  "
   ]
  },
  {
   "cell_type": "code",
   "execution_count": null,
   "metadata": {},
   "outputs": [],
   "source": [
    "\n",
    "## Save the model\n",
    "# torch.save(model.state_dict(), \"model.pth\")\n",
    "\n",
    "\n",
    "### This is the part we will run in the inference to grade your model\n",
    "## Load the model\n",
    "model = GAT()  # !  Important : No argument\n",
    "model.load_state_dict(torch.load(\"model.pth\", weights_only=True))\n",
    "model.eval()\n",
    "print(\"Model loaded successfully\")\n"
   ]
  },
  {
   "cell_type": "markdown",
   "metadata": {
    "cell_ktag": "CeIiDvQzU6lQ"
   },
   "source": [
    "## Conv 2D as Message Passing Neural Network\n",
    "\n",
    "\n",
    "## Introduction\n",
    "\n",
    "The use of graph is a way to structure data by adding neighborhood information between features. This then allows to do operations on the data that are local to each node and its neighbors. This is the main idea behind Graph Neural Networks (GNNs). [`pytorch-geometric`](https://pytorch-geometric.readthedocs.io/en/latest/) is a library compatible with PyTorch that allows to easily implement GNNs. The most general structure is the [`MessagePassing`](https://pytorch-geometric.readthedocs.io/en/latest/generated/torch_geometric.nn.conv.MessagePassing.html#torch_geometric.nn.conv.MessagePassing) class that is then used as a base for more specific GNNs as seen in the course ([Graph Convolutional Networks](https://pytorch-geometric.readthedocs.io/en/latest/generated/torch_geometric.nn.conv.GCNConv.html#torch_geometric.nn.conv.GCNConv) or [Graph AttenTion Convolution](https://pytorch-geometric.readthedocs.io/en/latest/generated/torch_geometric.nn.conv.GATConv.html#torch_geometric.nn.conv.GATConv)).\n",
    "\n",
    "On the other hand, you already know an operation that uses the structure of the data to do local operations: the convolution (https://pytorch.org/docs/stable/generated/torch.nn.Conv2d.html). One can see the convolution as a specific case of the message passing neural network. The goal of this notebook is to show how to use the `MessagePassing` class to implement a convolutional neural network.\n",
    "You will be asked to implement 3 functions. You should give back those three functions in a file named `conv_as_message_passing.py`. These functions will then be automatically tested. So be sure to respect the function signature and the function name.\n",
    "\n",
    "\n",
    "## Assumptions\n",
    "\n",
    "To make the implementation easier we will make some assumptions:\n",
    "- the input is a single image (batch size of 1) of size 'C x H x W'\n",
    "- the convolution will be a 3x3 kernel with stride 1 and padding 1.\n",
    "\n",
    "You may also assume that the Conv2D layer has no bias but it will be slightly penalized in the grading.\n",
    "\n",
    "Bonus points will be given if you can handle the cases that are not covered by those assumptions.\n",
    "\n",
    "\n",
    "## Questions\n",
    "\n",
    "### Question 2\n",
    "\n",
    "> Using the formalism used in the [`MessagePassing`](https://pytorch-geometric.readthedocs.io/en/latest/generated/torch_geometric.nn.conv.MessagePassing.html#torch_geometric.nn.conv.MessagePassing) documentation (and on [wikipedia](https://en.wikipedia.org/wiki/Graph_neural_network#Message_passing_layers) with sligthly different notations), explain how theorically you can simulate a 2D convolution using the `MessagePassing` formalism. This may include a pre-processing step to transform the image into a graph and then a post-processing step to transform the graph back into an image. (:warning: Those steps should be independent of the parameters of the convolution, but not necessarily from the hyper-parameters.)\n",
    "$$\\mathbf{x}_{i}^{\\prime} = \\gamma_{\\mathbf{\\Theta}}\\left( \\mathbf{x}_{i},\\bigoplus\\limits_{j \\in \\mathcal{N}(i)}\\,\\phi_{\\mathbf{\\Theta}}\\left( \\mathbf{x}_{i},\\mathbf{x}_{j},\\mathbf{e}_{j,i} \\right) \\right),$$\n",
    "\n",
    "\n",
    "HINT : It is possible to do it with the following $\\gamma$ : \n",
    "\n",
    "$$ \\gamma_\\Theta : x,y \\mapsto y $$\n"
   ]
  },
  {
   "cell_type": "code",
   "execution_count": null,
   "metadata": {
    "cell_ktag": "CeIiDvQzU6lQ"
   },
   "outputs": [],
   "source": [
    "import torch\n",
    "import torch_geometric"
   ]
  },
  {
   "cell_type": "markdown",
   "metadata": {
    "cell_ktag": "CeIiDvQzU6lQ"
   },
   "source": [
    "### Question 3\n",
    "\n",
    "> Implement the pre-processing function, you can use the follwing code skeleton (you may change the output type, it is just a strong suggestion):"
   ]
  },
  {
   "cell_type": "code",
   "execution_count": null,
   "metadata": {
    "cell_ktag": "CeIiDvQzU6lQ"
   },
   "outputs": [],
   "source": [
    "def image_to_graph(\n",
    "    image: torch.Tensor, conv2d: torch.nn.Conv2d | None = None\n",
    ") -> torch_geometric.data.Data:\n",
    "    \"\"\"\n",
    "    Converts an image tensor to a PyTorch Geometric Data object.\n",
    "    COMPLETE\n",
    "\n",
    "    Arguments:\n",
    "    ----------\n",
    "    image : torch.Tensor\n",
    "        Image tensor of shape (C, H, W).\n",
    "    conv2d : torch.nn.Conv2d, optional\n",
    "        Conv2d layer to simulate, by default None\n",
    "        Is used to determine the size of the receptive field.\n",
    "\n",
    "    Returns:\n",
    "    --------\n",
    "    torch_geometric.data.Data\n",
    "        Graph representation of the image.\n",
    "    \"\"\"\n",
    "    # Assumptions (remove it for the bonus)\n",
    "    assert image.dim() == 3, f\"Expected 3D tensor, got {image.dim()}D tensor.\"\n",
    "    if conv2d is not None:\n",
    "        assert conv2d.padding[0] == conv2d.padding[1] == 1, \"Expected padding of 1 on both sides.\"\n",
    "        assert conv2d.kernel_size[0] == conv2d.kernel_size[1] == 3, \"Expected kernel size of 3x3.\"\n",
    "        assert conv2d.stride[0] == conv2d.stride[1] == 1, \"Expected stride of 1.\"\n",
    "\n",
    "    raise NotImplementedError"
   ]
  },
  {
   "cell_type": "markdown",
   "metadata": {
    "cell_ktag": "CeIiDvQzU6lQ"
   },
   "source": [
    "### Question 4\n",
    "\n",
    "> Implement the post-processing function, you can use the follwing code skeleton:"
   ]
  },
  {
   "cell_type": "code",
   "execution_count": null,
   "metadata": {
    "cell_ktag": "CeIiDvQzU6lQ"
   },
   "outputs": [],
   "source": [
    "def graph_to_image(\n",
    "    data: torch.Tensor, height: int, width: int, conv2d: torch.nn.Conv2d | None = None\n",
    ") -> torch.Tensor:\n",
    "    \"\"\"\n",
    "    Converts a graph representation of an image to an image tensor.\n",
    "\n",
    "    Arguments:\n",
    "    ----------\n",
    "    data : torch.Tensor\n",
    "        Graph data representation of the image.\n",
    "    height : int\n",
    "        Height of the image.\n",
    "    width : int\n",
    "        Width of the image.\n",
    "    conv2d : torch.nn.Conv2d, optional\n",
    "        Conv2d layer to simulate, by default None\n",
    "\n",
    "    Returns:\n",
    "    --------\n",
    "    torch.Tensor\n",
    "        Image tensor of shape (C, H, W).\n",
    "    \"\"\"\n",
    "    # Assumptions (remove it for the bonus)\n",
    "    assert data.dim() == 2, f\"Expected 2D tensor, got {data.dim()}D tensor.\"\n",
    "    if conv2d is not None:\n",
    "        assert conv2d.padding[0] == conv2d.padding[1] == 1, \"Expected padding of 1 on both sides.\"\n",
    "        assert conv2d.kernel_size[0] == conv2d.kernel_size[1] == 3, \"Expected kernel size of 3x3.\"\n",
    "        assert conv2d.stride[0] == conv2d.stride[1] == 1, \"Expected stride of 1.\"\n",
    "\n",
    "    raise NotImplementedError"
   ]
  },
  {
   "cell_type": "markdown",
   "metadata": {
    "cell_ktag": "CeIiDvQzU6lQ"
   },
   "source": [
    "#### Recommended test cases\n",
    "\n",
    "We **encourage** you to test that you have the property that the pre-processing function followed by the post-processing function is the identity function."
   ]
  },
  {
   "cell_type": "code",
   "execution_count": null,
   "metadata": {
    "cell_ktag": "CeIiDvQzU6lQ"
   },
   "outputs": [],
   "source": [
    "ref_conv = torch.nn.Conv2d(5, 7, kernel_size=3, padding=1, stride=1)\n",
    "image = torch.randn(5, 10, 11)\n",
    "g_image = image_to_graph(image, ref_conv)\n",
    "reconstructed_image = graph_to_image(g_image.x, 10, 11, ref_conv)\n",
    "assert torch.allclose(image, reconstructed_image)"
   ]
  },
  {
   "cell_type": "markdown",
   "metadata": {
    "cell_ktag": "CeIiDvQzU6lQ"
   },
   "source": [
    "### Question 5\n",
    "\n",
    "> Implement the `Conv2dMessagePassing` class that will simulate a 2D convolution using the `MessagePassing` formalism. \n",
    "You should inherit from the `MessagePassing` class and only change the `__init__` and `message` functions (the `forward` function has already been changed for you). You should use the following code skeleton:"
   ]
  },
  {
   "cell_type": "code",
   "execution_count": null,
   "metadata": {
    "cell_ktag": "CeIiDvQzU6lQ"
   },
   "outputs": [],
   "source": [
    "class Conv2dMessagePassing(torch_geometric.nn.MessagePassing):\n",
    "    \"\"\"\n",
    "    A Message Passing layer that simulates a given Conv2d layer.\n",
    "    \"\"\"\n",
    "\n",
    "    def __init__(self, conv2d: torch.nn.Conv2d):\n",
    "        # <TO IMPLEMENT>\n",
    "        # Don't forget to call the parent constructor with the correct aguments\n",
    "        # super().__init__(<arguments>)\n",
    "        # </TO IMPLEMENT>\n",
    "        raise NotImplementedError\n",
    "\n",
    "    def forward(self, data):\n",
    "        self.edge_index = data.edge_index\n",
    "\n",
    "        x, edge_index, edge_attr = data.x, data.edge_index, data.edge_attr\n",
    "        out = self.propagate(edge_index, x=x, edge_attr=edge_attr)\n",
    "        return out\n",
    "\n",
    "    def message(self, x_j: torch.Tensor, edge_attr: torch.Tensor) -> torch.Tensor:\n",
    "        \"\"\"\n",
    "        Computes the message to be passed for each edge.\n",
    "        For each edge e = (u, v) in the graph indexed by i,\n",
    "        the message trough the edge e (ie from node u to node v)\n",
    "        should be returned as the i-th line of the output tensor.\n",
    "        (The message is phi(u, v, e) in the formalism.)\n",
    "        To do this you can access the features of the source node\n",
    "        in x_j[i] and the attributes of the edge in edge_attr[i].\n",
    "\n",
    "        Arguments:\n",
    "        ----------\n",
    "        x_j : torch.Tensor\n",
    "            The features of the souce node for each edge (of size E x in_channels).\n",
    "        edge_attr : torch.Tensor\n",
    "            The attributes of the edge (of size E x edge_attr_dim).\n",
    "\n",
    "        Returns:\n",
    "        --------\n",
    "        torch.Tensor\n",
    "            The message to be passed for each edge (of size COMPLETE)\n",
    "        \"\"\"\n",
    "        raise NotImplementedError\n"
   ]
  },
  {
   "cell_type": "markdown",
   "metadata": {
    "cell_ktag": "CeIiDvQzU6lQ"
   },
   "source": [
    "## Test example"
   ]
  },
  {
   "cell_type": "code",
   "execution_count": null,
   "metadata": {
    "cell_ktag": "CeIiDvQzU6lQ"
   },
   "outputs": [],
   "source": [
    "from conv_as_message_passing import image_to_graph, graph_to_image, Conv2dMessagePassing\n",
    "\n",
    "c = 5\n",
    "h = 10\n",
    "w = 11\n",
    "\n",
    "ref_conv = torch.nn.Conv2d(c, 2, kernel_size=3, padding=1, stride=1, bias=False)\n",
    "image = torch.randn(c, h, w)\n",
    "g_image = image_to_graph(image, ref_conv)\n",
    "ref_conv.weight.data = torch.randn_like(ref_conv.weight.data)\n",
    "\n",
    "conv_mp = Conv2dMessagePassing(ref_conv)\n",
    "g_image = conv_mp(g_image)\n",
    "\n",
    "y_th = ref_conv(image)\n",
    "\n",
    "ref_conv.weight.data = torch.randn_like(ref_conv.weight.data)\n",
    "reconstructed_image = graph_to_image(g_image, h, w, ref_conv)\n",
    "\n",
    "assert torch.allclose(y_th, reconstructed_image, atol=1e-4)\n"
   ]
  }
 ],
 "metadata": {
  "kernelspec": {
   "display_name": "practice-labs-lU_vlk8p-py3.12",
   "language": "python",
   "name": "python3"
  },
  "kfiletag": "CeIiDvQzU6lQ",
  "language_info": {
   "codemirror_mode": {
    "name": "ipython",
    "version": 3
   },
   "file_extension": ".py",
   "mimetype": "text/x-python",
   "name": "python",
   "nbconvert_exporter": "python",
   "pygments_lexer": "ipython3",
   "version": "3.12.8"
  }
 },
 "nbformat": 4,
 "nbformat_minor": 2
}
