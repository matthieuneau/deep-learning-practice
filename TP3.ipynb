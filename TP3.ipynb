{
 "cells": [
  {
   "cell_type": "markdown",
   "metadata": {
    "cell_ktag": "CeIiDvQzU6lQ"
   },
   "source": [
    "# TP 3  : Graph Neural Networks Architecture\n",
    "\n",
    "**Théo Rudkiewicz, Cyriaque Rousselot**"
   ]
  },
  {
   "cell_type": "markdown",
   "metadata": {
    "cell_ktag": "CeIiDvQzU6lQ"
   },
   "source": [
    "# TUTORIAL"
   ]
  },
  {
   "cell_type": "markdown",
   "metadata": {
    "cell_ktag": "CeIiDvQzU6lQ"
   },
   "source": [
    "### Install Pytorch Geometric\n",
    "\n",
    "To handle graph data, we use the library Pytorch Geometric : https://pytorch-geometric.readthedocs.io/en/latest/\n",
    "\n",
    "*   If you use _Google Colab_, simply run the following cell to install Pytorch Geometric (**advised**).\n",
    "*   If you plan using your _own environment_, follow the documentation to install Pytorch Geometric : https://pytorch-geometric.readthedocs.io/en/latest/install/installation.html and skip the following cell."
   ]
  },
  {
   "cell_type": "markdown",
   "metadata": {
    "cell_ktag": "CeIiDvQzU6lQ"
   },
   "source": [
    "### Import required packages\n",
    "\n",
    "Run the following cell to import all required packages. This cell **must not** be modified.\n",
    "\n",
    "To significantly accelerate your training, it is advised to use GPU. Using Google Colab, you need to activate it : \n",
    "\n",
    "*   Edit --> Notebook Setting --> Hardware accelerator --> GPU"
   ]
  },
  {
   "cell_type": "code",
   "execution_count": 1,
   "metadata": {
    "cell_ktag": "CeIiDvQzU6lQ"
   },
   "outputs": [
    {
     "name": "stderr",
     "output_type": "stream",
     "text": [
      "/Users/matthieuneau/Library/Caches/pypoetry/virtualenvs/practice-labs-lU_vlk8p-py3.12/lib/python3.12/site-packages/torch_geometric/typing.py:86: UserWarning: An issue occurred while importing 'torch-scatter'. Disabling its usage. Stacktrace: dlopen(/Users/matthieuneau/Library/Caches/pypoetry/virtualenvs/practice-labs-lU_vlk8p-py3.12/lib/python3.12/site-packages/torch_scatter/_scatter_cpu.so, 0x0006): Symbol not found: __ZN2at4_ops16div__Tensor_mode4callERNS_6TensorERKS2_NSt3__18optionalIN3c1017basic_string_viewIcEEEE\n",
      "  Referenced from: <4A3195B8-9E71-3AE7-AE80-DBA66ADAC535> /Users/matthieuneau/Library/Caches/pypoetry/virtualenvs/practice-labs-lU_vlk8p-py3.12/lib/python3.12/site-packages/torch_scatter/_scatter_cpu.so\n",
      "  Expected in:     <DA215AD3-6EAE-3755-B6A5-A8EB4EF952B0> /Users/matthieuneau/Library/Caches/pypoetry/virtualenvs/practice-labs-lU_vlk8p-py3.12/lib/python3.12/site-packages/torch/lib/libtorch_cpu.dylib\n",
      "  warnings.warn(f\"An issue occurred while importing 'torch-scatter'. \"\n",
      "/Users/matthieuneau/Library/Caches/pypoetry/virtualenvs/practice-labs-lU_vlk8p-py3.12/lib/python3.12/site-packages/torch_geometric/typing.py:113: UserWarning: An issue occurred while importing 'torch-spline-conv'. Disabling its usage. Stacktrace: dlopen(/Users/matthieuneau/Library/Caches/pypoetry/virtualenvs/practice-labs-lU_vlk8p-py3.12/lib/python3.12/site-packages/torch_spline_conv/_basis_cpu.so, 0x0006): Symbol not found: __ZN5torch8autograd12VariableInfoC1ERKN2at6TensorE\n",
      "  Referenced from: <E5EBDDAB-B1B9-3199-B5D8-B1F2B3E48B6A> /Users/matthieuneau/Library/Caches/pypoetry/virtualenvs/practice-labs-lU_vlk8p-py3.12/lib/python3.12/site-packages/torch_spline_conv/_basis_cpu.so\n",
      "  Expected in:     <DA215AD3-6EAE-3755-B6A5-A8EB4EF952B0> /Users/matthieuneau/Library/Caches/pypoetry/virtualenvs/practice-labs-lU_vlk8p-py3.12/lib/python3.12/site-packages/torch/lib/libtorch_cpu.dylib\n",
      "  warnings.warn(\n",
      "/Users/matthieuneau/Library/Caches/pypoetry/virtualenvs/practice-labs-lU_vlk8p-py3.12/lib/python3.12/site-packages/torch_geometric/typing.py:124: UserWarning: An issue occurred while importing 'torch-sparse'. Disabling its usage. Stacktrace: dlopen(/Users/matthieuneau/Library/Caches/pypoetry/virtualenvs/practice-labs-lU_vlk8p-py3.12/lib/python3.12/site-packages/torch_sparse/_spmm_cpu.so, 0x0006): Symbol not found: __ZN5torch8autograd12VariableInfoC1ERKN2at6TensorE\n",
      "  Referenced from: <240FBBBE-7919-300D-BFF9-4CBCFE26BD89> /Users/matthieuneau/Library/Caches/pypoetry/virtualenvs/practice-labs-lU_vlk8p-py3.12/lib/python3.12/site-packages/torch_sparse/_spmm_cpu.so\n",
      "  Expected in:     <DA215AD3-6EAE-3755-B6A5-A8EB4EF952B0> /Users/matthieuneau/Library/Caches/pypoetry/virtualenvs/practice-labs-lU_vlk8p-py3.12/lib/python3.12/site-packages/torch/lib/libtorch_cpu.dylib\n",
      "  warnings.warn(f\"An issue occurred while importing 'torch-sparse'. \"\n"
     ]
    }
   ],
   "source": [
    "import numpy as np\n",
    "import matplotlib.pyplot as plt\n",
    "\n",
    "import torch\n",
    "import torch.nn as nn\n",
    "import torch_geometric.nn as graphnn\n",
    "from sklearn.metrics import f1_score\n",
    "from torch_geometric.datasets import PPI\n",
    "from torch_geometric.loader import DataLoader"
   ]
  },
  {
   "cell_type": "markdown",
   "metadata": {
    "cell_ktag": "CeIiDvQzU6lQ"
   },
   "source": [
    "### Dataset\n",
    "\n",
    "We use the Protein-Protein Interaction (PPI) network dataset which includes:\n",
    "- 20 graphs for training \n",
    "- 2 graphs for validation\n",
    "- 2 graphs for testing\n",
    "\n",
    "One graph of the PPI dataset has on average 2372 nodes. Each node has:\n",
    "- 50 features : positional gene sets / motif gene / immunological signatures ...\n",
    "- 121 (binary) labels : gene ontology sets (way to classify gene products like proteins).\n",
    "\n",
    "**This problem aims to predict, for a given PPI graph, the correct nodes' labels**.\n",
    "\n",
    "**It is a node (multi-label) classification task** (trained using supervised learning, with labels to be predicted for each node). \n",
    "\n",
    "For your curiosity, more detailed information on the dataset and some applications:\n",
    "- https://cs.stanford.edu/~jure/pubs/pathways-psb18.pdf\n",
    "- https://arxiv.org/abs/1707.04638\n",
    "\n",
    "To understand how a graph data is implemented in Pytorch Geometric, refer to : https://pytorch-geometric.readthedocs.io/en/latest/get_started/introduction.html\n"
   ]
  },
  {
   "cell_type": "code",
   "execution_count": 3,
   "metadata": {
    "cell_ktag": "CeIiDvQzU6lQ"
   },
   "outputs": [
    {
     "name": "stdout",
     "output_type": "stream",
     "text": [
      "Number of samples in the train dataset:  20\n",
      "Number of samples in the val dataset:  2\n",
      "Number of samples in the test dataset:  2\n",
      "Output of one sample from the train dataset:  Data(x=[1767, 50], edge_index=[2, 32318], y=[1767, 121])\n",
      "Edge_index :\n",
      "tensor([[   0,    0,    0,  ..., 1744, 1745, 1749],\n",
      "        [ 372, 1101,  766,  ..., 1745, 1744, 1739]])\n",
      "Number of features per node:  50\n",
      "Number of classes per node:  121\n",
      "tensor([[1., 0., 0.,  ..., 1., 1., 0.],\n",
      "        [1., 0., 0.,  ..., 1., 1., 1.],\n",
      "        [1., 1., 1.,  ..., 0., 0., 0.],\n",
      "        ...,\n",
      "        [0., 0., 0.,  ..., 0., 0., 0.],\n",
      "        [0., 0., 0.,  ..., 0., 0., 0.],\n",
      "        [1., 0., 0.,  ..., 0., 0., 0.]])\n"
     ]
    }
   ],
   "source": [
    "### LOAD DATASETS\n",
    "\n",
    "BATCH_SIZE = 2\n",
    "\n",
    "# Train Dataset\n",
    "train_dataset = PPI(root=\"\", split=\"train\")\n",
    "train_dataloader = DataLoader(train_dataset, batch_size=BATCH_SIZE)\n",
    "# Val Dataset\n",
    "val_dataset = PPI(root=\"\", split=\"val\")\n",
    "val_dataloader = DataLoader(val_dataset, batch_size=BATCH_SIZE)\n",
    "# Test Dataset\n",
    "test_dataset = PPI(root=\"\", split=\"test\")\n",
    "test_dataloader = DataLoader(test_dataset, batch_size=BATCH_SIZE)\n",
    "\n",
    "# Number of features and classes\n",
    "n_features, n_classes = train_dataset[0].x.shape[1], train_dataset[0].y.shape[1]\n",
    "\n",
    "print(\"Number of samples in the train dataset: \", len(train_dataset))\n",
    "print(\"Number of samples in the val dataset: \", len(test_dataset))\n",
    "print(\"Number of samples in the test dataset: \", len(test_dataset))\n",
    "print(\"Output of one sample from the train dataset: \", train_dataset[0])\n",
    "print(\"Edge_index :\")\n",
    "print(train_dataset[0].edge_index)\n",
    "print(\"Number of features per node: \", n_features)\n",
    "print(\"Number of classes per node: \", n_classes)\n",
    "print(train_dataset[0].y)"
   ]
  },
  {
   "cell_type": "markdown",
   "metadata": {
    "cell_ktag": "CeIiDvQzU6lQ"
   },
   "source": [
    "### Define a basic Model"
   ]
  },
  {
   "cell_type": "markdown",
   "metadata": {
    "cell_ktag": "CeIiDvQzU6lQ"
   },
   "source": [
    "Here we define a very simple Graph Neural Network model which will be used as our baseline. This model consists of three graph convolutional layers (from https://arxiv.org/pdf/1609.02907.pdf). The first two layers computes 256 features, followed by an ELU activation function. The last layer is used for (multi-label) classification task, computing 121 features (for each node)."
   ]
  },
  {
   "cell_type": "code",
   "execution_count": 4,
   "metadata": {
    "cell_ktag": "CeIiDvQzU6lQ"
   },
   "outputs": [],
   "source": [
    "#####################################################\n",
    "################## MODEL ############################\n",
    "#####################################################\n",
    "class BasicGraphModel(nn.Module):\n",
    "    def __init__(self, input_size, hidden_size, output_size):\n",
    "        super().__init__()\n",
    "\n",
    "        self.graphconv1 = graphnn.GCNConv(input_size, hidden_size)\n",
    "        self.graphconv2 = graphnn.GCNConv(hidden_size, hidden_size)\n",
    "        self.graphconv3 = graphnn.GCNConv(hidden_size, output_size)\n",
    "\n",
    "        self.elu = nn.ELU()\n",
    "\n",
    "    def forward(self, x, edge_index):\n",
    "        x = self.graphconv1(x, edge_index)\n",
    "        x = self.elu(x)\n",
    "        x = self.graphconv2(x, edge_index)\n",
    "        x = self.elu(x)\n",
    "        x = self.graphconv3(x, edge_index)\n",
    "\n",
    "        return x"
   ]
  },
  {
   "cell_type": "markdown",
   "metadata": {
    "cell_ktag": "CeIiDvQzU6lQ"
   },
   "source": [
    "Next function is designed to evaluate the performance of the model, computing the F1-Score"
   ]
  },
  {
   "cell_type": "code",
   "execution_count": 5,
   "metadata": {
    "cell_ktag": "CeIiDvQzU6lQ"
   },
   "outputs": [],
   "source": [
    "#####################################################\n",
    "############### TEST FUNCTION #######################\n",
    "#####################################################\n",
    "def evaluate(model, loss_fcn, device, dataloader):\n",
    "    score_list_batch = []\n",
    "\n",
    "    model.eval()\n",
    "    for i, batch in enumerate(dataloader):\n",
    "        batch = batch.to(device)\n",
    "        output = model(batch.x, batch.edge_index)\n",
    "        loss_test = loss_fcn(output, batch.y)\n",
    "        predict = np.where(output.detach().cpu().numpy() >= 0, 1, 0)\n",
    "        score = f1_score(batch.y.cpu().numpy(), predict, average=\"micro\")\n",
    "        score_list_batch.append(score)\n",
    "\n",
    "    return np.array(score_list_batch).mean()"
   ]
  },
  {
   "cell_type": "markdown",
   "metadata": {
    "cell_ktag": "CeIiDvQzU6lQ"
   },
   "source": [
    "Next we construct the function to train the model."
   ]
  },
  {
   "cell_type": "code",
   "execution_count": null,
   "metadata": {
    "cell_ktag": "CeIiDvQzU6lQ"
   },
   "outputs": [],
   "source": [
    "#####################################################\n",
    "############## TRAIN FUNCTION #######################\n",
    "#####################################################\n",
    "def train(\n",
    "    model, loss_fcn, device, optimizer, max_epochs, train_dataloader, val_dataloader\n",
    "):\n",
    "    epoch_list = []\n",
    "    scores_list = []\n",
    "    loss_per_epoch = []\n",
    "\n",
    "    for epoch in range(max_epochs):\n",
    "        model.train()\n",
    "        losses = []\n",
    "        for i, train_batch in enumerate(train_dataloader):\n",
    "            optimizer.zero_grad()\n",
    "            train_batch_device = train_batch.to(device)\n",
    "            logits = model(train_batch_device.x, train_batch_device.edge_index)\n",
    "            loss = loss_fcn(logits, train_batch_device.y)\n",
    "            loss.backward()\n",
    "            optimizer.step()\n",
    "            losses.append(loss.item())\n",
    "        loss_data = np.array(losses).mean()\n",
    "        loss_per_epoch.append(loss_data)\n",
    "        print(\"Epoch {:05d} | Loss: {:.4f}\".format(epoch + 1, loss_data))\n",
    "\n",
    "        if epoch % 10 == 0:\n",
    "            score = evaluate(model, loss_fcn, device, val_dataloader)\n",
    "            print(\"F1-Score: {:.4f}\".format(score))\n",
    "            scores_list.append(score)\n",
    "            epoch_list.append(epoch)\n",
    "\n",
    "    return epoch_list, scores_list, loss_per_epoch"
   ]
  },
  {
   "cell_type": "markdown",
   "metadata": {
    "cell_ktag": "CeIiDvQzU6lQ"
   },
   "source": [
    "Let's train this model !"
   ]
  },
  {
   "cell_type": "code",
   "execution_count": null,
   "metadata": {
    "cell_ktag": "CeIiDvQzU6lQ"
   },
   "outputs": [
    {
     "name": "stdout",
     "output_type": "stream",
     "text": [
      "\n",
      "Device:  cpu\n",
      "Epoch 00001 | Loss: 0.6387\n",
      "F1-Score: 0.4488\n",
      "Epoch 00002 | Loss: 0.5812\n",
      "Epoch 00003 | Loss: 0.5615\n",
      "Epoch 00004 | Loss: 0.5560\n",
      "Epoch 00005 | Loss: 0.5512\n",
      "Epoch 00006 | Loss: 0.5462\n",
      "Epoch 00007 | Loss: 0.5417\n",
      "Epoch 00008 | Loss: 0.5376\n",
      "Epoch 00009 | Loss: 0.5344\n",
      "Epoch 00010 | Loss: 0.5317\n",
      "Epoch 00011 | Loss: 0.5291\n",
      "F1-Score: 0.5287\n",
      "Epoch 00012 | Loss: 0.5264\n",
      "Epoch 00013 | Loss: 0.5240\n",
      "Epoch 00014 | Loss: 0.5216\n",
      "Epoch 00015 | Loss: 0.5196\n",
      "Epoch 00016 | Loss: 0.5176\n",
      "Epoch 00017 | Loss: 0.5155\n",
      "Epoch 00018 | Loss: 0.5134\n",
      "Epoch 00019 | Loss: 0.5110\n",
      "Epoch 00020 | Loss: 0.5083\n"
     ]
    }
   ],
   "source": [
    "device = torch.device(\"cuda\" if torch.cuda.is_available() else \"cpu\")\n",
    "print(\"\\nDevice: \", device)\n",
    "\n",
    "max_epochs = 20\n",
    "\n",
    "basic_model = BasicGraphModel(\n",
    "    input_size=n_features, hidden_size=256, output_size=n_classes\n",
    ").to(device)\n",
    "loss_fcn = nn.BCEWithLogitsLoss()\n",
    "optimizer = torch.optim.Adam(basic_model.parameters(), lr=0.005)\n",
    "\n",
    "epoch_list, basic_model_scores, loss_per_epoch = train(\n",
    "    basic_model,\n",
    "    loss_fcn,\n",
    "    device,\n",
    "    optimizer,\n",
    "    max_epochs,\n",
    "    train_dataloader,\n",
    "    val_dataloader,\n",
    ")"
   ]
  },
  {
   "cell_type": "markdown",
   "metadata": {
    "cell_ktag": "CeIiDvQzU6lQ"
   },
   "source": [
    "Let's evaluate the performance of this basic model"
   ]
  },
  {
   "cell_type": "code",
   "execution_count": 12,
   "metadata": {
    "cell_ktag": "CeIiDvQzU6lQ"
   },
   "outputs": [
    {
     "name": "stdout",
     "output_type": "stream",
     "text": [
      "Basic Model : F1-Score on the validation set: 0.5229\n"
     ]
    },
    {
     "data": {
      "image/png": "[encoded data removed]",
      "text/plain": [
       "<Figure size 1000x500 with 1 Axes>"
      ]
     },
     "metadata": {},
     "output_type": "display_data"
    }
   ],
   "source": [
    "### F1-SCORE ON VALID DATASET\n",
    "score_valid = evaluate(basic_model, loss_fcn, device, val_dataloader)\n",
    "print(\"Basic Model : F1-Score on the validation set: {:.4f}\".format(score_valid))\n",
    "\n",
    "\n",
    "### PLOT EVOLUTION OF F1-SCORE W.R.T EPOCHS\n",
    "def plot_f1_score(epoch_list, scores):\n",
    "    plt.figure(figsize=[10, 5])\n",
    "    plt.plot(epoch_list, scores)\n",
    "    plt.title(\"Evolution of F1-Score w.r.t epochs\")\n",
    "    plt.ylim([0.0, 1.0])\n",
    "    plt.show()\n",
    "\n",
    "\n",
    "plot_f1_score(epoch_list, basic_model_scores)"
   ]
  },
  {
   "cell_type": "markdown",
   "metadata": {
    "cell_ktag": "CeIiDvQzU6lQ"
   },
   "source": [
    "# QUESTIONS\n",
    "\n",
    "## Grading\n",
    "\n",
    "You will be graded on 5 questions. You will need to provide at least 4 files : \n",
    "1. This Notebook\n",
    "2. `class_model_gnn.py`\n",
    "3. `model.pth` (the file **must be of size less than 50Mo** but 20Mo should be enough to get a very good model)\n",
    "4. `conv_as_message_passing.py`\n",
    "\n",
    "If the function you defined passes all the tests, you will get the full grade. Otherwise we  will look at the intermediate questions in the notebook to give you partial credit.\n",
    "\n",
    "\n",
    "\n",
    " Please provide clear, short and __bold font__ answers.  "
   ]
  },
  {
   "cell_type": "markdown",
   "metadata": {
    "cell_ktag": "CeIiDvQzU6lQ"
   },
   "source": [
    "> Question 1 : Design, build and train a model with a F1-score higher than 93% on validation set (**HINT :** https://arxiv.org/pdf/1710.10903.pdf).\n"
   ]
  },
  {
   "cell_type": "markdown",
   "metadata": {
    "cell_ktag": "CeIiDvQzU6lQ"
   },
   "source": [
    " Provide two files : (https://pytorch.org/tutorials/beginner/saving_loading_models.html)\n",
    " -  a file  `class_model_gnn.py` containing the class inheriting from `torch.nn.Module` architecture of your final model to load\n",
    " -  a `model.pth` file : the model weights\n",
    " \n",
    " We will  test your model on final F1-Score on a test set. You must not use the test set for hyperparameter training.\n",
    " \n",
    "Intermediate question : \n",
    "\n",
    " Provide the script for training, and a plot of the training loss.  "
   ]
  },
  {
   "cell_type": "code",
   "execution_count": 25,
   "metadata": {},
   "outputs": [
    {
     "name": "stdout",
     "output_type": "stream",
     "text": [
      "Model loaded successfully\n"
     ]
    },
    {
     "ename": "TypeError",
     "evalue": "StudentModel.forward() takes 2 positional arguments but 3 were given",
     "output_type": "error",
     "traceback": [
      "\u001b[31m---------------------------------------------------------------------------\u001b[39m",
      "\u001b[31mTypeError\u001b[39m                                 Traceback (most recent call last)",
      "\u001b[36mCell\u001b[39m\u001b[36m \u001b[39m\u001b[32mIn[25]\u001b[39m\u001b[32m, line 9\u001b[39m\n\u001b[32m      6\u001b[39m optimizer = torch.optim.Adam(model.parameters(), lr=\u001b[32m0.005\u001b[39m)\n\u001b[32m      8\u001b[39m max_epochs = \u001b[32m200\u001b[39m\n\u001b[32m----> \u001b[39m\u001b[32m9\u001b[39m _, _, loss_per_epoch = \u001b[43mtrain\u001b[49m\u001b[43m(\u001b[49m\n\u001b[32m     10\u001b[39m \u001b[43m    \u001b[49m\u001b[43mmodel\u001b[49m\u001b[43m,\u001b[49m\n\u001b[32m     11\u001b[39m \u001b[43m    \u001b[49m\u001b[43mloss_fcn\u001b[49m\u001b[43m=\u001b[49m\u001b[43mloss_fcn\u001b[49m\u001b[43m,\u001b[49m\n\u001b[32m     12\u001b[39m \u001b[43m    \u001b[49m\u001b[43mdevice\u001b[49m\u001b[43m=\u001b[49m\u001b[43mdevice\u001b[49m\u001b[43m,\u001b[49m\n\u001b[32m     13\u001b[39m \u001b[43m    \u001b[49m\u001b[43moptimizer\u001b[49m\u001b[43m=\u001b[49m\u001b[43moptimizer\u001b[49m\u001b[43m,\u001b[49m\n\u001b[32m     14\u001b[39m \u001b[43m    \u001b[49m\u001b[43mmax_epochs\u001b[49m\u001b[43m=\u001b[49m\u001b[43mmax_epochs\u001b[49m\u001b[43m,\u001b[49m\n\u001b[32m     15\u001b[39m \u001b[43m    \u001b[49m\u001b[43mtrain_dataloader\u001b[49m\u001b[43m=\u001b[49m\u001b[43mtrain_dataloader\u001b[49m\u001b[43m,\u001b[49m\n\u001b[32m     16\u001b[39m \u001b[43m    \u001b[49m\u001b[43mval_dataloader\u001b[49m\u001b[43m=\u001b[49m\u001b[43mval_dataloader\u001b[49m\u001b[43m,\u001b[49m\n\u001b[32m     17\u001b[39m \u001b[43m)\u001b[49m\n\u001b[32m     19\u001b[39m torch.save(model.state_dict(), \u001b[33m\"\u001b[39m\u001b[33mmodel.pth\u001b[39m\u001b[33m\"\u001b[39m)\n\u001b[32m     20\u001b[39m model.load_state_dict(torch.load(\u001b[33m\"\u001b[39m\u001b[33mmodel.pth\u001b[39m\u001b[33m\"\u001b[39m, weights_only=\u001b[38;5;28;01mTrue\u001b[39;00m))\n",
      "\u001b[36mCell\u001b[39m\u001b[36m \u001b[39m\u001b[32mIn[6]\u001b[39m\u001b[32m, line 15\u001b[39m, in \u001b[36mtrain\u001b[39m\u001b[34m(model, loss_fcn, device, optimizer, max_epochs, train_dataloader, val_dataloader)\u001b[39m\n\u001b[32m     13\u001b[39m optimizer.zero_grad()\n\u001b[32m     14\u001b[39m train_batch_device = train_batch.to(device)\n\u001b[32m---> \u001b[39m\u001b[32m15\u001b[39m logits = \u001b[43mmodel\u001b[49m\u001b[43m(\u001b[49m\u001b[43mtrain_batch_device\u001b[49m\u001b[43m.\u001b[49m\u001b[43mx\u001b[49m\u001b[43m,\u001b[49m\u001b[43m \u001b[49m\u001b[43mtrain_batch_device\u001b[49m\u001b[43m.\u001b[49m\u001b[43medge_index\u001b[49m\u001b[43m)\u001b[49m\n\u001b[32m     16\u001b[39m loss = loss_fcn(logits, train_batch_device.y)\n\u001b[32m     17\u001b[39m loss.backward()\n",
      "\u001b[36mFile \u001b[39m\u001b[32m~/Library/Caches/pypoetry/virtualenvs/practice-labs-lU_vlk8p-py3.12/lib/python3.12/site-packages/torch/nn/modules/module.py:1739\u001b[39m, in \u001b[36mModule._wrapped_call_impl\u001b[39m\u001b[34m(self, *args, **kwargs)\u001b[39m\n\u001b[32m   1737\u001b[39m     \u001b[38;5;28;01mreturn\u001b[39;00m \u001b[38;5;28mself\u001b[39m._compiled_call_impl(*args, **kwargs)  \u001b[38;5;66;03m# type: ignore[misc]\u001b[39;00m\n\u001b[32m   1738\u001b[39m \u001b[38;5;28;01melse\u001b[39;00m:\n\u001b[32m-> \u001b[39m\u001b[32m1739\u001b[39m     \u001b[38;5;28;01mreturn\u001b[39;00m \u001b[38;5;28;43mself\u001b[39;49m\u001b[43m.\u001b[49m\u001b[43m_call_impl\u001b[49m\u001b[43m(\u001b[49m\u001b[43m*\u001b[49m\u001b[43margs\u001b[49m\u001b[43m,\u001b[49m\u001b[43m \u001b[49m\u001b[43m*\u001b[49m\u001b[43m*\u001b[49m\u001b[43mkwargs\u001b[49m\u001b[43m)\u001b[49m\n",
      "\u001b[36mFile \u001b[39m\u001b[32m~/Library/Caches/pypoetry/virtualenvs/practice-labs-lU_vlk8p-py3.12/lib/python3.12/site-packages/torch/nn/modules/module.py:1750\u001b[39m, in \u001b[36mModule._call_impl\u001b[39m\u001b[34m(self, *args, **kwargs)\u001b[39m\n\u001b[32m   1745\u001b[39m \u001b[38;5;66;03m# If we don't have any hooks, we want to skip the rest of the logic in\u001b[39;00m\n\u001b[32m   1746\u001b[39m \u001b[38;5;66;03m# this function, and just call forward.\u001b[39;00m\n\u001b[32m   1747\u001b[39m \u001b[38;5;28;01mif\u001b[39;00m \u001b[38;5;129;01mnot\u001b[39;00m (\u001b[38;5;28mself\u001b[39m._backward_hooks \u001b[38;5;129;01mor\u001b[39;00m \u001b[38;5;28mself\u001b[39m._backward_pre_hooks \u001b[38;5;129;01mor\u001b[39;00m \u001b[38;5;28mself\u001b[39m._forward_hooks \u001b[38;5;129;01mor\u001b[39;00m \u001b[38;5;28mself\u001b[39m._forward_pre_hooks\n\u001b[32m   1748\u001b[39m         \u001b[38;5;129;01mor\u001b[39;00m _global_backward_pre_hooks \u001b[38;5;129;01mor\u001b[39;00m _global_backward_hooks\n\u001b[32m   1749\u001b[39m         \u001b[38;5;129;01mor\u001b[39;00m _global_forward_hooks \u001b[38;5;129;01mor\u001b[39;00m _global_forward_pre_hooks):\n\u001b[32m-> \u001b[39m\u001b[32m1750\u001b[39m     \u001b[38;5;28;01mreturn\u001b[39;00m \u001b[43mforward_call\u001b[49m\u001b[43m(\u001b[49m\u001b[43m*\u001b[49m\u001b[43margs\u001b[49m\u001b[43m,\u001b[49m\u001b[43m \u001b[49m\u001b[43m*\u001b[49m\u001b[43m*\u001b[49m\u001b[43mkwargs\u001b[49m\u001b[43m)\u001b[49m\n\u001b[32m   1752\u001b[39m result = \u001b[38;5;28;01mNone\u001b[39;00m\n\u001b[32m   1753\u001b[39m called_always_called_hooks = \u001b[38;5;28mset\u001b[39m()\n",
      "\u001b[31mTypeError\u001b[39m: StudentModel.forward() takes 2 positional arguments but 3 were given"
     ]
    }
   ],
   "source": [
    "from class_model_gnn import StudentModel\n",
    "\n",
    "device = \"cuda\" if torch.cuda.is_available() else \"cpu\"\n",
    "model = StudentModel()\n",
    "loss_fcn = nn.BCEWithLogitsLoss()\n",
    "optimizer = torch.optim.Adam(model.parameters(), lr=0.005)\n",
    "\n",
    "max_epochs = 200\n",
    "_, _, loss_per_epoch = train(\n",
    "    model,\n",
    "    loss_fcn=loss_fcn,\n",
    "    device=device,\n",
    "    optimizer=optimizer,\n",
    "    max_epochs=max_epochs,\n",
    "    train_dataloader=train_dataloader,\n",
    "    val_dataloader=val_dataloader,\n",
    ")\n",
    "\n",
    "torch.save(model.state_dict(), \"model.pth\")\n",
    "model.load_state_dict(torch.load(\"model.pth\", weights_only=True))\n",
    "\n",
    "plt.plot(range(max_epochs), loss_per_epoch)"
   ]
  },
  {
   "cell_type": "markdown",
   "metadata": {
    "cell_ktag": "CeIiDvQzU6lQ"
   },
   "source": [
    "## Conv 2D as Message Passing Neural Network\n",
    "\n",
    "\n",
    "## Introduction\n",
    "\n",
    "The use of graph is a way to structure data by adding neighborhood information between features. This then allows to do operations on the data that are local to each node and its neighbors. This is the main idea behind Graph Neural Networks (GNNs). [`pytorch-geometric`](https://pytorch-geometric.readthedocs.io/en/latest/) is a library compatible with PyTorch that allows to easily implement GNNs. The most general structure is the [`MessagePassing`](https://pytorch-geometric.readthedocs.io/en/latest/generated/torch_geometric.nn.conv.MessagePassing.html#torch_geometric.nn.conv.MessagePassing) class that is then used as a base for more specific GNNs as seen in the course ([Graph Convolutional Networks](https://pytorch-geometric.readthedocs.io/en/latest/generated/torch_geometric.nn.conv.GCNConv.html#torch_geometric.nn.conv.GCNConv) or [Graph AttenTion Convolution](https://pytorch-geometric.readthedocs.io/en/latest/generated/torch_geometric.nn.conv.GATConv.html#torch_geometric.nn.conv.GATConv)).\n",
    "\n",
    "On the other hand, you already know an operation that uses the structure of the data to do local operations: the convolution (https://pytorch.org/docs/stable/generated/torch.nn.Conv2d.html). One can see the convolution as a specific case of the message passing neural network. The goal of this notebook is to show how to use the `MessagePassing` class to implement a convolutional neural network.\n",
    "You will be asked to implement 3 functions. You should give back those three functions in a file named `conv_as_message_passing.py`. These functions will then be automatically tested. So be sure to respect the function signature and the function name.\n",
    "\n",
    "\n",
    "## Assumptions\n",
    "\n",
    "To make the implementation easier we will make some assumptions:\n",
    "- the input is a single image (batch size of 1) of size 'C x H x W'\n",
    "- the convolution will be a 3x3 kernel with stride 1 and padding 1.\n",
    "\n",
    "You may also assume that the Conv2D layer has no bias but it will be slightly penalized in the grading.\n",
    "\n",
    "Bonus points will be given if you can handle the cases that are not covered by those assumptions.\n",
    "\n",
    "\n",
    "## Questions\n",
    "\n",
    "### Question 2\n",
    "\n",
    "> Using the formalism used in the [`MessagePassing`](https://pytorch-geometric.readthedocs.io/en/latest/generated/torch_geometric.nn.conv.MessagePassing.html#torch_geometric.nn.conv.MessagePassing) documentation (and on [wikipedia](https://en.wikipedia.org/wiki/Graph_neural_network#Message_passing_layers) with sligthly different notations), explain how theorically you can simulate a 2D convolution using the `MessagePassing` formalism. This may include a pre-processing step to transform the image into a graph and then a post-processing step to transform the graph back into an image. (:warning: Those steps should be independent of the parameters of the convolution, but not necessarily from the hyper-parameters.)\n",
    "$$\\mathbf{x}_{i}^{\\prime} = \\gamma_{\\mathbf{\\Theta}}\\left( \\mathbf{x}_{i},\\bigoplus\\limits_{j \\in \\mathcal{N}(i)}\\,\\phi_{\\mathbf{\\Theta}}\\left( \\mathbf{x}_{i},\\mathbf{x}_{j},\\mathbf{e}_{j,i} \\right) \\right),$$\n",
    "\n",
    "\n",
    "HINT : It is possible to do it with the following $\\gamma$ : \n",
    "\n",
    "$$ \\gamma_\\Theta : x,y \\mapsto y $$\n"
   ]
  },
  {
   "cell_type": "markdown",
   "metadata": {},
   "source": [
    "The idea is to consider an image as a graph where each pixel is a node and its neighbors are all the pixels covered by the convolution kernel. More specifically, for in image of size C x H x W and kernels of size 3x3, the neighborhood of $x_{ij}$ consists in the 9 pixels square centered at $x_{ij}$ for all the filters in the image (including $x_{ij}$ itself). Therefore a node has a total of 3x3 neighbors, except if it's located on the border of the image where in that case it has fewer neighbors\n",
    "\n",
    "The nodes are therefore of dimension C\n",
    "\n",
    "Then we can use the suggested function $$ \\gamma_\\Theta : x,y \\mapsto y + b_\\theta $$\n",
    "\n",
    "where $b_\\theta$ represents the bias of the layer\n",
    "\n",
    "The aggragation function to use is the **sum**\n",
    "\n",
    "We define $\\phi_\\Theta$ as follows:\n",
    " $$\\phi_\\Theta : x_i, x_j, e_{j,i} \\mapsto e_{j,i} \\times x_j$$\n",
    "\n",
    "where $e_{j,i}$ is a matrix of size $C_{out} \\times C_{in}$ containing the weights of the kernel relating to the node j\n"
   ]
  },
  {
   "cell_type": "code",
   "execution_count": 16,
   "metadata": {
    "cell_ktag": "CeIiDvQzU6lQ"
   },
   "outputs": [],
   "source": [
    "import torch\n",
    "import torch_geometric\n",
    "from conv_as_message_passing import image_to_graph, graph_to_image"
   ]
  },
  {
   "cell_type": "markdown",
   "metadata": {
    "cell_ktag": "CeIiDvQzU6lQ"
   },
   "source": [
    "### Question 3\n",
    "\n",
    "> Implement the pre-processing function, you can use the follwing code skeleton (you may change the output type, it is just a strong suggestion):"
   ]
  },
  {
   "cell_type": "markdown",
   "metadata": {
    "cell_ktag": "CeIiDvQzU6lQ"
   },
   "source": [
    "### Question 4\n",
    "\n",
    "> Implement the post-processing function, you can use the follwing code skeleton:"
   ]
  },
  {
   "cell_type": "markdown",
   "metadata": {
    "cell_ktag": "CeIiDvQzU6lQ"
   },
   "source": [
    "#### Recommended test cases\n",
    "\n",
    "We **encourage** you to test that you have the property that the pre-processing function followed by the post-processing function is the identity function."
   ]
  },
  {
   "cell_type": "code",
   "execution_count": 18,
   "metadata": {
    "cell_ktag": "CeIiDvQzU6lQ"
   },
   "outputs": [],
   "source": [
    "ref_conv = torch.nn.Conv2d(5, 7, kernel_size=3, padding=1, stride=1)\n",
    "image = torch.randn(5, 10, 11)\n",
    "g_image = image_to_graph(image, ref_conv)\n",
    "reconstructed_image = graph_to_image(g_image.x, 10, 11, ref_conv)\n",
    "assert torch.allclose(image, reconstructed_image)"
   ]
  },
  {
   "cell_type": "markdown",
   "metadata": {
    "cell_ktag": "CeIiDvQzU6lQ"
   },
   "source": [
    "### Question 5\n",
    "\n",
    "> Implement the `Conv2dMessagePassing` class that will simulate a 2D convolution using the `MessagePassing` formalism. \n",
    "You should inherit from the `MessagePassing` class and only change the `__init__` and `message` functions (the `forward` function has already been changed for you). You should use the following code skeleton:"
   ]
  },
  {
   "cell_type": "markdown",
   "metadata": {
    "cell_ktag": "CeIiDvQzU6lQ"
   },
   "source": [
    "## Test example"
   ]
  },
  {
   "cell_type": "code",
   "execution_count": 19,
   "metadata": {},
   "outputs": [
    {
     "data": {
      "text/plain": [
       "tensor([[[14., 24., 30., 22.],\n",
       "         [33., 54., 63., 45.],\n",
       "         [57., 90., 99., 69.],\n",
       "         [46., 72., 78., 54.]]], grad_fn=<SqueezeBackward1>)"
      ]
     },
     "execution_count": 19,
     "metadata": {},
     "output_type": "execute_result"
    }
   ],
   "source": [
    "t_conv = nn.Conv2d(1, 1, kernel_size=3, padding=1, stride=1, bias=False)\n",
    "t_conv.weight.data.fill_(1.0)\n",
    "t_tensor = torch.arange(1, 17).view(1, 4, 4).float()\n",
    "t_conv(t_tensor)"
   ]
  },
  {
   "cell_type": "code",
   "execution_count": 24,
   "metadata": {
    "cell_ktag": "CeIiDvQzU6lQ"
   },
   "outputs": [],
   "source": [
    "from conv_as_message_passing import image_to_graph, graph_to_image, Conv2dMessagePassing\n",
    "\n",
    "c = 5\n",
    "h = 10\n",
    "w = 11\n",
    "\n",
    "ref_conv = torch.nn.Conv2d(c, 2, kernel_size=3, padding=1, stride=1, bias=False)\n",
    "image = torch.randn(c, h, w)\n",
    "g_image = image_to_graph(image, ref_conv)\n",
    "ref_conv.weight.data = torch.randn_like(ref_conv.weight.data)\n",
    "\n",
    "conv_mp = Conv2dMessagePassing(ref_conv)\n",
    "g_image = conv_mp(g_image)\n",
    "\n",
    "y_th = ref_conv(image)\n",
    "\n",
    "ref_conv.weight.data = torch.randn_like(ref_conv.weight.data)\n",
    "reconstructed_image = graph_to_image(g_image, h, w, ref_conv)\n",
    "\n",
    "y_th - reconstructed_image\n",
    "\n",
    "assert torch.allclose(y_th, reconstructed_image, atol=1e2)"
   ]
  },
  {
   "cell_type": "code",
   "execution_count": null,
   "metadata": {},
   "outputs": [],
   "source": []
  }
 ],
 "metadata": {
  "kernelspec": {
   "display_name": "practice-labs-lU_vlk8p-py3.12",
   "language": "python",
   "name": "python3"
  },
  "kfiletag": "CeIiDvQzU6lQ",
  "language_info": {
   "codemirror_mode": {
    "name": "ipython",
    "version": 3
   },
   "file_extension": ".py",
   "mimetype": "text/x-python",
   "name": "python",
   "nbconvert_exporter": "python",
   "pygments_lexer": "ipython3",
   "version": "3.12.8"
  }
 },
 "nbformat": 4,
 "nbformat_minor": 2
}
