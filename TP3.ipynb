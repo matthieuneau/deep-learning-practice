{
 "cells": [
  {
   "cell_type": "markdown",
   "metadata": {
    "cell_ktag": "CeIiDvQzU6lQ"
   },
   "source": [
    "# TP 3  : Graph Neural Networks Architecture\n",
    "\n",
    "**Théo Rudkiewicz, Cyriaque Rousselot**"
   ]
  },
  {
   "cell_type": "markdown",
   "metadata": {
    "cell_ktag": "CeIiDvQzU6lQ"
   },
   "source": [
    "# TUTORIAL"
   ]
  },
  {
   "cell_type": "markdown",
   "metadata": {
    "cell_ktag": "CeIiDvQzU6lQ"
   },
   "source": [
    "### Install Pytorch Geometric\n",
    "\n",
    "To handle graph data, we use the library Pytorch Geometric : https://pytorch-geometric.readthedocs.io/en/latest/\n",
    "\n",
    "*   If you use _Google Colab_, simply run the following cell to install Pytorch Geometric (**advised**).\n",
    "*   If you plan using your _own environment_, follow the documentation to install Pytorch Geometric : https://pytorch-geometric.readthedocs.io/en/latest/install/installation.html and skip the following cell."
   ]
  },
  {
   "cell_type": "code",
   "execution_count": 2,
   "metadata": {
    "cell_ktag": "CeIiDvQzU6lQ"
   },
   "outputs": [],
   "source": [
    "# ########## INSTALL TORCH GEOMETRIC ##################\n",
    "# # https://pytorch-geometric.readthedocs.io/en/latest/\n",
    "# #####################################################\n",
    "# import torch\n",
    "\n",
    "\n",
    "# def format_pytorch_version(version):\n",
    "#     return version.split(\"+\")[0]\n",
    "\n",
    "\n",
    "# TORCH_version = torch.__version__\n",
    "# TORCH = format_pytorch_version(TORCH_version)\n",
    "\n",
    "\n",
    "# def format_cuda_version(version):\n",
    "#     return \"cu\" + version.replace(\".\", \"\")\n",
    "\n",
    "\n",
    "# CUDA_version = torch.version.cuda\n",
    "# CUDA = format_cuda_version(CUDA_version)\n",
    "\n",
    "# !pip install torch-scatter     -f https://pytorch-geometric.com/whl/torch-{TORCH}+{CUDA}.html\n",
    "# !pip install torch-sparse      -f https://pytorch-geometric.com/whl/torch-{TORCH}+{CUDA}.html\n",
    "# !pip install torch-cluster     -f https://pytorch-geometric.com/whl/torch-{TORCH}+{CUDA}.html\n",
    "# !pip install torch-spline-conv -f https://pytorch-geometric.com/whl/torch-{TORCH}+{CUDA}.html\n",
    "# !pip install torch-geometric\n"
   ]
  },
  {
   "cell_type": "markdown",
   "metadata": {
    "cell_ktag": "CeIiDvQzU6lQ"
   },
   "source": [
    "### Import required packages\n",
    "\n",
    "Run the following cell to import all required packages. This cell **must not** be modified.\n",
    "\n",
    "To significantly accelerate your training, it is advised to use GPU. Using Google Colab, you need to activate it : \n",
    "\n",
    "*   Edit --> Notebook Setting --> Hardware accelerator --> GPU"
   ]
  },
  {
   "cell_type": "code",
   "execution_count": 3,
   "metadata": {
    "cell_ktag": "CeIiDvQzU6lQ"
   },
   "outputs": [
    {
     "name": "stderr",
     "output_type": "stream",
     "text": [
      "/Users/matthieuneau/Library/Caches/pypoetry/virtualenvs/practice-labs-lU_vlk8p-py3.12/lib/python3.12/site-packages/torch_geometric/typing.py:86: UserWarning: An issue occurred while importing 'torch-scatter'. Disabling its usage. Stacktrace: dlopen(/Users/matthieuneau/Library/Caches/pypoetry/virtualenvs/practice-labs-lU_vlk8p-py3.12/lib/python3.12/site-packages/torch_scatter/_scatter_cpu.so, 0x0006): Symbol not found: __ZN2at4_ops16div__Tensor_mode4callERNS_6TensorERKS2_NSt3__18optionalIN3c1017basic_string_viewIcEEEE\n",
      "  Referenced from: <4A3195B8-9E71-3AE7-AE80-DBA66ADAC535> /Users/matthieuneau/Library/Caches/pypoetry/virtualenvs/practice-labs-lU_vlk8p-py3.12/lib/python3.12/site-packages/torch_scatter/_scatter_cpu.so\n",
      "  Expected in:     <DA215AD3-6EAE-3755-B6A5-A8EB4EF952B0> /Users/matthieuneau/Library/Caches/pypoetry/virtualenvs/practice-labs-lU_vlk8p-py3.12/lib/python3.12/site-packages/torch/lib/libtorch_cpu.dylib\n",
      "  warnings.warn(f\"An issue occurred while importing 'torch-scatter'. \"\n",
      "/Users/matthieuneau/Library/Caches/pypoetry/virtualenvs/practice-labs-lU_vlk8p-py3.12/lib/python3.12/site-packages/torch_geometric/typing.py:113: UserWarning: An issue occurred while importing 'torch-spline-conv'. Disabling its usage. Stacktrace: dlopen(/Users/matthieuneau/Library/Caches/pypoetry/virtualenvs/practice-labs-lU_vlk8p-py3.12/lib/python3.12/site-packages/torch_spline_conv/_basis_cpu.so, 0x0006): Symbol not found: __ZN5torch8autograd12VariableInfoC1ERKN2at6TensorE\n",
      "  Referenced from: <E5EBDDAB-B1B9-3199-B5D8-B1F2B3E48B6A> /Users/matthieuneau/Library/Caches/pypoetry/virtualenvs/practice-labs-lU_vlk8p-py3.12/lib/python3.12/site-packages/torch_spline_conv/_basis_cpu.so\n",
      "  Expected in:     <DA215AD3-6EAE-3755-B6A5-A8EB4EF952B0> /Users/matthieuneau/Library/Caches/pypoetry/virtualenvs/practice-labs-lU_vlk8p-py3.12/lib/python3.12/site-packages/torch/lib/libtorch_cpu.dylib\n",
      "  warnings.warn(\n",
      "/Users/matthieuneau/Library/Caches/pypoetry/virtualenvs/practice-labs-lU_vlk8p-py3.12/lib/python3.12/site-packages/torch_geometric/typing.py:124: UserWarning: An issue occurred while importing 'torch-sparse'. Disabling its usage. Stacktrace: dlopen(/Users/matthieuneau/Library/Caches/pypoetry/virtualenvs/practice-labs-lU_vlk8p-py3.12/lib/python3.12/site-packages/torch_sparse/_spmm_cpu.so, 0x0006): Symbol not found: __ZN5torch8autograd12VariableInfoC1ERKN2at6TensorE\n",
      "  Referenced from: <240FBBBE-7919-300D-BFF9-4CBCFE26BD89> /Users/matthieuneau/Library/Caches/pypoetry/virtualenvs/practice-labs-lU_vlk8p-py3.12/lib/python3.12/site-packages/torch_sparse/_spmm_cpu.so\n",
      "  Expected in:     <DA215AD3-6EAE-3755-B6A5-A8EB4EF952B0> /Users/matthieuneau/Library/Caches/pypoetry/virtualenvs/practice-labs-lU_vlk8p-py3.12/lib/python3.12/site-packages/torch/lib/libtorch_cpu.dylib\n",
      "  warnings.warn(f\"An issue occurred while importing 'torch-sparse'. \"\n"
     ]
    }
   ],
   "source": [
    "import numpy as np\n",
    "import matplotlib.pyplot as plt\n",
    "\n",
    "import torch\n",
    "import torch.nn as nn\n",
    "import torch_geometric.nn as graphnn\n",
    "from sklearn.metrics import f1_score\n",
    "from torch_geometric.datasets import PPI\n",
    "from torch_geometric.loader import DataLoader"
   ]
  },
  {
   "cell_type": "markdown",
   "metadata": {
    "cell_ktag": "CeIiDvQzU6lQ"
   },
   "source": [
    "### Dataset\n",
    "\n",
    "We use the Protein-Protein Interaction (PPI) network dataset which includes:\n",
    "- 20 graphs for training \n",
    "- 2 graphs for validation\n",
    "- 2 graphs for testing\n",
    "\n",
    "One graph of the PPI dataset has on average 2372 nodes. Each node has:\n",
    "- 50 features : positional gene sets / motif gene / immunological signatures ...\n",
    "- 121 (binary) labels : gene ontology sets (way to classify gene products like proteins).\n",
    "\n",
    "**This problem aims to predict, for a given PPI graph, the correct nodes' labels**.\n",
    "\n",
    "**It is a node (multi-label) classification task** (trained using supervised learning, with labels to be predicted for each node). \n",
    "\n",
    "For your curiosity, more detailed information on the dataset and some applications:\n",
    "- https://cs.stanford.edu/~jure/pubs/pathways-psb18.pdf\n",
    "- https://arxiv.org/abs/1707.04638\n",
    "\n",
    "To understand how a graph data is implemented in Pytorch Geometric, refer to : https://pytorch-geometric.readthedocs.io/en/latest/get_started/introduction.html\n"
   ]
  },
  {
   "cell_type": "code",
   "execution_count": 4,
   "metadata": {
    "cell_ktag": "CeIiDvQzU6lQ"
   },
   "outputs": [
    {
     "name": "stdout",
     "output_type": "stream",
     "text": [
      "Number of samples in the train dataset:  20\n",
      "Number of samples in the val dataset:  2\n",
      "Number of samples in the test dataset:  2\n",
      "Output of one sample from the train dataset:  Data(x=[1767, 50], edge_index=[2, 32318], y=[1767, 121])\n",
      "Edge_index :\n",
      "tensor([[   0,    0,    0,  ..., 1744, 1745, 1749],\n",
      "        [ 372, 1101,  766,  ..., 1745, 1744, 1739]])\n",
      "Number of features per node:  50\n",
      "Number of classes per node:  121\n",
      "tensor([[1., 0., 0.,  ..., 1., 1., 0.],\n",
      "        [1., 0., 0.,  ..., 1., 1., 1.],\n",
      "        [1., 1., 1.,  ..., 0., 0., 0.],\n",
      "        ...,\n",
      "        [0., 0., 0.,  ..., 0., 0., 0.],\n",
      "        [0., 0., 0.,  ..., 0., 0., 0.],\n",
      "        [1., 0., 0.,  ..., 0., 0., 0.]])\n"
     ]
    }
   ],
   "source": [
    "### LOAD DATASETS\n",
    "\n",
    "BATCH_SIZE = 2\n",
    "\n",
    "# Train Dataset\n",
    "train_dataset = PPI(root=\"\", split=\"train\")\n",
    "train_dataloader = DataLoader(train_dataset, batch_size=BATCH_SIZE)\n",
    "# Val Dataset\n",
    "val_dataset = PPI(root=\"\", split=\"val\")\n",
    "val_dataloader = DataLoader(val_dataset, batch_size=BATCH_SIZE)\n",
    "# Test Dataset\n",
    "test_dataset = PPI(root=\"\", split=\"test\")\n",
    "test_dataloader = DataLoader(test_dataset, batch_size=BATCH_SIZE)\n",
    "\n",
    "# Number of features and classes\n",
    "n_features, n_classes = train_dataset[0].x.shape[1], train_dataset[0].y.shape[1]\n",
    "\n",
    "print(\"Number of samples in the train dataset: \", len(train_dataset))\n",
    "print(\"Number of samples in the val dataset: \", len(test_dataset))\n",
    "print(\"Number of samples in the test dataset: \", len(test_dataset))\n",
    "print(\"Output of one sample from the train dataset: \", train_dataset[0])\n",
    "print(\"Edge_index :\")\n",
    "print(train_dataset[0].edge_index)\n",
    "print(\"Number of features per node: \", n_features)\n",
    "print(\"Number of classes per node: \", n_classes)\n",
    "print(train_dataset[0].y)"
   ]
  },
  {
   "cell_type": "markdown",
   "metadata": {
    "cell_ktag": "CeIiDvQzU6lQ"
   },
   "source": [
    "### Define a basic Model"
   ]
  },
  {
   "cell_type": "markdown",
   "metadata": {
    "cell_ktag": "CeIiDvQzU6lQ"
   },
   "source": [
    "Here we define a very simple Graph Neural Network model which will be used as our baseline. This model consists of three graph convolutional layers (from https://arxiv.org/pdf/1609.02907.pdf). The first two layers computes 256 features, followed by an ELU activation function. The last layer is used for (multi-label) classification task, computing 121 features (for each node)."
   ]
  },
  {
   "cell_type": "code",
   "execution_count": 5,
   "metadata": {
    "cell_ktag": "CeIiDvQzU6lQ"
   },
   "outputs": [],
   "source": [
    "#####################################################\n",
    "################## MODEL ############################\n",
    "#####################################################\n",
    "class BasicGraphModel(nn.Module):\n",
    "    def __init__(self, input_size, hidden_size, output_size):\n",
    "        super().__init__()\n",
    "\n",
    "        self.graphconv1 = graphnn.GCNConv(input_size, hidden_size)\n",
    "        self.graphconv2 = graphnn.GCNConv(hidden_size, hidden_size)\n",
    "        self.graphconv3 = graphnn.GCNConv(hidden_size, output_size)\n",
    "\n",
    "        self.elu = nn.ELU()\n",
    "\n",
    "    def forward(self, x, edge_index):\n",
    "        x = self.graphconv1(x, edge_index)\n",
    "        x = self.elu(x)\n",
    "        x = self.graphconv2(x, edge_index)\n",
    "        x = self.elu(x)\n",
    "        x = self.graphconv3(x, edge_index)\n",
    "\n",
    "        return x"
   ]
  },
  {
   "cell_type": "markdown",
   "metadata": {
    "cell_ktag": "CeIiDvQzU6lQ"
   },
   "source": [
    "Next function is designed to evaluate the performance of the model, computing the F1-Score"
   ]
  },
  {
   "cell_type": "code",
   "execution_count": 6,
   "metadata": {
    "cell_ktag": "CeIiDvQzU6lQ"
   },
   "outputs": [],
   "source": [
    "#####################################################\n",
    "############### TEST FUNCTION #######################\n",
    "#####################################################\n",
    "def evaluate(model, loss_fcn, device, dataloader):\n",
    "    score_list_batch = []\n",
    "\n",
    "    model.eval()\n",
    "    for i, batch in enumerate(dataloader):\n",
    "        batch = batch.to(device)\n",
    "        output = model(batch.x, batch.edge_index)\n",
    "        loss_test = loss_fcn(output, batch.y)\n",
    "        predict = np.where(output.detach().cpu().numpy() >= 0, 1, 0)\n",
    "        score = f1_score(batch.y.cpu().numpy(), predict, average=\"micro\")\n",
    "        score_list_batch.append(score)\n",
    "\n",
    "    return np.array(score_list_batch).mean()"
   ]
  },
  {
   "cell_type": "markdown",
   "metadata": {
    "cell_ktag": "CeIiDvQzU6lQ"
   },
   "source": [
    "Next we construct the function to train the model."
   ]
  },
  {
   "cell_type": "code",
   "execution_count": 7,
   "metadata": {
    "cell_ktag": "CeIiDvQzU6lQ"
   },
   "outputs": [],
   "source": [
    "from torchviz import make_dot\n",
    "#####################################################\n",
    "############## TRAIN FUNCTION #######################\n",
    "#####################################################\n",
    "def train(model, loss_fcn, device, optimizer, max_epochs, train_dataloader, val_dataloader):\n",
    "    epoch_list = []\n",
    "    scores_list = []\n",
    "\n",
    "    for epoch in range(max_epochs):\n",
    "        model.train()\n",
    "        losses = []\n",
    "        for i, train_batch in enumerate(train_dataloader):\n",
    "            optimizer.zero_grad()\n",
    "            train_batch_device = train_batch.to(device)\n",
    "            logits = model(train_batch_device.x, train_batch_device.edge_index)\n",
    "            loss = loss_fcn(logits, train_batch_device.y)\n",
    "            # dot = make_dot(loss, params=dict(model.named_parameters()))\n",
    "            # dot.render(\"computational_graph\", format=\"png\") \n",
    "            loss.backward()\n",
    "            optimizer.step()\n",
    "            losses.append(loss.item())\n",
    "        loss_data = np.array(losses).mean()\n",
    "        print(\"Epoch {:05d} | Loss: {:.4f}\".format(epoch + 1, loss_data))\n",
    "\n",
    "        if epoch % 10 == 0:\n",
    "            score = evaluate(model, loss_fcn, device, val_dataloader)\n",
    "            print(\"F1-Score: {:.4f}\".format(score))\n",
    "            scores_list.append(score)\n",
    "            epoch_list.append(epoch)\n",
    "\n",
    "    return epoch_list, scores_list"
   ]
  },
  {
   "cell_type": "code",
   "execution_count": 8,
   "metadata": {},
   "outputs": [
    {
     "name": "stdout",
     "output_type": "stream",
     "text": [
      "Epoch 00001 | Loss: 0.5829\n",
      "F1-Score: 0.4026\n",
      "Epoch 00002 | Loss: 0.5548\n",
      "Epoch 00003 | Loss: 0.5515\n",
      "Epoch 00004 | Loss: 0.5410\n",
      "Epoch 00005 | Loss: 0.5433\n"
     ]
    },
    {
     "ename": "KeyboardInterrupt",
     "evalue": "",
     "output_type": "error",
     "traceback": [
      "\u001b[31m---------------------------------------------------------------------------\u001b[39m",
      "\u001b[31mKeyboardInterrupt\u001b[39m                         Traceback (most recent call last)",
      "\u001b[36mCell\u001b[39m\u001b[36m \u001b[39m\u001b[32mIn[8]\u001b[39m\u001b[32m, line 12\u001b[39m\n\u001b[32m      9\u001b[39m loss_fcn = nn.BCEWithLogitsLoss()\n\u001b[32m     10\u001b[39m optimizer = torch.optim.Adam(model.parameters(), lr=\u001b[32m0.005\u001b[39m)\n\u001b[32m---> \u001b[39m\u001b[32m12\u001b[39m \u001b[43mtrain\u001b[49m\u001b[43m(\u001b[49m\u001b[43mmodel\u001b[49m\u001b[43m,\u001b[49m\u001b[43m \u001b[49m\u001b[43mloss_fcn\u001b[49m\u001b[43m=\u001b[49m\u001b[43mloss_fcn\u001b[49m\u001b[43m,\u001b[49m\u001b[43m \u001b[49m\u001b[43mdevice\u001b[49m\u001b[43m=\u001b[49m\u001b[43mdevice\u001b[49m\u001b[43m,\u001b[49m\u001b[43m \u001b[49m\u001b[43moptimizer\u001b[49m\u001b[43m=\u001b[49m\u001b[43moptimizer\u001b[49m\u001b[43m,\u001b[49m\u001b[43m \u001b[49m\u001b[43mmax_epochs\u001b[49m\u001b[43m=\u001b[49m\u001b[32;43m150\u001b[39;49m\u001b[43m,\u001b[49m\u001b[43m \u001b[49m\u001b[43mtrain_dataloader\u001b[49m\u001b[43m=\u001b[49m\u001b[43mtrain_dataloader\u001b[49m\u001b[43m,\u001b[49m\u001b[43m \u001b[49m\u001b[43mval_dataloader\u001b[49m\u001b[43m=\u001b[49m\u001b[43mval_dataloader\u001b[49m\u001b[43m)\u001b[49m\n",
      "\u001b[36mCell\u001b[39m\u001b[36m \u001b[39m\u001b[32mIn[7]\u001b[39m\u001b[32m, line 19\u001b[39m, in \u001b[36mtrain\u001b[39m\u001b[34m(model, loss_fcn, device, optimizer, max_epochs, train_dataloader, val_dataloader)\u001b[39m\n\u001b[32m     16\u001b[39m loss = loss_fcn(logits, train_batch_device.y)\n\u001b[32m     17\u001b[39m \u001b[38;5;66;03m# dot = make_dot(loss, params=dict(model.named_parameters()))\u001b[39;00m\n\u001b[32m     18\u001b[39m \u001b[38;5;66;03m# dot.render(\"computational_graph\", format=\"png\") \u001b[39;00m\n\u001b[32m---> \u001b[39m\u001b[32m19\u001b[39m \u001b[43mloss\u001b[49m\u001b[43m.\u001b[49m\u001b[43mbackward\u001b[49m\u001b[43m(\u001b[49m\u001b[43m)\u001b[49m\n\u001b[32m     20\u001b[39m optimizer.step()\n\u001b[32m     21\u001b[39m losses.append(loss.item())\n",
      "\u001b[36mFile \u001b[39m\u001b[32m~/Library/Caches/pypoetry/virtualenvs/practice-labs-lU_vlk8p-py3.12/lib/python3.12/site-packages/torch/_tensor.py:626\u001b[39m, in \u001b[36mTensor.backward\u001b[39m\u001b[34m(self, gradient, retain_graph, create_graph, inputs)\u001b[39m\n\u001b[32m    616\u001b[39m \u001b[38;5;28;01mif\u001b[39;00m has_torch_function_unary(\u001b[38;5;28mself\u001b[39m):\n\u001b[32m    617\u001b[39m     \u001b[38;5;28;01mreturn\u001b[39;00m handle_torch_function(\n\u001b[32m    618\u001b[39m         Tensor.backward,\n\u001b[32m    619\u001b[39m         (\u001b[38;5;28mself\u001b[39m,),\n\u001b[32m   (...)\u001b[39m\u001b[32m    624\u001b[39m         inputs=inputs,\n\u001b[32m    625\u001b[39m     )\n\u001b[32m--> \u001b[39m\u001b[32m626\u001b[39m \u001b[43mtorch\u001b[49m\u001b[43m.\u001b[49m\u001b[43mautograd\u001b[49m\u001b[43m.\u001b[49m\u001b[43mbackward\u001b[49m\u001b[43m(\u001b[49m\n\u001b[32m    627\u001b[39m \u001b[43m    \u001b[49m\u001b[38;5;28;43mself\u001b[39;49m\u001b[43m,\u001b[49m\u001b[43m \u001b[49m\u001b[43mgradient\u001b[49m\u001b[43m,\u001b[49m\u001b[43m \u001b[49m\u001b[43mretain_graph\u001b[49m\u001b[43m,\u001b[49m\u001b[43m \u001b[49m\u001b[43mcreate_graph\u001b[49m\u001b[43m,\u001b[49m\u001b[43m \u001b[49m\u001b[43minputs\u001b[49m\u001b[43m=\u001b[49m\u001b[43minputs\u001b[49m\n\u001b[32m    628\u001b[39m \u001b[43m\u001b[49m\u001b[43m)\u001b[49m\n",
      "\u001b[36mFile \u001b[39m\u001b[32m~/Library/Caches/pypoetry/virtualenvs/practice-labs-lU_vlk8p-py3.12/lib/python3.12/site-packages/torch/autograd/__init__.py:347\u001b[39m, in \u001b[36mbackward\u001b[39m\u001b[34m(tensors, grad_tensors, retain_graph, create_graph, grad_variables, inputs)\u001b[39m\n\u001b[32m    342\u001b[39m     retain_graph = create_graph\n\u001b[32m    344\u001b[39m \u001b[38;5;66;03m# The reason we repeat the same comment below is that\u001b[39;00m\n\u001b[32m    345\u001b[39m \u001b[38;5;66;03m# some Python versions print out the first line of a multi-line function\u001b[39;00m\n\u001b[32m    346\u001b[39m \u001b[38;5;66;03m# calls in the traceback and some print out the last line\u001b[39;00m\n\u001b[32m--> \u001b[39m\u001b[32m347\u001b[39m \u001b[43m_engine_run_backward\u001b[49m\u001b[43m(\u001b[49m\n\u001b[32m    348\u001b[39m \u001b[43m    \u001b[49m\u001b[43mtensors\u001b[49m\u001b[43m,\u001b[49m\n\u001b[32m    349\u001b[39m \u001b[43m    \u001b[49m\u001b[43mgrad_tensors_\u001b[49m\u001b[43m,\u001b[49m\n\u001b[32m    350\u001b[39m \u001b[43m    \u001b[49m\u001b[43mretain_graph\u001b[49m\u001b[43m,\u001b[49m\n\u001b[32m    351\u001b[39m \u001b[43m    \u001b[49m\u001b[43mcreate_graph\u001b[49m\u001b[43m,\u001b[49m\n\u001b[32m    352\u001b[39m \u001b[43m    \u001b[49m\u001b[43minputs\u001b[49m\u001b[43m,\u001b[49m\n\u001b[32m    353\u001b[39m \u001b[43m    \u001b[49m\u001b[43mallow_unreachable\u001b[49m\u001b[43m=\u001b[49m\u001b[38;5;28;43;01mTrue\u001b[39;49;00m\u001b[43m,\u001b[49m\n\u001b[32m    354\u001b[39m \u001b[43m    \u001b[49m\u001b[43maccumulate_grad\u001b[49m\u001b[43m=\u001b[49m\u001b[38;5;28;43;01mTrue\u001b[39;49;00m\u001b[43m,\u001b[49m\n\u001b[32m    355\u001b[39m \u001b[43m\u001b[49m\u001b[43m)\u001b[49m\n",
      "\u001b[36mFile \u001b[39m\u001b[32m~/Library/Caches/pypoetry/virtualenvs/practice-labs-lU_vlk8p-py3.12/lib/python3.12/site-packages/torch/autograd/graph.py:823\u001b[39m, in \u001b[36m_engine_run_backward\u001b[39m\u001b[34m(t_outputs, *args, **kwargs)\u001b[39m\n\u001b[32m    821\u001b[39m     unregister_hooks = _register_logging_hooks_on_whole_graph(t_outputs)\n\u001b[32m    822\u001b[39m \u001b[38;5;28;01mtry\u001b[39;00m:\n\u001b[32m--> \u001b[39m\u001b[32m823\u001b[39m     \u001b[38;5;28;01mreturn\u001b[39;00m \u001b[43mVariable\u001b[49m\u001b[43m.\u001b[49m\u001b[43m_execution_engine\u001b[49m\u001b[43m.\u001b[49m\u001b[43mrun_backward\u001b[49m\u001b[43m(\u001b[49m\u001b[43m  \u001b[49m\u001b[38;5;66;43;03m# Calls into the C++ engine to run the backward pass\u001b[39;49;00m\n\u001b[32m    824\u001b[39m \u001b[43m        \u001b[49m\u001b[43mt_outputs\u001b[49m\u001b[43m,\u001b[49m\u001b[43m \u001b[49m\u001b[43m*\u001b[49m\u001b[43margs\u001b[49m\u001b[43m,\u001b[49m\u001b[43m \u001b[49m\u001b[43m*\u001b[49m\u001b[43m*\u001b[49m\u001b[43mkwargs\u001b[49m\n\u001b[32m    825\u001b[39m \u001b[43m    \u001b[49m\u001b[43m)\u001b[49m  \u001b[38;5;66;03m# Calls into the C++ engine to run the backward pass\u001b[39;00m\n\u001b[32m    826\u001b[39m \u001b[38;5;28;01mfinally\u001b[39;00m:\n\u001b[32m    827\u001b[39m     \u001b[38;5;28;01mif\u001b[39;00m attach_logging_hooks:\n",
      "\u001b[31mKeyboardInterrupt\u001b[39m: "
     ]
    }
   ],
   "source": [
    "import torch\n",
    "import torch.nn as nn\n",
    "import torch.nn.functional as F\n",
    "from torch_geometric.nn import GAT\n",
    "\n",
    "\n",
    "device = 'cuda' if torch.cuda.is_available() else 'cpu'\n",
    "model = GAT(in_channels=50, hidden_channels=256, num_layers=4, out_channels=121, act='ELU', heads=4) \n",
    "loss_fcn = nn.BCEWithLogitsLoss()\n",
    "optimizer = torch.optim.Adam(model.parameters(), lr=0.005)\n",
    "\n",
    "train(model, loss_fcn=loss_fcn, device=device, optimizer=optimizer, max_epochs=150, train_dataloader=train_dataloader, val_dataloader=val_dataloader)"
   ]
  },
  {
   "cell_type": "markdown",
   "metadata": {
    "cell_ktag": "CeIiDvQzU6lQ"
   },
   "source": [
    "Let's train this model !"
   ]
  },
  {
   "cell_type": "code",
   "execution_count": 9,
   "metadata": {
    "cell_ktag": "CeIiDvQzU6lQ"
   },
   "outputs": [
    {
     "name": "stdout",
     "output_type": "stream",
     "text": [
      "\n",
      "Device:  cpu\n"
     ]
    }
   ],
   "source": [
    "device = torch.device(\"cuda\" if torch.cuda.is_available() else \"cpu\")\n",
    "print(\"\\nDevice: \", device)\n",
    "\n",
    "max_epochs = 200\n",
    "\n",
    "basic_model = BasicGraphModel(input_size=n_features, hidden_size=256, output_size=n_classes).to(device)\n",
    "loss_fcn = nn.BCEWithLogitsLoss()\n",
    "optimizer = torch.optim.Adam(basic_model.parameters(), lr=0.005)\n",
    "\n",
    "# epoch_list, basic_model_scores = train(\n",
    "#     basic_model,\n",
    "#     loss_fcn,\n",
    "#     device,\n",
    "#     optimizer,\n",
    "#     max_epochs,\n",
    "#     train_dataloader,\n",
    "#     val_dataloader,\n",
    "# )"
   ]
  },
  {
   "cell_type": "markdown",
   "metadata": {
    "cell_ktag": "CeIiDvQzU6lQ"
   },
   "source": [
    "Let's evaluate the performance of this basic model"
   ]
  },
  {
   "cell_type": "code",
   "execution_count": 10,
   "metadata": {
    "cell_ktag": "CeIiDvQzU6lQ"
   },
   "outputs": [],
   "source": [
    "# ### F1-SCORE ON VALID DATASET\n",
    "# score_valid = evaluate(basic_model, loss_fcn, device, val_dataloader)\n",
    "# print(\"Basic Model : F1-Score on the validation set: {:.4f}\".format(score_valid))\n",
    "\n",
    "\n",
    "# ### PLOT EVOLUTION OF F1-SCORE W.R.T EPOCHS\n",
    "# def plot_f1_score(epoch_list, scores):\n",
    "#     plt.figure(figsize=[10, 5])\n",
    "#     plt.plot(epoch_list, scores)\n",
    "#     plt.title(\"Evolution of F1-Score w.r.t epochs\")\n",
    "#     plt.ylim([0.0, 1.0])\n",
    "#     plt.show()\n",
    "\n",
    "\n",
    "# plot_f1_score(epoch_list, basic_model_scores)"
   ]
  },
  {
   "cell_type": "markdown",
   "metadata": {
    "cell_ktag": "CeIiDvQzU6lQ"
   },
   "source": [
    "# QUESTIONS\n",
    "\n",
    "## Grading\n",
    "\n",
    "You will be graded on 5 questions. You will need to provide at least 4 files : \n",
    "1. This Notebook\n",
    "2. `class_model_gnn.py`\n",
    "3. `model.pth` (the file **must be of size less than 50Mo** but 20Mo should be enough to get a very good model)\n",
    "4. `conv_as_message_passing.py`\n",
    "\n",
    "If the function you defined passes all the tests, you will get the full grade. Otherwise we  will look at the intermediate questions in the notebook to give you partial credit.\n",
    "\n",
    "\n",
    "\n",
    " Please provide clear, short and __bold font__ answers.  "
   ]
  },
  {
   "cell_type": "markdown",
   "metadata": {
    "cell_ktag": "CeIiDvQzU6lQ"
   },
   "source": [
    "> Question 1 : Design, build and train a model with a F1-score higher than 93% on validation set (**HINT :** https://arxiv.org/pdf/1710.10903.pdf).\n"
   ]
  },
  {
   "cell_type": "markdown",
   "metadata": {
    "cell_ktag": "CeIiDvQzU6lQ"
   },
   "source": [
    " Provide two files : (https://pytorch.org/tutorials/beginner/saving_loading_models.html)\n",
    " -  a file  `class_model_gnn.py` containing the class inheriting from `torch.nn.Module` architecture of your final model to load\n",
    " -  a `model.pth` file : the model weights\n",
    " \n",
    " We will  test your model on final F1-Score on a test set. You must not use the test set for hyperparameter training.\n",
    " \n",
    "Intermediate question : \n",
    "\n",
    " Provide the script for training, and a plot of the training loss.  "
   ]
  },
  {
   "cell_type": "code",
   "execution_count": 11,
   "metadata": {},
   "outputs": [],
   "source": [
    "\n",
    "# ## Save the model\n",
    "# # torch.save(model.state_dict(), \"model.pth\")\n",
    "\n",
    "\n",
    "# ### This is the part we will run in the inference to grade your model\n",
    "# ## Load the model\n",
    "# model = GAT()  # !  Important : No argument\n",
    "# model.load_state_dict(torch.load(\"model.pth\", weights_only=True))\n",
    "# model.eval()\n",
    "# print(\"Model loaded successfully\")\n"
   ]
  },
  {
   "cell_type": "markdown",
   "metadata": {
    "cell_ktag": "CeIiDvQzU6lQ"
   },
   "source": [
    "## Conv 2D as Message Passing Neural Network\n",
    "\n",
    "\n",
    "## Introduction\n",
    "\n",
    "The use of graph is a way to structure data by adding neighborhood information between features. This then allows to do operations on the data that are local to each node and its neighbors. This is the main idea behind Graph Neural Networks (GNNs). [`pytorch-geometric`](https://pytorch-geometric.readthedocs.io/en/latest/) is a library compatible with PyTorch that allows to easily implement GNNs. The most general structure is the [`MessagePassing`](https://pytorch-geometric.readthedocs.io/en/latest/generated/torch_geometric.nn.conv.MessagePassing.html#torch_geometric.nn.conv.MessagePassing) class that is then used as a base for more specific GNNs as seen in the course ([Graph Convolutional Networks](https://pytorch-geometric.readthedocs.io/en/latest/generated/torch_geometric.nn.conv.GCNConv.html#torch_geometric.nn.conv.GCNConv) or [Graph AttenTion Convolution](https://pytorch-geometric.readthedocs.io/en/latest/generated/torch_geometric.nn.conv.GATConv.html#torch_geometric.nn.conv.GATConv)).\n",
    "\n",
    "On the other hand, you already know an operation that uses the structure of the data to do local operations: the convolution (https://pytorch.org/docs/stable/generated/torch.nn.Conv2d.html). One can see the convolution as a specific case of the message passing neural network. The goal of this notebook is to show how to use the `MessagePassing` class to implement a convolutional neural network.\n",
    "You will be asked to implement 3 functions. You should give back those three functions in a file named `conv_as_message_passing.py`. These functions will then be automatically tested. So be sure to respect the function signature and the function name.\n",
    "\n",
    "\n",
    "## Assumptions\n",
    "\n",
    "To make the implementation easier we will make some assumptions:\n",
    "- the input is a single image (batch size of 1) of size 'C x H x W'\n",
    "- the convolution will be a 3x3 kernel with stride 1 and padding 1.\n",
    "\n",
    "You may also assume that the Conv2D layer has no bias but it will be slightly penalized in the grading.\n",
    "\n",
    "Bonus points will be given if you can handle the cases that are not covered by those assumptions.\n",
    "\n",
    "\n",
    "## Questions\n",
    "\n",
    "### Question 2\n",
    "\n",
    "> Using the formalism used in the [`MessagePassing`](https://pytorch-geometric.readthedocs.io/en/latest/generated/torch_geometric.nn.conv.MessagePassing.html#torch_geometric.nn.conv.MessagePassing) documentation (and on [wikipedia](https://en.wikipedia.org/wiki/Graph_neural_network#Message_passing_layers) with sligthly different notations), explain how theorically you can simulate a 2D convolution using the `MessagePassing` formalism. This may include a pre-processing step to transform the image into a graph and then a post-processing step to transform the graph back into an image. (:warning: Those steps should be independent of the parameters of the convolution, but not necessarily from the hyper-parameters.)\n",
    "$$\\mathbf{x}_{i}^{\\prime} = \\gamma_{\\mathbf{\\Theta}}\\left( \\mathbf{x}_{i},\\bigoplus\\limits_{j \\in \\mathcal{N}(i)}\\,\\phi_{\\mathbf{\\Theta}}\\left( \\mathbf{x}_{i},\\mathbf{x}_{j},\\mathbf{e}_{j,i} \\right) \\right),$$\n",
    "\n",
    "\n",
    "HINT : It is possible to do it with the following $\\gamma$ : \n",
    "\n",
    "$$ \\gamma_\\Theta : x,y \\mapsto y $$\n"
   ]
  },
  {
   "cell_type": "markdown",
   "metadata": {},
   "source": [
    "The idea is to consider an image as a graph where each pixel is a node and its neighbors are all the pixels covered by the convolution kernel. More specifically, for in image of size C x H x W and kernels of size 3x3, the neighborhood of x_ij(k) consists in the 9 pixels square centered at x_ij(k) for all the filters in the image (including xij itself). Therefore a node has a total of 3x3xK neighbors. \n",
    "\n",
    "To handle the border cases, we can reuse the traditional idea of zero padding.\n",
    "\n",
    "Then we can use the suggested function $$ \\gamma_\\Theta : x,y \\mapsto y + b_\\theta $$\n",
    "\n",
    "where $b_\\theta$ represents the bias of the layer\n",
    "\n",
    "The aggragation function to use is the sum\n",
    "\n",
    "For the function $$\\phi_\\Theta : x_i, x_j, e_{j,i} \\mapsto e_{j,i}*x_j$$\n"
   ]
  },
  {
   "cell_type": "code",
   "execution_count": 12,
   "metadata": {
    "cell_ktag": "CeIiDvQzU6lQ"
   },
   "outputs": [],
   "source": [
    "import torch\n",
    "import torch_geometric"
   ]
  },
  {
   "cell_type": "markdown",
   "metadata": {
    "cell_ktag": "CeIiDvQzU6lQ"
   },
   "source": [
    "### Question 3\n",
    "\n",
    "> Implement the pre-processing function, you can use the follwing code skeleton (you may change the output type, it is just a strong suggestion):"
   ]
  },
  {
   "cell_type": "code",
   "execution_count": null,
   "metadata": {
    "cell_ktag": "CeIiDvQzU6lQ"
   },
   "outputs": [],
   "source": [
    "from torchvision.datasets import MNIST\n",
    "from torch_geometric.data import Data\n",
    "import torchvision.io as io\n",
    "\n",
    "dataset = MNIST('./MNIST', download=True)\n",
    "img, label = dataset[0]\n",
    "img.save('mnist_sample.png')\n",
    "\n",
    "\n",
    "def image_to_graph(\n",
    "    image: torch.Tensor, conv2d: torch.nn.Conv2d | None = None\n",
    ") -> torch_geometric.data.Data:\n",
    "    \"\"\"\n",
    "    Converts an image tensor to a PyTorch Geometric Data object.\n",
    "    COMPLETE\n",
    "\n",
    "    Arguments:\n",
    "    ----------\n",
    "    image : torch.Tensor\n",
    "        Image tensor of shape (C, H, W).\n",
    "    conv2d : torch.nn.Conv2d, optional\n",
    "        Conv2d layer to simulate, by default None\n",
    "        Is used to determine the size of the receptive field.\n",
    "\n",
    "    Returns:\n",
    "    --------\n",
    "    torch_geometric.data.Data\n",
    "        Graph representation of the image.\n",
    "    \"\"\"\n",
    "    #TODO: Build x and edge_index. Build edge_index as tuples for now. xij(k) mapped to node_id k*(HxW) + i*W + j. Start with interior nodes\n",
    "    def pixel_to_node_id(x: torch.Tensor, k, i, j):     # Assuming x is (Cin, H, W)\n",
    "        H, W = x.size(1), x.size(2)\n",
    "        return k*(H*W) + i*W + j\n",
    "\n",
    "    edges = [\n",
    "        (pixel_to_node_id(image, k, i, j), pixel_to_node_id(image, k2, i + di, j + dj))\n",
    "        for i in range(image.size(1))\n",
    "        for j in range(image.size(2))\n",
    "        for k in range(image.size(0))\n",
    "        for k2 in range(image.size(0))\n",
    "        for di, dj in [(1, 0), (-1, 0), (0, -1), (0, 1), (0, 0), (1,1), (-1,-1), (-1, 1), (1,-1)]\n",
    "        if 0 <= i + di < image.size(2) and 0 <= j + dj < image.size(1)\n",
    "    ]\n",
    "\n",
    "    edge_attr = \n",
    "\n",
    "    node0 = [edge[0] for edge in edges]\n",
    "    node1 = [edge[1] for edge in edges]\n",
    "    \n",
    "    edge_index = [node0, node1]\n",
    "\n",
    "    x = {pixel_to_node_id(image, k, i, j):image[k, i, j] for i in range(image.shape[1]) for j in range(image.shape[2]) for k in range(image.shape[0])}\n",
    "\n",
    "    # Assumptions (remove it for the bonus)\n",
    "    assert image.dim() == 3, f\"Expected 3D tensor, got {image.dim()}D tensor.\"\n",
    "    if conv2d is not None:\n",
    "        assert conv2d.padding[0] == conv2d.padding[1] == 1, \"Expected padding of 1 on both sides.\"\n",
    "        assert conv2d.kernel_size[0] == conv2d.kernel_size[1] == 3, \"Expected kernel size of 3x3.\"\n",
    "        assert conv2d.stride[0] == conv2d.stride[1] == 1, \"Expected stride of 1.\"\n",
    "\n",
    "    return Data(x=x, edge_index=edge_index)"
   ]
  },
  {
   "cell_type": "code",
   "execution_count": null,
   "metadata": {},
   "outputs": [
    {
     "name": "stdout",
     "output_type": "stream",
     "text": [
      "Parameter containing:\n",
      "tensor([[[[-0.1304, -0.0566,  0.0621],\n",
      "          [ 0.1668, -0.0649, -0.0800],\n",
      "          [-0.1880,  0.1183,  0.1878]],\n",
      "\n",
      "         [[ 0.1325, -0.1072,  0.1379],\n",
      "          [-0.0583,  0.1006,  0.1125],\n",
      "          [-0.1569,  0.0476,  0.0768]],\n",
      "\n",
      "         [[-0.1157,  0.1779,  0.1502],\n",
      "          [ 0.1608, -0.0017, -0.1030],\n",
      "          [-0.1052,  0.0680, -0.0382]]],\n",
      "\n",
      "\n",
      "        [[[ 0.1530,  0.1612,  0.0149],\n",
      "          [-0.1576,  0.0764,  0.1722],\n",
      "          [-0.0483, -0.1007, -0.0450]],\n",
      "\n",
      "         [[ 0.0276, -0.1428,  0.1028],\n",
      "          [ 0.0823, -0.0736, -0.0713],\n",
      "          [-0.0913,  0.1504,  0.1141]],\n",
      "\n",
      "         [[ 0.0547, -0.0086,  0.0481],\n",
      "          [ 0.1857,  0.0609, -0.0960],\n",
      "          [ 0.0744, -0.0764, -0.0068]]]], requires_grad=True)\n"
     ]
    }
   ],
   "source": [
    "ref_conv = torch.nn.Conv2d(in_channels=3, out_channels=2, kernel_size=3, padding=1, stride=1, bias=False) #TODO: test with more than 3 channels\n",
    "print(ref_conv.weight)"
   ]
  },
  {
   "cell_type": "code",
   "execution_count": 77,
   "metadata": {},
   "outputs": [
    {
     "data": {
      "text/plain": [
       "True"
      ]
     },
     "execution_count": 77,
     "metadata": {},
     "output_type": "execute_result"
    }
   ],
   "source": [
    "torch.manual_seed(42)\n",
    "\n",
    "test_tensor = torch.randn((3,4,2))\n",
    "test_graph = image_to_graph(test_tensor)\n",
    "test_image = graph_to_image(test_graph.x, 4, 2)\n",
    "torch.allclose(test_tensor, test_image)"
   ]
  },
  {
   "cell_type": "code",
   "execution_count": null,
   "metadata": {},
   "outputs": [
    {
     "data": {
      "text/plain": [
       "tensor([[[-1.9873,  1.1358],\n",
       "         [ 2.1965, -1.4450],\n",
       "         [-0.5587,  1.9490],\n",
       "         [ 1.1695, -0.4449]],\n",
       "\n",
       "        [[ 2.2322, -0.1472],\n",
       "         [-0.7017, -0.1595],\n",
       "         [-0.3907, -1.1385],\n",
       "         [-0.4380,  1.2379]],\n",
       "\n",
       "        [[-0.2915,  0.9802],\n",
       "         [ 0.8453, -1.0689],\n",
       "         [ 1.1830,  0.9518],\n",
       "         [ 0.1009, -1.6847]]])"
      ]
     },
     "execution_count": 48,
     "metadata": {},
     "output_type": "execute_result"
    }
   ],
   "source": [
    "torch.tensor(list(test_graph.x.values()))\n",
    "# torch.tensor(range(3*4*2)).reshape(3,4,2)"
   ]
  },
  {
   "cell_type": "markdown",
   "metadata": {
    "cell_ktag": "CeIiDvQzU6lQ"
   },
   "source": [
    "### Question 4\n",
    "\n",
    "> Implement the post-processing function, you can use the follwing code skeleton:"
   ]
  },
  {
   "cell_type": "code",
   "execution_count": 82,
   "metadata": {
    "cell_ktag": "CeIiDvQzU6lQ"
   },
   "outputs": [],
   "source": [
    "def graph_to_image(\n",
    "    data: torch.Tensor, height: int, width: int, conv2d: torch.nn.Conv2d | None = None\n",
    ") -> torch.Tensor:\n",
    "    \"\"\"\n",
    "    Converts a graph representation of an image to an image tensor.\n",
    "\n",
    "    Arguments:\n",
    "    ----------\n",
    "    data : dict     # change to torch.Tensor ??\n",
    "        Graph data representation of the image.\n",
    "    height : int\n",
    "        Height of the image.\n",
    "    width : int\n",
    "        Width of the image.\n",
    "    conv2d : torch.nn.Conv2d, optional\n",
    "        Conv2d layer to simulate, by default None\n",
    "\n",
    "    Returns:\n",
    "    --------\n",
    "    torch.Tensor\n",
    "        Image tensor of shape (C, H, W).\n",
    "    \"\"\"\n",
    "    \n",
    "    C = len(data.keys())//(height*width)\n",
    "    H, W = height, width\n",
    "\n",
    "    image = sorted(data.items(), key=lambda x: x[0])\n",
    "    image = torch.tensor([x[1] for x in image]).reshape(C, H, W)\n",
    "\n",
    "    # assert data.dim() == 2, f\"Expected 2D tensor, got {data.dim()}D tensor.\"\n",
    "    if conv2d is not None:\n",
    "        assert conv2d.padding[0] == conv2d.padding[1] == 1, \"Expected padding of 1 on both sides.\"\n",
    "        assert conv2d.kernel_size[0] == conv2d.kernel_size[1] == 3, \"Expected kernel size of 3x3.\"\n",
    "        assert conv2d.stride[0] == conv2d.stride[1] == 1, \"Expected stride of 1.\"\n",
    "\n",
    "    return image"
   ]
  },
  {
   "cell_type": "code",
   "execution_count": 81,
   "metadata": {},
   "outputs": [
    {
     "name": "stdout",
     "output_type": "stream",
     "text": [
      "tensor([[[-0.7194,  1.2199],\n",
      "         [ 1.4356, -0.3140],\n",
      "         [ 0.8979,  0.6359],\n",
      "         [-0.8476, -0.0931]],\n",
      "\n",
      "        [[ 1.5032,  0.8600],\n",
      "         [ 0.5664, -1.3874],\n",
      "         [-0.3362,  0.2169],\n",
      "         [-0.7613, -0.0347]],\n",
      "\n",
      "        [[-0.0106, -0.4022],\n",
      "         [-1.4023,  0.4580],\n",
      "         [-0.6823,  1.6740],\n",
      "         [ 1.3828, -0.3933]]])\n",
      "24\n"
     ]
    }
   ],
   "source": [
    "test_tensor = torch.randn((3,4,2))\n",
    "test_graph = image_to_graph(test_tensor)\n",
    "# test_image = torch.tensor(graph_to_image(test_graph, 2, 2))\n",
    "print(test_tensor)\n",
    "print(len(test_graph.x.keys()))\n",
    "# print(test_image)\n",
    "# torch.allclose(test_tensor, test_image)"
   ]
  },
  {
   "cell_type": "markdown",
   "metadata": {
    "cell_ktag": "CeIiDvQzU6lQ"
   },
   "source": [
    "#### Recommended test cases\n",
    "\n",
    "We **encourage** you to test that you have the property that the pre-processing function followed by the post-processing function is the identity function."
   ]
  },
  {
   "cell_type": "code",
   "execution_count": 84,
   "metadata": {
    "cell_ktag": "CeIiDvQzU6lQ"
   },
   "outputs": [],
   "source": [
    "ref_conv = torch.nn.Conv2d(5, 7, kernel_size=3, padding=1, stride=1)\n",
    "image = torch.randn(5, 10, 11)\n",
    "g_image = image_to_graph(image, ref_conv)\n",
    "g_image.x\n",
    "reconstructed_image = graph_to_image(g_image.x, 10, 11, ref_conv)\n",
    "assert torch.allclose(image, reconstructed_image)"
   ]
  },
  {
   "cell_type": "markdown",
   "metadata": {
    "cell_ktag": "CeIiDvQzU6lQ"
   },
   "source": [
    "### Question 5\n",
    "\n",
    "> Implement the `Conv2dMessagePassing` class that will simulate a 2D convolution using the `MessagePassing` formalism. \n",
    "You should inherit from the `MessagePassing` class and only change the `__init__` and `message` functions (the `forward` function has already been changed for you). You should use the following code skeleton:"
   ]
  },
  {
   "cell_type": "code",
   "execution_count": null,
   "metadata": {
    "cell_ktag": "CeIiDvQzU6lQ"
   },
   "outputs": [],
   "source": [
    "class Conv2dMessagePassing(torch_geometric.nn.MessagePassing):\n",
    "    \"\"\"\n",
    "    A Message Passing layer that simulates a given Conv2d layer.\n",
    "    \"\"\"\n",
    "\n",
    "    def __init__(self, conv2d: torch.nn.Conv2d):\n",
    "        super().__init__(aggr=\"add\")\n",
    "\n",
    "    def forward(self, data):\n",
    "        self.edge_index = data.edge_index\n",
    "\n",
    "        x, edge_index, edge_attr = data.x, data.edge_index, data.edge_attr\n",
    "        out = self.propagate(edge_index, x=x, edge_attr=edge_attr)\n",
    "        return out\n",
    "\n",
    "    def message(self, x_j: torch.Tensor, edge_attr: torch.Tensor) -> torch.Tensor:\n",
    "        \"\"\"\n",
    "        Computes the message to be passed for each edge.\n",
    "        FOR EACH EDGE E = (U, V) IN THE GRAPH INDEXED BY I,\n",
    "        THE MESSAGE TROUGH THE EDGE E (IE FROM NODE U TO NODE V)\n",
    "        SHOULD BE RETURNED AS THE I-TH LINE OF THE OUTPUT TENSOR.\n",
    "        (The message is phi(u, v, e) in the formalism.)\n",
    "        To do this you can access the features of the source node\n",
    "        in x_j[i] and the attributes of the edge in edge_attr[i].\n",
    "\n",
    "        Arguments:\n",
    "        ----------\n",
    "        x_j : torch.Tensor\n",
    "            The features of the souce node for each edge (of size E x in_channels).\n",
    "        edge_attr : torch.Tensor\n",
    "            The attributes of the edge (of size E x edge_attr_dim).\n",
    "\n",
    "        Returns:\n",
    "        --------\n",
    "        torch.Tensor\n",
    "            The message to be passed for each edge (of size COMPLETE)\n",
    "        \"\"\"\n",
    "        raise NotImplementedError\n"
   ]
  },
  {
   "cell_type": "markdown",
   "metadata": {
    "cell_ktag": "CeIiDvQzU6lQ"
   },
   "source": [
    "## Test example"
   ]
  },
  {
   "cell_type": "code",
   "execution_count": 18,
   "metadata": {
    "cell_ktag": "CeIiDvQzU6lQ"
   },
   "outputs": [
    {
     "ename": "NotImplementedError",
     "evalue": "",
     "output_type": "error",
     "traceback": [
      "\u001b[31m---------------------------------------------------------------------------\u001b[39m",
      "\u001b[31mNotImplementedError\u001b[39m                       Traceback (most recent call last)",
      "\u001b[36mCell\u001b[39m\u001b[36m \u001b[39m\u001b[32mIn[18]\u001b[39m\u001b[32m, line 9\u001b[39m\n\u001b[32m      7\u001b[39m ref_conv = torch.nn.Conv2d(c, \u001b[32m2\u001b[39m, kernel_size=\u001b[32m3\u001b[39m, padding=\u001b[32m1\u001b[39m, stride=\u001b[32m1\u001b[39m, bias=\u001b[38;5;28;01mFalse\u001b[39;00m)\n\u001b[32m      8\u001b[39m image = torch.randn(c, h, w)\n\u001b[32m----> \u001b[39m\u001b[32m9\u001b[39m g_image = \u001b[43mimage_to_graph\u001b[49m\u001b[43m(\u001b[49m\u001b[43mimage\u001b[49m\u001b[43m,\u001b[49m\u001b[43m \u001b[49m\u001b[43mref_conv\u001b[49m\u001b[43m)\u001b[49m\n\u001b[32m     10\u001b[39m ref_conv.weight.data = torch.randn_like(ref_conv.weight.data)\n\u001b[32m     12\u001b[39m conv_mp = Conv2dMessagePassing(ref_conv)\n",
      "\u001b[36mFile \u001b[39m\u001b[32m~/Desktop/Centrale/DLP/practice-labs/conv_as_message_passing.py:32\u001b[39m, in \u001b[36mimage_to_graph\u001b[39m\u001b[34m(image, conv2d)\u001b[39m\n\u001b[32m     29\u001b[39m     \u001b[38;5;28;01massert\u001b[39;00m conv2d.kernel_size[\u001b[32m0\u001b[39m] == conv2d.kernel_size[\u001b[32m1\u001b[39m] == \u001b[32m3\u001b[39m, \u001b[33m\"\u001b[39m\u001b[33mExpected kernel size of 3x3.\u001b[39m\u001b[33m\"\u001b[39m\n\u001b[32m     30\u001b[39m     \u001b[38;5;28;01massert\u001b[39;00m conv2d.stride[\u001b[32m0\u001b[39m] == conv2d.stride[\u001b[32m1\u001b[39m] == \u001b[32m1\u001b[39m, \u001b[33m\"\u001b[39m\u001b[33mExpected stride of 1.\u001b[39m\u001b[33m\"\u001b[39m\n\u001b[32m---> \u001b[39m\u001b[32m32\u001b[39m \u001b[38;5;28;01mraise\u001b[39;00m \u001b[38;5;167;01mNotImplementedError\u001b[39;00m\n",
      "\u001b[31mNotImplementedError\u001b[39m: "
     ]
    }
   ],
   "source": [
    "from conv_as_message_passing import image_to_graph, graph_to_image, Conv2dMessagePassing\n",
    "\n",
    "c = 5\n",
    "h = 10\n",
    "w = 11\n",
    "\n",
    "ref_conv = torch.nn.Conv2d(c, 2, kernel_size=3, padding=1, stride=1, bias=False)\n",
    "image = torch.randn(c, h, w)\n",
    "g_image = image_to_graph(image, ref_conv)\n",
    "ref_conv.weight.data = torch.randn_like(ref_conv.weight.data)\n",
    "\n",
    "conv_mp = Conv2dMessagePassing(ref_conv)\n",
    "g_image = conv_mp(g_image)\n",
    "\n",
    "y_th = ref_conv(image)\n",
    "\n",
    "ref_conv.weight.data = torch.randn_like(ref_conv.weight.data)\n",
    "reconstructed_image = graph_to_image(g_image, h, w, ref_conv)\n",
    "\n",
    "assert torch.allclose(y_th, reconstructed_image, atol=1e-4)\n"
   ]
  }
 ],
 "metadata": {
  "kernelspec": {
   "display_name": "practice-labs-lU_vlk8p-py3.12",
   "language": "python",
   "name": "python3"
  },
  "kfiletag": "CeIiDvQzU6lQ",
  "language_info": {
   "codemirror_mode": {
    "name": "ipython",
    "version": 3
   },
   "file_extension": ".py",
   "mimetype": "text/x-python",
   "name": "python",
   "nbconvert_exporter": "python",
   "pygments_lexer": "ipython3",
   "version": "3.12.8"
  }
 },
 "nbformat": 4,
 "nbformat_minor": 2
}
