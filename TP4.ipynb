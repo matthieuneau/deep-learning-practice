{
 "cells": [
  {
   "cell_type": "markdown",
   "metadata": {
    "cell_ktag": "Qxep+GiJD8N7"
   },
   "source": [
    "# TP4 :  Learning on a low budget\n",
    "**Théo Rudkiewicz, Cyriaque Rousselot**"
   ]
  },
  {
   "cell_type": "markdown",
   "metadata": {
    "cell_ktag": "Qxep+GiJD8N7"
   },
   "source": [
    "# Introduction\n",
    "\n",
    "**Context :**\n",
    "\n",
    "Assume we are in a context where few \"gold\" labeled data samples are available for training, say \n",
    "\n",
    "$$\\mathcal{X}_{\\text{train}} = \\{(x_n,y_n)\\}_{n\\leq N_{\\text{train}}}$$\n",
    "\n",
    "where $N_{\\text{train}}$ is small. \n",
    "\n",
    "A large test set $\\mathcal{X}_{\\text{test}}$ exists but is not accessible. \n",
    "(To make your task easier, we provide you with some data (named `test_dataset` in the code) that you can use to test your model, but you **must not** use it to train your model).\n",
    "\n",
    "We also assume that we have a limited computational budget.\n",
    "\n",
    "The goal of this practical session is to guide you through different methods that will help you get better results from few resources (data & compute)."
   ]
  },
  {
   "cell_type": "markdown",
   "metadata": {
    "cell_ktag": "Qxep+GiJD8N7"
   },
   "source": [
    "In this practical, we will use the `resnet18` architecture. We will use models from the [pytorch vision hub ](https://pytorch.org/vision/stable/models.html#)."
   ]
  },
  {
   "cell_type": "markdown",
   "metadata": {
    "cell_ktag": "Qxep+GiJD8N7"
   },
   "source": [
    "# QUESTIONS\n",
    "\n",
    "## Grading\n",
    "\n",
    "You will be graded on 5 questions. You will need to provide 7 files : \n",
    "1. This Notebook\n",
    "2. `utils.py`\n",
    "3. `last_layer_finetune.pth` (the file **must be of size less than 5Mo**)\n",
    "4. `daug_resnet.pth` (the file **must be of size less than 50Mo**)\n",
    "5. `final_model.pth` (the file **must be of size less than 50Mo**)\n",
    "6. `drawing_lora.png`\n",
    "7. `cutmix.png`\n",
    "\n",
    "If the code you defined passes all our tests, you will get the full grade. Otherwise we  will look at the intermediate questions in the notebook to give you partial credit.\n",
    "\n",
    "\n",
    "\n",
    " Please provide clear and short answers between `<div class=\"alert alert-info\">  <your answer>  </div>` tags (when it's not code).  "
   ]
  },
  {
   "cell_type": "markdown",
   "metadata": {
    "cell_ktag": "Qxep+GiJD8N7"
   },
   "source": [
    "<div class=\"alert alert-info\">  Example of answer  </div>"
   ]
  },
  {
   "cell_type": "code",
   "execution_count": 2,
   "metadata": {
    "cell_ktag": "Qxep+GiJD8N7"
   },
   "outputs": [],
   "source": [
    "import os\n",
    "\n",
    "if not os.path.exists(\"data\"):\n",
    "    os.mkdir(\"data\")\n",
    "if not os.path.exists(\"data/TP4_images\"):\n",
    "    os.mkdir(\"data/TP4_images\")\n",
    "    !cd data/TP4_images && wget -O north_dataset_train.zip  \"https://nextcloud.lisn.upsaclay.fr/index.php/s/yzQRWE2YjmFn9WA/download/north_dataset_train.zip\" && unzip north_dataset_train.zip\n",
    "    !cd data/TP4_images && wget -O north_dataset_test.zip  \"https://nextcloud.lisn.upsaclay.fr/index.php/s/zntidWrFdYsGMDm/download/north_dataset_test.zip\" && unzip north_dataset_test.zip\n",
    "dir_path = \"data/TP4_images/\"\n"
   ]
  },
  {
   "cell_type": "code",
   "execution_count": 3,
   "metadata": {
    "cell_ktag": "Qxep+GiJD8N7"
   },
   "outputs": [],
   "source": [
    "import torch\n",
    "import torch.nn as nn\n",
    "from torchvision import datasets, transforms, models\n",
    "from torchmetrics.classification import BinaryAccuracy, Accuracy, ConfusionMatrix\n",
    "\n",
    "device = torch.device(\"cuda\" if torch.cuda.is_available() else \"cpu\")\n",
    "\n",
    "north_dataset = datasets.ImageFolder(\n",
    "    dir_path + \"north_dataset_sample\",\n",
    "    transform=transforms.Compose([transforms.ToTensor()]),\n",
    ")\n",
    "test_dataset = datasets.ImageFolder(\n",
    "    dir_path + \"north_dataset_test\",\n",
    "    transform=transforms.Compose([transforms.ToTensor()]),\n",
    ")\n",
    "base_model = models.resnet18()"
   ]
  },
  {
   "cell_type": "markdown",
   "metadata": {
    "cell_ktag": "Qxep+GiJD8N7"
   },
   "source": [
    "## Question 1 : \n",
    ">  Change the last layer of the resnet model so that its size fits the problem. "
   ]
  },
  {
   "cell_type": "code",
   "execution_count": 4,
   "metadata": {
    "cell_ktag": "Qxep+GiJD8N7"
   },
   "outputs": [
    {
     "name": "stdout",
     "output_type": "stream",
     "text": [
      "ResNet(\n",
      "  (conv1): Conv2d(3, 64, kernel_size=(7, 7), stride=(2, 2), padding=(3, 3), bias=False)\n",
      "  (bn1): BatchNorm2d(64, eps=1e-05, momentum=0.1, affine=True, track_running_stats=True)\n",
      "  (relu): ReLU(inplace=True)\n",
      "  (maxpool): MaxPool2d(kernel_size=3, stride=2, padding=1, dilation=1, ceil_mode=False)\n",
      "  (layer1): Sequential(\n",
      "    (0): BasicBlock(\n",
      "      (conv1): Conv2d(64, 64, kernel_size=(3, 3), stride=(1, 1), padding=(1, 1), bias=False)\n",
      "      (bn1): BatchNorm2d(64, eps=1e-05, momentum=0.1, affine=True, track_running_stats=True)\n",
      "      (relu): ReLU(inplace=True)\n",
      "      (conv2): Conv2d(64, 64, kernel_size=(3, 3), stride=(1, 1), padding=(1, 1), bias=False)\n",
      "      (bn2): BatchNorm2d(64, eps=1e-05, momentum=0.1, affine=True, track_running_stats=True)\n",
      "    )\n",
      "    (1): BasicBlock(\n",
      "      (conv1): Conv2d(64, 64, kernel_size=(3, 3), stride=(1, 1), padding=(1, 1), bias=False)\n",
      "      (bn1): BatchNorm2d(64, eps=1e-05, momentum=0.1, affine=True, track_running_stats=True)\n",
      "      (relu): ReLU(inplace=True)\n",
      "      (conv2): Conv2d(64, 64, kernel_size=(3, 3), stride=(1, 1), padding=(1, 1), bias=False)\n",
      "      (bn2): BatchNorm2d(64, eps=1e-05, momentum=0.1, affine=True, track_running_stats=True)\n",
      "    )\n",
      "  )\n",
      "  (layer2): Sequential(\n",
      "    (0): BasicBlock(\n",
      "      (conv1): Conv2d(64, 128, kernel_size=(3, 3), stride=(2, 2), padding=(1, 1), bias=False)\n",
      "      (bn1): BatchNorm2d(128, eps=1e-05, momentum=0.1, affine=True, track_running_stats=True)\n",
      "      (relu): ReLU(inplace=True)\n",
      "      (conv2): Conv2d(128, 128, kernel_size=(3, 3), stride=(1, 1), padding=(1, 1), bias=False)\n",
      "      (bn2): BatchNorm2d(128, eps=1e-05, momentum=0.1, affine=True, track_running_stats=True)\n",
      "      (downsample): Sequential(\n",
      "        (0): Conv2d(64, 128, kernel_size=(1, 1), stride=(2, 2), bias=False)\n",
      "        (1): BatchNorm2d(128, eps=1e-05, momentum=0.1, affine=True, track_running_stats=True)\n",
      "      )\n",
      "    )\n",
      "    (1): BasicBlock(\n",
      "      (conv1): Conv2d(128, 128, kernel_size=(3, 3), stride=(1, 1), padding=(1, 1), bias=False)\n",
      "      (bn1): BatchNorm2d(128, eps=1e-05, momentum=0.1, affine=True, track_running_stats=True)\n",
      "      (relu): ReLU(inplace=True)\n",
      "      (conv2): Conv2d(128, 128, kernel_size=(3, 3), stride=(1, 1), padding=(1, 1), bias=False)\n",
      "      (bn2): BatchNorm2d(128, eps=1e-05, momentum=0.1, affine=True, track_running_stats=True)\n",
      "    )\n",
      "  )\n",
      "  (layer3): Sequential(\n",
      "    (0): BasicBlock(\n",
      "      (conv1): Conv2d(128, 256, kernel_size=(3, 3), stride=(2, 2), padding=(1, 1), bias=False)\n",
      "      (bn1): BatchNorm2d(256, eps=1e-05, momentum=0.1, affine=True, track_running_stats=True)\n",
      "      (relu): ReLU(inplace=True)\n",
      "      (conv2): Conv2d(256, 256, kernel_size=(3, 3), stride=(1, 1), padding=(1, 1), bias=False)\n",
      "      (bn2): BatchNorm2d(256, eps=1e-05, momentum=0.1, affine=True, track_running_stats=True)\n",
      "      (downsample): Sequential(\n",
      "        (0): Conv2d(128, 256, kernel_size=(1, 1), stride=(2, 2), bias=False)\n",
      "        (1): BatchNorm2d(256, eps=1e-05, momentum=0.1, affine=True, track_running_stats=True)\n",
      "      )\n",
      "    )\n",
      "    (1): BasicBlock(\n",
      "      (conv1): Conv2d(256, 256, kernel_size=(3, 3), stride=(1, 1), padding=(1, 1), bias=False)\n",
      "      (bn1): BatchNorm2d(256, eps=1e-05, momentum=0.1, affine=True, track_running_stats=True)\n",
      "      (relu): ReLU(inplace=True)\n",
      "      (conv2): Conv2d(256, 256, kernel_size=(3, 3), stride=(1, 1), padding=(1, 1), bias=False)\n",
      "      (bn2): BatchNorm2d(256, eps=1e-05, momentum=0.1, affine=True, track_running_stats=True)\n",
      "    )\n",
      "  )\n",
      "  (layer4): Sequential(\n",
      "    (0): BasicBlock(\n",
      "      (conv1): Conv2d(256, 512, kernel_size=(3, 3), stride=(2, 2), padding=(1, 1), bias=False)\n",
      "      (bn1): BatchNorm2d(512, eps=1e-05, momentum=0.1, affine=True, track_running_stats=True)\n",
      "      (relu): ReLU(inplace=True)\n",
      "      (conv2): Conv2d(512, 512, kernel_size=(3, 3), stride=(1, 1), padding=(1, 1), bias=False)\n",
      "      (bn2): BatchNorm2d(512, eps=1e-05, momentum=0.1, affine=True, track_running_stats=True)\n",
      "      (downsample): Sequential(\n",
      "        (0): Conv2d(256, 512, kernel_size=(1, 1), stride=(2, 2), bias=False)\n",
      "        (1): BatchNorm2d(512, eps=1e-05, momentum=0.1, affine=True, track_running_stats=True)\n",
      "      )\n",
      "    )\n",
      "    (1): BasicBlock(\n",
      "      (conv1): Conv2d(512, 512, kernel_size=(3, 3), stride=(1, 1), padding=(1, 1), bias=False)\n",
      "      (bn1): BatchNorm2d(512, eps=1e-05, momentum=0.1, affine=True, track_running_stats=True)\n",
      "      (relu): ReLU(inplace=True)\n",
      "      (conv2): Conv2d(512, 512, kernel_size=(3, 3), stride=(1, 1), padding=(1, 1), bias=False)\n",
      "      (bn2): BatchNorm2d(512, eps=1e-05, momentum=0.1, affine=True, track_running_stats=True)\n",
      "    )\n",
      "  )\n",
      "  (avgpool): AdaptiveAvgPool2d(output_size=(1, 1))\n",
      "  (fc): Linear(in_features=512, out_features=2, bias=True)\n",
      ")\n"
     ]
    }
   ],
   "source": [
    "# Hint \n",
    "base_model.fc = nn.Linear(512, 2)\n",
    "print(base_model)"
   ]
  },
  {
   "cell_type": "code",
   "execution_count": 5,
   "metadata": {
    "cell_ktag": "Qxep+GiJD8N7"
   },
   "outputs": [],
   "source": [
    "assert (\n",
    "    base_model.fc.out_features == 2\n",
    ")  # we could also change the last layer to have 1 output. Do it with 2 so that it matches our tests procedure during grading."
   ]
  },
  {
   "cell_type": "markdown",
   "metadata": {
    "cell_ktag": "Qxep+GiJD8N7"
   },
   "source": [
    "## Question 2: \n",
    "> Train the last layer of a randomly initialized resnet model. Provide a function precompute_features in `utils.py` that creates a new dataset from the features precomputed by the model.\n",
    "\n",
    "Intermediate question :  Provide the training process in the notebook with training curve. Comment on the accuracy. "
   ]
  },
  {
   "cell_type": "code",
   "execution_count": 6,
   "metadata": {
    "cell_ktag": "Qxep+GiJD8N7"
   },
   "outputs": [
    {
     "name": "stderr",
     "output_type": "stream",
     "text": [
      "<>:9: SyntaxWarning: invalid escape sequence '\\c'\n",
      "<>:9: SyntaxWarning: invalid escape sequence '\\c'\n",
      "/var/folders/_y/2rw4wkns73v1mc9wlr3l0k_h0000gn/T/ipykernel_53424/692256572.py:9: SyntaxWarning: invalid escape sequence '\\c'\n",
      "  \"\"\"\n"
     ]
    }
   ],
   "source": [
    "from copy import deepcopy\n",
    "from torch.utils.data import DataLoader\n",
    "\n",
    "def precompute_features(\n",
    "    model: models.ResNet, \n",
    "    dataset: torch.utils.data.Dataset, \n",
    "    device: torch.device\n",
    ") -> torch.utils.data.Dataset:\n",
    "    \"\"\"\n",
    "    Create a new dataset with the features precomputed by the model.\n",
    "\n",
    "    If the model is $f \\circ g$ where $f$ is the last layer and $g$ is \n",
    "    the rest of the model, it is not necessary to recompute $g(x)$ at \n",
    "    each epoch as $g$ is fixed. Hence you can precompute $g(x)$ and \n",
    "    create a new dataset \n",
    "    $\\mathcal{X}_{\\text{train}}' = \\{(g(x_n),y_n)\\}_{n\\leq N_{\\text{train}}}$\n",
    "\n",
    "    Arguments:\n",
    "    ----------\n",
    "    model: models.ResNet\n",
    "        The model used to precompute the features\n",
    "    dataset: torch.utils.data.Dataset\n",
    "        The dataset to precompute the features from\n",
    "    device: torch.device\n",
    "        The device to use for the computation\n",
    "    \n",
    "    Returns:\n",
    "    --------\n",
    "    torch.utils.data.Dataset\n",
    "        The new dataset with the features precomputed\n",
    "    \"\"\"\n",
    "    # dataset is small so we can use a single batch\n",
    "    dataloader = DataLoader(dataset, batch_size=len(dataset))\n",
    "    model.to(device)\n",
    "\n",
    "    data = next(iter(dataloader))[0]\n",
    "    features = model(data)\n",
    "    targets = next(iter(dataloader))[1] \n",
    "\n",
    "    features_dataset = torch.utils.data.TensorDataset(features, targets)\n",
    "\n",
    "    return features_dataset"
   ]
  },
  {
   "cell_type": "code",
   "execution_count": 28,
   "metadata": {
    "cell_ktag": "Qxep+GiJD8N7"
   },
   "outputs": [
    {
     "name": "stdout",
     "output_type": "stream",
     "text": [
      "Features precomputeddddddd\n",
      "Features precomputeddddddd\n",
      "tensor([ 0.2650, -0.2349], grad_fn=<ViewBackward0>)\n",
      "Epoch 1, train loss: 2.2991161346435547, test loss: 3.254562944173813, accuracy: 0.5\n",
      "Epoch 2, train loss: 1.8728781938552856, test loss: 2.2673128843307495, accuracy: 0.5\n",
      "Epoch 3, train loss: 1.937981128692627, test loss: 2.164994955062866, accuracy: 0.5\n",
      "Epoch 4, train loss: 1.9056107997894287, test loss: 2.5783703923225403, accuracy: 0.5\n",
      "Epoch 5, train loss: 1.7012099623680115, test loss: 2.7867428362369537, accuracy: 0.5\n",
      "Epoch 6, train loss: 1.6435931026935577, test loss: 2.7400895953178406, accuracy: 0.5\n",
      "Epoch 7, train loss: 1.7034340500831604, test loss: 2.6593831181526184, accuracy: 0.5\n",
      "Epoch 8, train loss: 1.6204766929149628, test loss: 2.4619611501693726, accuracy: 0.5\n",
      "Epoch 9, train loss: 1.6144521236419678, test loss: 2.370186597108841, accuracy: 0.5\n",
      "Epoch 10, train loss: 1.5923237204551697, test loss: 2.443165749311447, accuracy: 0.5\n",
      "Epoch 11, train loss: 1.567670613527298, test loss: 2.4355383217334747, accuracy: 0.5\n",
      "Epoch 12, train loss: 1.4855002760887146, test loss: 2.440212070941925, accuracy: 0.5\n",
      "Epoch 13, train loss: 1.4398033320903778, test loss: 2.5079964697360992, accuracy: 0.5\n",
      "Epoch 14, train loss: 1.577629804611206, test loss: 2.7197576612234116, accuracy: 0.5\n",
      "Epoch 15, train loss: 1.4241190552711487, test loss: 2.5302308201789856, accuracy: 0.4761904776096344\n",
      "Epoch 16, train loss: 1.5081080198287964, test loss: 2.4018024802207947, accuracy: 0.4761904776096344\n",
      "Epoch 17, train loss: 1.4255319833755493, test loss: 2.2429912090301514, accuracy: 0.5\n",
      "Epoch 18, train loss: 1.4082215428352356, test loss: 2.2105548083782196, accuracy: 0.5\n",
      "Epoch 19, train loss: 1.3766025602817535, test loss: 2.3748681843280792, accuracy: 0.4523809552192688\n",
      "Epoch 20, train loss: 1.4249419271945953, test loss: 2.808291330933571, accuracy: 0.4761904776096344\n",
      "Epoch 21, train loss: 1.4242496490478516, test loss: 2.731605052947998, accuracy: 0.4761904776096344\n",
      "Epoch 22, train loss: 1.401751309633255, test loss: 2.3698630928993225, accuracy: 0.5\n",
      "Epoch 23, train loss: 1.3253422975540161, test loss: 2.1147435009479523, accuracy: 0.5714285969734192\n",
      "Epoch 24, train loss: 1.3473032116889954, test loss: 2.1830415427684784, accuracy: 0.5\n",
      "Epoch 25, train loss: 1.2881764471530914, test loss: 2.523528754711151, accuracy: 0.4523809552192688\n",
      "Epoch 26, train loss: 1.192078024148941, test loss: 2.769034504890442, accuracy: 0.4523809552192688\n",
      "Epoch 27, train loss: 1.3682115077972412, test loss: 2.8870943933725357, accuracy: 0.4761904776096344\n",
      "Epoch 28, train loss: 1.247490406036377, test loss: 2.5003800988197327, accuracy: 0.4523809552192688\n",
      "Epoch 29, train loss: 1.1907638907432556, test loss: 2.2837717533111572, accuracy: 0.5\n",
      "Epoch 30, train loss: 1.1920370757579803, test loss: 2.3233302235603333, accuracy: 0.5\n"
     ]
    }
   ],
   "source": [
    "import utils\n",
    "import importlib\n",
    "importlib.reload(utils)\n",
    "from utils import precompute_features\n",
    "\n",
    "features_model = deepcopy(base_model)\n",
    "features_model.fc = nn.Identity()\n",
    "\n",
    "features_dataset = precompute_features(features_model, north_dataset, device)\n",
    "features_dataloader = DataLoader(features_dataset, batch_size=16, shuffle=True)\n",
    "\n",
    "test_features_dataset = precompute_features(features_model, test_dataset, device)\n",
    "test_features_dataloader = DataLoader(test_features_dataset, batch_size=16)\n",
    "\n",
    "last_layer = nn.Sequential(nn.Linear(512, 2))\n",
    "\n",
    "print(last_layer(features_dataset[0][0]))\n",
    "last_layer(features_dataset[0][0].unsqueeze(0))\n",
    "\n",
    "n_epochs = 30\n",
    "loss_fn = nn.CrossEntropyLoss()\n",
    "optimizer = torch.optim.Adam(last_layer.parameters(), lr=1e-3)\n",
    "\n",
    "for i in range(n_epochs):\n",
    "    train_loss = 0\n",
    "    test_loss = 0\n",
    "    correct = 0\n",
    "    for features, targets in features_dataloader:\n",
    "        optimizer.zero_grad()\n",
    "        y_pred = last_layer(features)\n",
    "        loss = loss_fn(y_pred, targets)\n",
    "        loss.backward()\n",
    "        train_loss += loss.item()\n",
    "        optimizer.step()\n",
    "    \n",
    "    with torch.no_grad():\n",
    "        for features, targets in test_features_dataloader:\n",
    "            y_pred = last_layer(features)\n",
    "            loss = loss_fn(y_pred, targets)\n",
    "            test_loss += loss.item()\n",
    "            correct += (torch.argmax(y_pred, dim=1) == torch.argmax(targets, dim=1)).sum()\n",
    "    \n",
    "    print(f\"Epoch {i+1}, train loss: {train_loss}, test loss: {test_loss}, accuracy: {correct/len(test_dataset)}\") \n",
    "        "
   ]
  },
  {
   "cell_type": "markdown",
   "metadata": {
    "cell_ktag": "Qxep+GiJD8N7"
   },
   "source": [
    "<div class=\"alert alert-info\">  Example of answer  </div>"
   ]
  },
  {
   "cell_type": "markdown",
   "metadata": {
    "cell_ktag": "Qxep+GiJD8N7"
   },
   "source": [
    "## Question 3 : \n",
    "> Now start from a pretained model on Imagenet (https://pytorch.org/vision/stable/models.html#) and only train the last layer. Provide the training process in the notebook with training curve. \n",
    "\n",
    " Provide two files : (https://pytorch.org/tutorials/beginner/saving_loading_models.html)\n",
    " -  a file  `utils.py` containing only the last layer class `LastLayer` inheriting from `torch.nn.Module` architecture of your final model to load\n",
    " -  a `last_layer_finetune.pth` file containing __only the last layer weights__ ( we will check the size) \n",
    " \n",
    " We will test your model on final accuracy on a test set. \n",
    " "
   ]
  },
  {
   "cell_type": "code",
   "execution_count": 8,
   "metadata": {
    "cell_ktag": "Qxep+GiJD8N7"
   },
   "outputs": [],
   "source": [
    "torch.save(base_model.fc.state_dict(), \"lastlayer.pth\")"
   ]
  },
  {
   "cell_type": "code",
   "execution_count": 9,
   "metadata": {
    "cell_ktag": "Qxep+GiJD8N7"
   },
   "outputs": [
    {
     "ename": "ImportError",
     "evalue": "cannot import name 'LastLayer' from 'utils' (/Users/matthieuneau/Desktop/Centrale/DLP/practice-labs/utils.py)",
     "output_type": "error",
     "traceback": [
      "\u001b[31m---------------------------------------------------------------------------\u001b[39m",
      "\u001b[31mImportError\u001b[39m                               Traceback (most recent call last)",
      "\u001b[36mCell\u001b[39m\u001b[36m \u001b[39m\u001b[32mIn[9]\u001b[39m\u001b[32m, line 1\u001b[39m\n\u001b[32m----> \u001b[39m\u001b[32m1\u001b[39m \u001b[38;5;28;01mfrom\u001b[39;00m\u001b[38;5;250m \u001b[39m\u001b[34;01mutils\u001b[39;00m\u001b[38;5;250m \u001b[39m\u001b[38;5;28;01mimport\u001b[39;00m LastLayer\n\u001b[32m      4\u001b[39m resnet = models.resnet18(weights=\u001b[33m\"\u001b[39m\u001b[33mDEFAULT\u001b[39m\u001b[33m\"\u001b[39m)\n\u001b[32m      5\u001b[39m fc = LastLayer()  \u001b[38;5;66;03m# !  Important : No argument\u001b[39;00m\n",
      "\u001b[31mImportError\u001b[39m: cannot import name 'LastLayer' from 'utils' (/Users/matthieuneau/Desktop/Centrale/DLP/practice-labs/utils.py)"
     ]
    }
   ],
   "source": [
    "from utils import LastLayer\n",
    "\n",
    "\n",
    "resnet = models.resnet18(weights=\"DEFAULT\")\n",
    "fc = LastLayer()  # !  Important : No argument\n",
    "fc.load_state_dict(torch.load(\"lastlayer.pth\", weights_only=True))\n",
    "resnet.fc = fc\n",
    "resnet.eval()\n"
   ]
  },
  {
   "cell_type": "markdown",
   "metadata": {
    "cell_ktag": "Qxep+GiJD8N7"
   },
   "source": [
    "## Question 4 : \n",
    "> Perform  LoRA https://arxiv.org/pdf/2106.09685  on the model  (We are perfectly fine if you use an external library **for this question only**, and of course use it in the next questions). (Warning : without data augmentation it may not improve the accuracy.)\n",
    "\n",
    "Intermediate question : Describe LoRA. There are different ways of implementing LoRa for convolutions. You can choose your preferred one. Explain the version of LoRa you used, provide a drawing of the process in the `drawing_lora.png` file. (Hint: you can obtain a small rank convolution by combining a convolution and a 1x1 convolution. One of the two goes from a higher number of channels to a lower number of channels and the other one restores the number of channels.)"
   ]
  },
  {
   "cell_type": "code",
   "execution_count": null,
   "metadata": {
    "cell_ktag": "Qxep+GiJD8N7"
   },
   "outputs": [],
   "source": [
    "torch.save(lora_model.state_dict(), \"lora_resnet.pth\")"
   ]
  },
  {
   "cell_type": "markdown",
   "metadata": {
    "cell_ktag": "Qxep+GiJD8N7"
   },
   "source": [
    "## Question 5 : \n",
    "In order to better train our LORA weights, let's do some Data Augmentation https://en.wikipedia.org/wiki/Data_augmentation . Load some alteration of the data from the `torchvision.transforms` module and incorporate them in your training pipeline.\n",
    "\n",
    " Intermediate question : Check CutMix  (https://pytorch.org/vision/stable/auto_examples/transforms/plot_cutmix_mixup.html#sphx-glr-auto-examples-transforms-plot-cutmix-mixup-py) and explain it with a small drawing `cutmix.png`. \n",
    "\n",
    "\n",
    "  Provide one file : (https://pytorch.org/tutorials/beginner/saving_loading_models.html)\n",
    " -  a `daug_resnet.pth` file containing the weight of the ResNet18 after DAUG  (  !  It  has to be of the class ResNet so you have to merge LoRA weights with the ResNet18 weights)"
   ]
  },
  {
   "cell_type": "code",
   "execution_count": null,
   "metadata": {
    "cell_ktag": "Qxep+GiJD8N7"
   },
   "outputs": [],
   "source": [
    "## Data Augmentation\n",
    "from torchvision.transforms import v2"
   ]
  },
  {
   "cell_type": "code",
   "execution_count": null,
   "metadata": {
    "cell_ktag": "Qxep+GiJD8N7"
   },
   "outputs": [],
   "source": [
    "lora_model = NotImplementedError  # <YOUR CODE>\n",
    "assert isinstance(lora_model, models.ResNet)"
   ]
  },
  {
   "cell_type": "code",
   "execution_count": null,
   "metadata": {
    "cell_ktag": "Qxep+GiJD8N7"
   },
   "outputs": [],
   "source": [
    "torch.save(lora_model.state_dict(), \"daug_resnet.pth\")"
   ]
  },
  {
   "cell_type": "markdown",
   "metadata": {
    "cell_ktag": "Qxep+GiJD8N7"
   },
   "source": [
    "## Question 6 : (BONUS) \n",
    "> Do the best you can : improve performance on test set while keeping ResNet 18 architecture, or decrease the size of the model\n",
    "\n",
    "Provide a file  `final_model.pth` containing the weights of the final model and provide the class `FinalModel()` in the `utils.py` file. "
   ]
  },
  {
   "cell_type": "markdown",
   "metadata": {
    "cell_ktag": "Qxep+GiJD8N7"
   },
   "source": []
  }
 ],
 "metadata": {
  "kernelspec": {
   "display_name": "practice-labs-lU_vlk8p-py3.12",
   "language": "python",
   "name": "python3"
  },
  "kfiletag": "Qxep+GiJD8N7",
  "language_info": {
   "codemirror_mode": {
    "name": "ipython",
    "version": 3
   },
   "file_extension": ".py",
   "mimetype": "text/x-python",
   "name": "python",
   "nbconvert_exporter": "python",
   "pygments_lexer": "ipython3",
   "version": "3.12.8"
  }
 },
 "nbformat": 4,
 "nbformat_minor": 2
}
